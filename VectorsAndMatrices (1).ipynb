{
 "cells": [
  {
   "cell_type": "markdown",
   "metadata": {
    "id": "M7g7bxFCHxGP"
   },
   "source": [
    "$${\\color{yellow}{\\text{Applied Linear Algebra: Vectors and Matrices}}}$$\n",
    "\n"
   ]
  },
  {
   "cell_type": "markdown",
   "metadata": {
    "id": "H6RvcDldxHPO"
   },
   "source": [
    "---\n",
    "\n",
    "Restart the session after executing the following cell\n",
    "\n",
    "---"
   ]
  },
  {
   "cell_type": "markdown",
   "metadata": {
    "id": "jDK9fC6uiBGE"
   },
   "source": [
    "---\n",
    "\n",
    "Load essential libraries\n",
    "\n",
    "---"
   ]
  },
  {
   "cell_type": "code",
   "execution_count": 1,
   "metadata": {
    "id": "20W0d4ruQjE4"
   },
   "outputs": [],
   "source": [
    "import numpy as np\n",
    "import pandas as pd\n",
    "import torch\n",
    "import matplotlib.pyplot as plt\n",
    "plt.style.use('dark_background')\n",
    "%matplotlib inline\n",
    "import sys\n",
    "from sklearn.preprocessing import StandardScaler, OneHotEncoder, MinMaxScaler\n",
    "import nltk\n",
    "# import gensim.downloader\n",
    "from nltk.tokenize import word_tokenize\n",
    "import yfinance as yf\n",
    "import seaborn as sns"
   ]
  },
  {
   "cell_type": "markdown",
   "metadata": {
    "id": "sfYXkqmLiVLM"
   },
   "source": [
    "---\n",
    "\n",
    "Mount Google Drive folder if running Google Colab\n",
    "\n",
    "---"
   ]
  },
  {
   "cell_type": "code",
   "execution_count": 2,
   "metadata": {
    "colab": {
     "base_uri": "https://localhost:8080/"
    },
    "executionInfo": {
     "elapsed": 24324,
     "status": "ok",
     "timestamp": 1755751364223,
     "user": {
      "displayName": "Tushar Raj",
      "userId": "04399146470560759060"
     },
     "user_tz": -330
    },
    "id": "VYzBBBxqiaGa",
    "outputId": "2f66da23-3b03-478f-e4c5-819a80aa751e"
   },
   "outputs": [],
   "source": [
    "## Mount Google drive folder if running in Colab   /content/drive/MyDrive/Colab Notebooks/ALA/data/temperature (1).csv\n",
    "if('google.colab' in sys.modules):\n",
    "    from google.colab import drive\n",
    "    drive.mount('/content/drive', force_remount = True)\n",
    "    DIR = '/content/drive/MyDrive/Colab Notebooks/ALA'\n",
    "    DATA_DIR = DIR+'/data/'\n",
    "else:\n",
    "    DATA_DIR = 'data/'"
   ]
  },
  {
   "cell_type": "markdown",
   "metadata": {
    "id": "avVZ6D1ZgEUT"
   },
   "source": [
    "---\n",
    "\n",
    "**We will now use Pytorch to create tensors**\n",
    "\n",
    "The patient data matrix:\n",
    "\n",
    "![patient data matrix](https://1drv.ms/i/s!AjTcbXuSD3I3hsxIkL4V93-CGq8RkQ?embed=1&width=1000)\n",
    "\n",
    "**Notation**:\n",
    "\n",
    "Zeroth patient vector $\\mathbf{x}^{(0)}= \\begin{bmatrix}72\\\\120\\\\37.3\\\\104\\\\32.5\\end{bmatrix}$ and zeroth feature (heart rate vector) $\\mathbf{x}_0 = \\begin{bmatrix}72\\\\85\\\\68\\\\90\\\\84\\\\78\\end{bmatrix}.$\n",
    "\n",
    "---\n",
    "\n"
   ]
  },
  {
   "cell_type": "code",
   "execution_count": 3,
   "metadata": {
    "colab": {
     "base_uri": "https://localhost:8080/"
    },
    "executionInfo": {
     "elapsed": 295,
     "status": "ok",
     "timestamp": 1755780011560,
     "user": {
      "displayName": "Tushar Raj",
      "userId": "04399146470560759060"
     },
     "user_tz": -330
    },
    "id": "zrPnepAEvr0O",
    "outputId": "19434b65-ea64-4adb-bdd1-b1fd292fed32"
   },
   "outputs": [
    {
     "name": "stdout",
     "output_type": "stream",
     "text": [
      "tensor([[ 72.0000, 120.0000,  37.3000, 104.0000,  32.5000],\n",
      "        [ 85.0000, 130.0000,  37.0000, 110.0000,  14.0000],\n",
      "        [ 68.0000, 110.0000,  38.5000, 125.0000,  34.0000],\n",
      "        [ 90.0000, 140.0000,  38.0000, 130.0000,  26.0000],\n",
      "        [ 84.0000, 132.0000,  38.3000, 146.0000,  30.0000],\n",
      "        [ 78.0000, 128.0000,  37.2000, 102.0000,  12.0000]])\n",
      "torch.Size([6, 5])\n",
      "<class 'torch.Tensor'>\n",
      "tensor([ 72.0000, 120.0000,  37.3000, 104.0000,  32.5000])\n",
      "tensor([ 72.0000, 120.0000,  37.3000, 104.0000,  32.5000])\n",
      "------------\n",
      "tensor(37.3000)\n",
      "tensor([37.3000, 37.0000, 38.5000, 38.0000, 38.3000, 37.2000])\n"
     ]
    }
   ],
   "source": [
    "## Create a patient data matrix as a constant tensor\n",
    "X = torch.tensor([[72, 120, 37.3, 104, 32.5],\n",
    "                  [85, 130, 37.0, 110, 14],\n",
    "                  [68, 110, 38.5, 125, 34],\n",
    "                  [90, 140, 38.0, 130, 26],\n",
    "                  [84, 132, 38.3, 146, 30],\n",
    "                  [78, 128, 37.2, 102, 12]])\n",
    "print(X)\n",
    "print(X.shape)\n",
    "print(type(X))\n",
    "print(X[0]) # this is patient-0 information which is a rank-1 tensor\n",
    "print(X[0, :]) # patient-0 all features\n",
    "print('------------')\n",
    "print(X[0, 2]) # feature-2 of patient-0, temperature of patient-0\n",
    "print(X[:, 2]) # feature-2 of all patients, temperature of all patients"
   ]
  },
  {
   "cell_type": "markdown",
   "metadata": {
    "id": "cevtn_b4gek5"
   },
   "source": [
    "---\n",
    "\n",
    "**Convert a PyTorch object into a numpy array**\n",
    "\n",
    "---"
   ]
  },
  {
   "cell_type": "code",
   "execution_count": 4,
   "metadata": {
    "id": "JrYQ2moygfPu"
   },
   "outputs": [
    {
     "name": "stdout",
     "output_type": "stream",
     "text": [
      "[[ 72.  120.   37.3 104.   32.5]\n",
      " [ 85.  130.   37.  110.   14. ]\n",
      " [ 68.  110.   38.5 125.   34. ]\n",
      " [ 90.  140.   38.  130.   26. ]\n",
      " [ 84.  132.   38.3 146.   30. ]\n",
      " [ 78.  128.   37.2 102.   12. ]]\n",
      "<class 'numpy.ndarray'>\n"
     ]
    }
   ],
   "source": [
    "print(X.numpy())\n",
    "print(type(X.numpy()))"
   ]
  },
  {
   "cell_type": "markdown",
   "metadata": {
    "id": "QS3MmzwsgkWU"
   },
   "source": [
    "---\n",
    "\n",
    "**Addition and subtraction of vectors, scalar multiplication (apply operation componentwise)**\n",
    "\n",
    "![vector addition](https://1drv.ms/i/c/37720f927b6ddc34/IQQ03G17kg9yIIA3NokBAAAAAZLAaAoWwhtn8Vk26NotALo?width=256)\n",
    "\n",
    "![vector subtracton](https://1drv.ms/i/c/37720f927b6ddc34/IQQ03G17kg9yIIA3M4kBAAAAAU_n_mAEv006QFZm_sUj2Dc?width=256)\n",
    "\n",
    "![vector multiplication](https://1drv.ms/i/c/37720f927b6ddc34/IQQ03G17kg9yIIA3NIkBAAAAAa_qL04bLT4kWoNeHcrR9LQ?width=256)\n",
    "\n",
    "![vector geometry1](https://1drv.ms/i/c/37720f927b6ddc34/IQSGNMr5z3SSRry7LSKL7LybAcGYuzgw5smabV8-6DudXIs?width=230)\n",
    "\n",
    "![vector geometry2](https://1drv.ms/i/c/37720f927b6ddc34/IQQ03G17kg9yIIA3WokBAAAAAQi8FPV9YCebl5WnyEKJ3vg?width=213&height=192)\n",
    "\n",
    "\n",
    "---"
   ]
  },
  {
   "cell_type": "code",
   "execution_count": 5,
   "metadata": {
    "id": "TgPtJP0sglQP"
   },
   "outputs": [
    {
     "name": "stdout",
     "output_type": "stream",
     "text": [
      "tensor([153.0000, 240.0000,  75.5000, 235.0000,  48.0000])\n",
      "tensor([ 17.0000,  20.0000,  -1.5000, -15.0000, -20.0000])\n",
      "tensor([37.3000, 37.0000, 38.5000, 38.0000, 38.3000, 37.2000])\n",
      "tensor([ 99.1400,  98.6000, 101.3000, 100.4000, 100.9400,  98.9600])\n",
      "tensor([[ 72.0000, 120.0000,  37.3000, 104.0000,  32.5000],\n",
      "        [ 85.0000, 130.0000,  37.0000, 110.0000,  14.0000],\n",
      "        [ 68.0000, 110.0000,  38.5000, 125.0000,  34.0000],\n",
      "        [ 90.0000, 140.0000,  38.0000, 130.0000,  26.0000],\n",
      "        [ 84.0000, 132.0000,  38.3000, 146.0000,  30.0000],\n",
      "        [ 78.0000, 128.0000,  37.2000, 102.0000,  12.0000]])\n",
      "tensor([ 79.5000, 126.6667,  37.7167, 119.5000,  24.7500])\n",
      "tensor([[ -7.5000,  -6.6667,  -0.4167, -15.5000,   7.7500],\n",
      "        [  5.5000,   3.3333,  -0.7167,  -9.5000, -10.7500],\n",
      "        [-11.5000, -16.6667,   0.7833,   5.5000,   9.2500],\n",
      "        [ 10.5000,  13.3333,   0.2833,  10.5000,   1.2500],\n",
      "        [  4.5000,   5.3333,   0.5833,  26.5000,   5.2500],\n",
      "        [ -1.5000,   1.3333,  -0.5167, -17.5000, -12.7500]])\n"
     ]
    }
   ],
   "source": [
    "# Vector addition\n",
    "print(X[1, :] + X[2, :])\n",
    "\n",
    "# Vector subtraction\n",
    "print(X[1, :] - X[2, :])\n",
    "\n",
    "# Scalar-vector multiplication\n",
    "print(X[:, 2])\n",
    "print((9/5)*X[:, 2]+32) # 0peration not defined in pen & paper but in computation is referred to as\n",
    "# broadcasting\n",
    "\n",
    "# Average patient\n",
    "x_avg = (1/6)*(X[0, :] + X[1, :] + X[2, :] + X[3, :] + X[4, :] + X[5, :])\n",
    "x_avg = torch.mean(X, dim = 0) # dim = 0 means top-to-bottom or along dim-0\n",
    "\n",
    "# Another broadcasting example\n",
    "print(X)\n",
    "print(x_avg)\n",
    "print(X - x_avg)"
   ]
  },
  {
   "cell_type": "markdown",
   "metadata": {
    "id": "1t_qXrlCROKA"
   },
   "source": [
    "---\n",
    "\n",
    "Application of vector subtraction in natural language processing (NLP): download the word embedding model trained on Wikipedia articles.\n",
    "\n",
    "---"
   ]
  },
  {
   "cell_type": "code",
   "execution_count": 8,
   "metadata": {
    "id": "_e13FnW0RUwy"
   },
   "outputs": [
    {
     "ename": "NameError",
     "evalue": "name 'gensim' is not defined",
     "output_type": "error",
     "traceback": [
      "\u001b[31m---------------------------------------------------------------------------\u001b[39m",
      "\u001b[31mNameError\u001b[39m                                 Traceback (most recent call last)",
      "\u001b[36mCell\u001b[39m\u001b[36m \u001b[39m\u001b[32mIn[8]\u001b[39m\u001b[32m, line 1\u001b[39m\n\u001b[32m----> \u001b[39m\u001b[32m1\u001b[39m model = \u001b[43mgensim\u001b[49m.downloader.load(\u001b[33m'\u001b[39m\u001b[33mglove-wiki-gigaword-50\u001b[39m\u001b[33m'\u001b[39m)\n",
      "\u001b[31mNameError\u001b[39m: name 'gensim' is not defined"
     ]
    }
   ],
   "source": [
    "model = gensim.downloader.load('glove-wiki-gigaword-50')"
   ]
  },
  {
   "cell_type": "markdown",
   "metadata": {
    "id": "7YRVJferRlK5"
   },
   "source": [
    "---\n",
    "\n",
    "Now we will see what embedding vector comes as a result of applying the model for the words *cricket* and *football*.\n",
    "\n",
    "Next, we will do an *intuitive* subtraction of word embeddings as in\n",
    "\n",
    "1. Cricket without Tendulkar\n",
    "2. Football without Messi\n",
    "\n",
    "Note that the embedding vectors have 50 components corresponding to the 50-dimensional embedding of model suggested by the name '**glove-wiki-gigaword-50**'\n",
    "\n",
    "---"
   ]
  },
  {
   "cell_type": "code",
   "execution_count": null,
   "metadata": {
    "id": "HVVFzeQyR3Wb"
   },
   "outputs": [],
   "source": [
    "# Cricket without Tendulkar\n",
    "a = model['cricket'] - model['tendulkar']\n",
    "\n",
    "# Football without Messi\n",
    "b = model['football'] - model['messi']\n",
    "print(a)\n",
    "print(b)\n",
    "\n",
    "# How different is cricket-without-tendulkar from\n",
    "# football-without-messi?\n",
    "print(a-b)"
   ]
  },
  {
   "cell_type": "markdown",
   "metadata": {
    "id": "O6nbdX9IAYu6"
   },
   "source": [
    "---\n",
    "\n",
    "Understanding pen & paper versions of tensors w.r.t. their representations in the code\n",
    "\n",
    "---"
   ]
  },
  {
   "cell_type": "code",
   "execution_count": null,
   "metadata": {
    "id": "WhYNdr8DAj2V"
   },
   "outputs": [],
   "source": [
    "# Pen & paper: 3-vector, Code: rank-1 tensor\n",
    "a_vector = torch.tensor([1.0, 2.0, 3.0], dtype = torch.float64)\n",
    "print(a_vector)\n",
    "print(a_vector.shape)\n",
    "print('-------')\n",
    "# Pen & paper: 1x3-matrix, Code: rank-2 tensor\n",
    "a_matrix_version1 = torch.tensor([[1.0, 2.0, 3.0]], dtype = torch.float64)\n",
    "print(a_matrix_version1)\n",
    "print(a_matrix_version1.shape)\n",
    "# Pen & paper: 3x1-matrix, Code: rank-2 tensor\n",
    "a_matrix_version2 = torch.tensor([[1.0], [2.0], [3.0]], dtype = torch.float64)\n",
    "print(a_matrix_version2)\n",
    "print(a_matrix_version2.shape)"
   ]
  },
  {
   "cell_type": "markdown",
   "metadata": {
    "id": "8VPICS8ggvvg"
   },
   "source": [
    "---\n",
    "\n",
    "A tensor of rank 3 corresponding to 4 time stamps (hourly), 3 samples (patients), 2 features (HR and BP). Assume that admission time is 9AM.\n",
    "\n",
    "---"
   ]
  },
  {
   "cell_type": "code",
   "execution_count": null,
   "metadata": {
    "id": "yQAvgkRkWAM8"
   },
   "outputs": [],
   "source": [
    "# A rank-3 patient tensor with shape (4, 3, 2)\n",
    "# with meaning for\n",
    "# dim-0 as 4 hourly timestamps,\n",
    "# dim-1 as 3 patients, and\n",
    "# dim-2 as 2 features (HR and BP)\n",
    "# T = torch.tensor([[[HR, BP], [HR, BP], [HR, BP]],\n",
    "#                   [[HR, BP], [HR, BP], [HR, BP]],\n",
    "#                   [[HR, BP], [HR, BP], [HR, BP]],\n",
    "#                   [[HR, BP], [HR, BP], [HR, BP]]])\n",
    "T = torch.tensor([[[74., 128], [79, 116], [71, 116]],\n",
    "                 [[78, 118], [82, 124], [72, 128]],\n",
    "                 [[84, 138], [84, 130], [74, 120]],\n",
    "                 [[82, 126], [76, 156], [82, 132]]])\n",
    "print(T)"
   ]
  },
  {
   "cell_type": "markdown",
   "metadata": {
    "id": "JV0fpSojg2EZ"
   },
   "source": [
    "---\n",
    "\n",
    "**Accessing elements of a tensor**\n",
    "\n",
    "---"
   ]
  },
  {
   "cell_type": "code",
   "execution_count": null,
   "metadata": {
    "id": "1GbZuDYqg22n"
   },
   "outputs": [],
   "source": [
    "## Accessing elements of a tensor\n",
    "# Rank-3 tensor T has axes order (timestamps, patients, features)\n",
    "\n",
    "# Element of T at postion 3 w.r.t. dim-0, position 2 w.r.t. dim-1,\n",
    "# position-1 w.r.t dim-2\n",
    "print(T[3, 2, 1]) # BP of patient-2 at noon\n",
    "\n",
    "\n",
    "# Element-0 of object T which is also the info for all patients at\n",
    "# admission time 9AM\n",
    "print(T[0]) # patients' info at admission time\n",
    "print(T[-1]) # first element of T from the tail, patients' info at noon\n",
    "\n",
    "\n",
    "# Patient-2 info at noon\n",
    "T[-1, 2]\n"
   ]
  },
  {
   "cell_type": "markdown",
   "metadata": {
    "id": "ekY1yrw62N7T"
   },
   "source": [
    "---\n",
    "\n",
    "Understanding shapes\n",
    "\n",
    "---"
   ]
  },
  {
   "cell_type": "code",
   "execution_count": null,
   "metadata": {
    "id": "SrvQxSe22SUE"
   },
   "outputs": [],
   "source": [
    "#a = torch.tensor([1.0, 2.0, 3.0])\n",
    "#a = torch.tensor([[1.0, 2.0, 3.0]])\n",
    "a = torch.tensor([[[1.0, 2.0, 3.0]]])\n",
    "print(a)\n",
    "print(a.shape)"
   ]
  },
  {
   "cell_type": "markdown",
   "metadata": {
    "id": "SW2_NDTCjIL5"
   },
   "source": [
    "---\n",
    "\n",
    "**Broadcasting**\n",
    "\n",
    "---"
   ]
  },
  {
   "cell_type": "code",
   "execution_count": null,
   "metadata": {
    "id": "1PjnkDnr_qSn"
   },
   "outputs": [],
   "source": [
    "# A simple broadcasting example\n",
    "a = torch.tensor([1.0, 2.0, 3.0])\n",
    "b = torch.tensor([4.0])\n",
    "print(a.shape)\n",
    "print(b.shape)\n",
    "print(a-b)"
   ]
  },
  {
   "cell_type": "code",
   "execution_count": null,
   "metadata": {
    "id": "zhtxw34i_RNt"
   },
   "outputs": [],
   "source": [
    "# How to add a new axis to a tensor using the unsqueeze() function\n",
    "#print(T)\n",
    "#print(T.shape)\n",
    "T_patient0 = T[:, 0, :]\n",
    "print(T_patient0)\n",
    "print(T_patient0.shape)\n",
    "print('---------')\n",
    "T_patient0_new = torch.unsqueeze(T_patient0, 1)\n",
    "print(T_patient0_new)\n",
    "print(T_patient0_new.shape)\n",
    "print('---------')\n",
    "print(T)\n",
    "print(T.shape)"
   ]
  },
  {
   "cell_type": "code",
   "execution_count": null,
   "metadata": {
    "id": "DEPPWVsWjI4X"
   },
   "outputs": [],
   "source": [
    "# How different are the patients from patient-0?\n",
    "#T - T_patient0 # does not work for broadcasting\n",
    "#T - T_patient0\n",
    "\n",
    "# How different are the patients compared to their time at admission\n",
    "T-T_patient0_new"
   ]
  },
  {
   "cell_type": "markdown",
   "metadata": {
    "id": "0o6kEXfCpDzo"
   },
   "source": [
    "---\n",
    "\n",
    "**Exercise**: interpret $\\texttt{T[:, -1, :]}$\n",
    "\n",
    "---"
   ]
  },
  {
   "cell_type": "code",
   "execution_count": null,
   "metadata": {
    "id": "X6lEPZEWo6wo"
   },
   "outputs": [],
   "source": [
    "# Last patient's info at all timestamps\n",
    "T[:, -1, :]"
   ]
  },
  {
   "cell_type": "markdown",
   "metadata": {
    "id": "9Zq396h0_5yB"
   },
   "source": [
    "---\n",
    "\n",
    "Broadcasting exercise\n",
    "\n",
    "---"
   ]
  },
  {
   "cell_type": "code",
   "execution_count": null,
   "metadata": {
    "id": "-PqnqW9Z_-Sb"
   },
   "outputs": [],
   "source": [
    "T = torch.randint(-5, 6, (4, 5, 3))\n",
    "print(T)\n",
    "v = torch.tensor([1.0, 2.0, 3.0])\n",
    "print(v)"
   ]
  },
  {
   "cell_type": "markdown",
   "metadata": {
    "id": "gc9EJuZQhD9i"
   },
   "source": [
    "---\n",
    "\n",
    "$l_2$ norm or the geometric length of a vector denoted as $\\lVert \\mathbf{a}\\rVert$ tells us how long a vector is. In 2-dimensions, $$\\mathbf{a}=\\begin{bmatrix}a_1\\\\a_2\\end{bmatrix}\\Rightarrow \\lVert\\mathbf{a}\\rVert_2 = \\sqrt{a_1^2+a_2^2}$$ and in $n$-dimensions, $$\\mathbf{a}=\\begin{bmatrix}a_1\\\\a_2\\\\\\vdots\\\\a_n\\end{bmatrix}\\Rightarrow\\lVert \\mathbf{a}\\rVert_2 = \\sqrt{a_1^2+a_2^2+\\cdots+a_n^2}.$$\n",
    "\n",
    "![vector norm](https://1drv.ms/i/c/37720f927b6ddc34/IQT817WmpQjlRqZ1R0d5Cfv6AUW6c4robL-gk06i9wmCaFU?width=500)\n",
    "\n",
    "---"
   ]
  },
  {
   "cell_type": "code",
   "execution_count": null,
   "metadata": {
    "id": "OM65UP4_hEso"
   },
   "outputs": [],
   "source": [
    "## l2 norm of a vector\n",
    "x = torch.tensor([76.0, 124.0], dtype = torch.float64)\n",
    "print(x)\n",
    "torch.norm(x)"
   ]
  },
  {
   "cell_type": "markdown",
   "metadata": {
    "id": "SRbanrUmwLX7"
   },
   "source": [
    "\n",
    "---\n",
    "\n",
    "**Dot Product of Vectors**\n",
    "\n",
    "A scalar resulting from an elementwise multiplication and addition: $$\\mathbf{a}{\\color{cyan}\\cdot}\\mathbf{b} = {\\color{red}{a_1b_1}}+{\\color{green}{a_2b_2}}+\\cdots+{\\color{magenta}{a_nb_n}}$$\n",
    "\n",
    "The <font color=\"cyan\">dot</font> ${\\color{cyan}\\cdot}$ represents the computation of the dot product.\n",
    "\n",
    "\n",
    "---"
   ]
  },
  {
   "cell_type": "code",
   "execution_count": null,
   "metadata": {
    "id": "s91XY1JZwU2w"
   },
   "outputs": [],
   "source": [
    "## Dot product of vectors\n",
    "a = torch.tensor([1.0, 2.0, 3.0], dtype = torch.float64)\n",
    "b = torch.tensor([4.0, 5.0, 6.0], dtype = torch.float64)\n",
    "torch.dot(a, b)"
   ]
  },
  {
   "cell_type": "markdown",
   "metadata": {
    "id": "2-b90m-QXyFp"
   },
   "source": [
    "---\n",
    "\n",
    "The dot product is a measure of similarity between vectors (or, how aligned they are geometrically).\n",
    "\n",
    "![dot product](https://1drv.ms/i/c/37720f927b6ddc34/IQTbcGSjdbhSTJ7J39d5BCWAAWS6-y5U6J87vHuDWeAqGwM?width=6000)\n",
    "---"
   ]
  },
  {
   "cell_type": "code",
   "execution_count": null,
   "metadata": {
    "id": "3GxZ95uXXz3P"
   },
   "outputs": [],
   "source": [
    "a = torch.tensor([1.0, 2.0])\n",
    "b = torch.tensor([2.0, 4.0])\n",
    "c = torch.tensor([-2.0, 1.0])\n",
    "d = torch.tensor([-1.0, -2.0])\n",
    "print(torch.dot(a, b))\n",
    "print(torch.dot(a, c))\n",
    "print(torch.dot(a, d))"
   ]
  },
  {
   "cell_type": "markdown",
   "metadata": {
    "id": "U6CS4_8byCs8"
   },
   "source": [
    "---\n",
    "\n",
    "Cauchy-Schwarz inequality $-1\\leq\\frac{\\mathbf{x}\\cdot{\\mathbf{y}}}{\\lVert\\mathbf{x}\\rVert_2\\lVert\\mathbf{y}\\rVert_2}\\leq1.$\n",
    "\n",
    "This is a normalized measure of similarity (or extent of alignment) between vectors.\n",
    "\n",
    "Angle between vectors $\\mathbf{x}$ and $\\mathbf{y} = \\cos^{-1}\\left(\\frac{\\mathbf{x}\\cdot{\\mathbf{y}}}{\\lVert\\mathbf{x}\\rVert_2\\lVert\\mathbf{y}\\rVert_2}\\right).$\n",
    "\n",
    "![angle](https://1drv.ms/i/c/37720f927b6ddc34/IQQ03G17kg9yIIA3WokBAAAAAQi8FPV9YCebl5WnyEKJ3vg?width=213&height=400)\n",
    "\n",
    "\n",
    "---"
   ]
  },
  {
   "cell_type": "code",
   "execution_count": null,
   "metadata": {
    "id": "q4UhBnPUx7TV"
   },
   "outputs": [],
   "source": [
    "x = torch.tensor([1.0, 2.0])\n",
    "y = torch.tensor([2.0, 1.0])\n",
    "\n",
    "# Linear difference between x and y\n",
    "print(torch.norm(x - y))\n",
    "\n",
    "# Angle difference between x and y in radians\n",
    "print(torch.acos(torch.dot(x,y) / (torch.norm(x) * torch.norm(y))))\n",
    "\n",
    "# Angle difference between x and y in degrees\n",
    "print((180.0/torch.pi)*(torch.acos(torch.dot(x,y) / (torch.norm(x) * torch.norm(y)))))"
   ]
  },
  {
   "cell_type": "markdown",
   "metadata": {
    "id": "1bnmEkg3Tctx"
   },
   "source": [
    "---\n",
    "\n",
    "Application of the Cauchy-Schwarz inequality: is \"Cricket without Tendulkar\" same as \"Football without Messi\"?\n",
    "\n",
    "---"
   ]
  },
  {
   "cell_type": "code",
   "execution_count": null,
   "metadata": {
    "id": "KrmCknO5TkNZ"
   },
   "outputs": [],
   "source": [
    "a = torch.tensor(model['cricket'] - model['tendulkar'], dtype = torch.float64)\n",
    "b = torch.tensor(model['football'] - model['messi'], dtype = torch.float64)\n",
    "\n",
    "# Linear difference between and a and b\n",
    "print(torch.norm(a-b))\n",
    "\n",
    "# Angle difference between a and b in radians\n",
    "print(torch.acos(torch.dot(a, b) / (torch.norm(a) * torch.norm(b))))\n",
    "\n",
    "# Angle difference between a and b in degrees\n",
    "print((180.0/torch.pi)*(torch.acos(torch.dot(a, b) / (torch.norm(a) * torch.norm(b)))))"
   ]
  },
  {
   "cell_type": "code",
   "execution_count": null,
   "metadata": {
    "id": "oDD91UnCHmbO"
   },
   "outputs": [],
   "source": [
    "c = torch.tensor(model['soup'] - model['salt'], dtype = torch.float64)\n",
    "\n",
    "# Angle difference between a and b in degrees\n",
    "print((180.0/torch.pi)*(torch.acos(torch.dot(a, b) / (torch.norm(a) * torch.norm(b)))))\n",
    "\n",
    "# Angle difference between a and c in degrees\n",
    "print((180.0/torch.pi)*(torch.acos(torch.dot(a, c) / (torch.norm(a) * torch.norm(c)))))\n",
    "\n",
    "# cricket-without-tendulkar has approximately the same similarity w.r.t.\n",
    "# football-without-messi and tennis-without-federer"
   ]
  },
  {
   "cell_type": "markdown",
   "metadata": {
    "id": "ayzM_0_synRF"
   },
   "source": [
    "\n",
    "---\n",
    "\n",
    "**Hadamard Product of Vectors**\n",
    "\n",
    "A vector resulting from an elementwise multiplication: $$\\mathbf{a}{\\color{cyan}\\otimes}\\mathbf{b} = \\begin{bmatrix}{\\color{red}{a_1\\times b_1}}\\\\{\\color{green}{a_2\\times b_2}}\\\\\\vdots\\\\{\\color{magenta}{a_n\\times b_n}}\\end{bmatrix}.$$\n",
    "\n",
    "The <font color=\"cyan\">$\\otimes$</font> represents the computation of the Hadamard product.\n",
    "\n",
    "---"
   ]
  },
  {
   "cell_type": "code",
   "execution_count": null,
   "metadata": {
    "id": "UPojS0rIzR8p"
   },
   "outputs": [],
   "source": [
    "## Hadamard product\n",
    "a = torch.tensor([1.0, 2.0, 3.0], dtype = torch.float64)\n",
    "b = torch.tensor([4.0, 5.0, 6.0], dtype = torch.float64)\n",
    "\n",
    "# Element-wise multiplication (Hadamard product)\n",
    "print(a*b)\n",
    "print(torch.mul(a, b))"
   ]
  },
  {
   "cell_type": "markdown",
   "metadata": {
    "id": "oruyV_EjhqCR"
   },
   "source": [
    "---\n",
    "\n",
    "A matrix-vector product is simply a sequence of dot products of the rows of the matrix (seen as vectors) with the vector\n",
    "\n",
    "![matvec product](https://1drv.ms/i/c/37720f927b6ddc34/IQQ1cQ8fZdFmS4cnGkBlsZbAAaL2zMtzWdjHe-HCMt4UTA0?width=700)\n",
    "\n",
    "---"
   ]
  },
  {
   "cell_type": "code",
   "execution_count": null,
   "metadata": {
    "id": "A_IScSWzhpi7"
   },
   "outputs": [],
   "source": [
    "## Matrix-vector product\n",
    "A = torch.tensor([[1.0, 2.0, 4.0],\n",
    "                  [2.0, -1.0, 3.0]])\n",
    "x = torch.tensor([4.0, 2.0, -2.0])\n",
    "\n",
    "# Matrix-vector multiplication\n",
    "print(torch.matmul(A, x))"
   ]
  },
  {
   "cell_type": "markdown",
   "metadata": {
    "id": "uTnGSJ3vT4EN"
   },
   "source": [
    "---\n",
    "\n",
    "Here we create a simple sentence in English and tokenize it\n",
    "\n",
    "---"
   ]
  },
  {
   "cell_type": "code",
   "execution_count": null,
   "metadata": {
    "id": "pQ73kkevT5L3"
   },
   "outputs": [],
   "source": [
    "sentence = 'i swam quickly across the river to get to the other bank'\n",
    "nltk.download('punkt_tab')\n"
   ]
  },
  {
   "cell_type": "markdown",
   "metadata": {
    "id": "M40pqI8UUbX4"
   },
   "source": [
    "---\n",
    "\n",
    "Generate the word embeddings for the tokens and store them in a matrix $\\mathbf{X}$ such that each row of the matrix corresponds to a token.\n",
    "\n",
    "---"
   ]
  },
  {
   "cell_type": "code",
   "execution_count": null,
   "metadata": {
    "id": "1mKKVRyxUh5V"
   },
   "outputs": [],
   "source": []
  },
  {
   "cell_type": "markdown",
   "metadata": {
    "id": "0Z0pZQisxtY-"
   },
   "source": [
    "---\n",
    "\n",
    "A matrix-matrix product is simply a sequence of matrix-vector products.\n",
    "\n",
    "![matmatprod](https://1drv.ms/i/c/37720f927b6ddc34/IQQ-B3z7tbWHQqBrW9k2ElDVAUc5fWzM24txLkgBK7f8Yac?width=550)\n",
    "\n",
    "\n",
    "---"
   ]
  },
  {
   "cell_type": "markdown",
   "metadata": {
    "id": "h5cHHVQOuT0z"
   },
   "source": [
    "---\n",
    "\n",
    "Matrix-matrix product using patient data matrix and a weights matrix:\n",
    "\n",
    "![patient dataset](https://1drv.ms/i/s!AjTcbXuSD3I3hspfrgklysOtJMOjaA?embed=1&width=800)\n",
    "\n",
    "$$\\mathbf{Z} = \\mathbf{XW}.$$\n",
    "\n",
    "---"
   ]
  },
  {
   "cell_type": "code",
   "execution_count": null,
   "metadata": {
    "colab": {
     "base_uri": "https://localhost:8080/"
    },
    "executionInfo": {
     "elapsed": 72,
     "status": "ok",
     "timestamp": 1755781272829,
     "user": {
      "displayName": "Tushar Raj",
      "userId": "04399146470560759060"
     },
     "user_tz": -330
    },
    "id": "njrrw_MnuUpo",
    "outputId": "21ef31da-2cf0-4de4-dd17-31614dcfcaba"
   },
   "outputs": [
    {
     "name": "stdout",
     "output_type": "stream",
     "text": [
      "Patient data matrix X:\n",
      " tensor([[ 72.0000, 120.0000,  37.3000, 104.0000,  32.5000],\n",
      "        [ 85.0000, 130.0000,  37.0000, 110.0000,  14.0000],\n",
      "        [ 68.0000, 110.0000,  38.5000, 125.0000,  34.0000],\n",
      "        [ 90.0000, 140.0000,  38.0000, 130.0000,  26.0000],\n",
      "        [ 84.0000, 132.0000,  38.3000, 146.0000,  30.0000],\n",
      "        [ 78.0000, 128.0000,  37.2000, 102.0000,  12.0000]],\n",
      "       dtype=torch.float64)\n",
      "Weights matrix:\n",
      " tensor([[-0.1000,  0.5000,  0.3000],\n",
      "        [ 0.9000,  0.3000,  0.5000],\n",
      "        [-1.5000,  0.4000,  0.1000],\n",
      "        [ 0.1000,  0.1000, -1.0000],\n",
      "        [-1.2000,  0.5000, -0.8000]], dtype=torch.float64)\n",
      "Raw zcores matrix:\n",
      " tensor([[ 16.2500, 113.5700, -44.6700],\n",
      "        [ 47.2000, 114.3000, -27.0000],\n",
      "        [  6.1500, 111.9000, -72.9500],\n",
      "        [ 41.8000, 128.2000, -50.0000],\n",
      "        [ 31.5500, 126.5200, -74.9700],\n",
      "        [ 47.4000, 108.4800, -20.4800]], dtype=torch.float64)\n"
     ]
    }
   ],
   "source": [
    "# Patients data matrix\n",
    "X = torch.tensor([[72, 120, 37.3, 104, 32.5],\n",
    "                 [85, 130, 37.0, 110, 14],\n",
    "                 [68, 110, 38.5, 125, 34],\n",
    "                 [90, 140, 38.0, 130, 26],\n",
    "                 [84, 132, 38.3, 146, 30],\n",
    "                 [78, 128, 37.2, 102, 12]], dtype = torch.float64)\n",
    "print(f'Patient data matrix X:\\n {X}') #f-string in Python\n",
    "\n",
    "# Weights matrix\n",
    "W = torch.tensor([[-0.1, 0.5, 0.3],\n",
    "                  [0.9, 0.3, 0.5],\n",
    "                  [-1.5, 0.4, 0.1],\n",
    "                  [0.1, 0.1, -1.0],\n",
    "                  [-1.2, 0.5, -0.8]], dtype = torch.float64)\n",
    "print(f'Weights matrix:\\n {W}')\n",
    "\n",
    "# Raw scores matrix (matrix-matrix multiplication)\n",
    "Z = torch.matmul(X, W)\n",
    "print(f'Raw zcores matrix:\\n {Z}')\n",
    "# The raw scores are also referred to as the logits"
   ]
  },
  {
   "cell_type": "markdown",
   "metadata": {
    "id": "qWigLvBRucwi"
   },
   "source": [
    "---\n",
    "\n",
    "**Version-1** view of the matrix-matrix product $\\mathbf{Z} = \\mathbf{XW}$:\n",
    "\n",
    "*What a particular neuron understands about a particular patient.*\n",
    "\n",
    "![matrix-matrix product version-1](https://1drv.ms/i/c/37720f927b6ddc34/IQQdAOCwtndURKA-h4yvpTqlAYjBjlcweRSeMYkPvf7dwmQ?width=660)\n",
    "\n",
    "$$\\begin{align*}[\\mathbf{Z}]_{i,j} &= (i,j)\\text{-th element of }\\mathbf{Z}\\\\&=\\text{what the }j\\text{th neuron learns about the } i\\text{th patient}\\\\&=\\mathbf{x}^{(i)}\\cdot\\mathbf{w}_j\\\\& = {\\mathbf{x}^{(i)}}^\\mathrm{T}\\mathbf{w}_j\\\\\\Rightarrow \\underbrace{[\\mathbf{Z}]_{{\\color{yellow}0},{\\color{cyan}2}}}_{{\\color{yellow}0}\\text{th patient},\\,{\\color{cyan}2}\\text{nd neuron}} &= \\mathbf{x}^{({\\color{yellow}0})}\\cdot\\mathbf{w}_{{\\color{cyan}2}}\\\\ &= \\begin{bmatrix}72\\\\120\\\\37.3\\\\104\\\\32.5\\end{bmatrix}\\cdot\\begin{bmatrix}0.3\\\\0.5\\\\0.1\\\\-1.0\\\\-0.8\\end{bmatrix}\\\\ &= -44.67.\\end{align*}$$\n",
    "\n",
    "---"
   ]
  },
  {
   "cell_type": "code",
   "execution_count": null,
   "metadata": {
    "id": "q-rGT4NaueRk"
   },
   "outputs": [],
   "source": [
    "## The (0, 2)-th element of the matrix-matrix product XW\n",
    "torch.dot(X[0, :], W[:, 2])\n",
    "#torch.matmul(X[0, :], W[:, 2]) (not recommended)"
   ]
  },
  {
   "cell_type": "markdown",
   "metadata": {
    "id": "RzqALUS-ugoU"
   },
   "source": [
    "---\n",
    "\n",
    "**Version-2** view of the matrix-matrix product $\\mathbf{Z} = \\mathbf{XW}$:\n",
    "\n",
    "*What a particular neuron understands about all the patients.*\n",
    "\n",
    "![matrix-matrix product version-2](https://1drv.ms/i/c/37720f927b6ddc34/IQRm1-w-6TG0R4C4J4BizyzyAWIbcHzbEjgmx-0JFREdHsE?width=660)\n",
    "\n",
    "$$\\begin{align*}\\mathbf{z}_j &= \\mathbf{X}\\mathbf{w}_j\\\\&=\\text{what the } j\\text{th neuron learns about the all the patients}\\\\&=w_{j,0}\\times\\textbf{HR}+w_{j,1}\\times\\textbf{BP}+w_{j,2}\\times\\textbf{Temp}+w_{j,3}\\times\\textbf{Sugar}+w_{j,4}\\times\\textbf{Vitamin D}\\\\&= w_{j,0}\\mathbf{x}_0+w_{j,1}\\mathbf{x}_1+w_{j,2}\\mathbf{x}_2+w_{j,3}\\mathbf{x}_3+w_{j,4}\\mathbf{x}_4\\\\\\Rightarrow\\underbrace{\\mathbf{z}_{{\\color{cyan}0}}}_{{\\color{cyan}0}\\text{th neuron understanding}} &= \\underbrace{\\mathbf{X}}_{\\color{yellow}{\\text{all patients}}}\\ \\underbrace{\\mathbf{w}_{{\\color{cyan}0}}}_{{\\color{cyan}0}\\text{th neuron weights}}\\\\&= {\\color{cyan}{-0.1}}\\times\\begin{bmatrix}{\\color{yellow}{72}}\\\\{\\color{yellow}{85}}\\\\{\\color{yellow}{68}}\\\\{\\color{yellow}{90}}\\\\{\\color{yellow}{84}}\\\\{\\color{yellow}{78}}\\end{bmatrix}+{\\color{cyan}{0.9}}\\times\\begin{bmatrix}{\\color{yellow}{120}}\\\\{\\color{yellow}{130}}\\\\{\\color{yellow}{110}}\\\\{\\color{yellow}{140}}\\\\{\\color{yellow}{132}}\\\\{\\color{yellow}{128}}\\end{bmatrix}+({\\color{cyan}{-1.5}})\\times\\begin{bmatrix}{\\color{yellow}{37.3}}\\\\{\\color{yellow}{37.0}}\\\\{\\color{yellow}{38.5}}\\\\{\\color{yellow}{38.0}}\\\\{\\color{yellow}{38.3}}\\\\{\\color{yellow}{37.2}}\\end{bmatrix}+{\\color{cyan}{0.1}}\\times\\begin{bmatrix}{\\color{yellow}{104}}\\\\{\\color{yellow}{110}}\\\\{\\color{yellow}{125}}\\\\{\\color{yellow}{130}}\\\\{\\color{yellow}{146}}\\\\{\\color{yellow}{102}}\\end{bmatrix}+({\\color{cyan}{-1.2}})\\times\\begin{bmatrix}{\\color{yellow}{32.5}}\\\\{\\color{yellow}{14}}\\\\{\\color{yellow}{34}}\\\\{\\color{yellow}{26}}\\\\{\\color{yellow}{30}}\\\\{\\color{yellow}{12}}\\end{bmatrix}\\\\&=\\begin{bmatrix}16.25\\\\47.20\\\\6.15\\\\41.80\\\\31.55\\\\47.40\\end{bmatrix}.\\end{align*}$$\n",
    "\n",
    "\n",
    "\n",
    "---"
   ]
  },
  {
   "cell_type": "code",
   "execution_count": null,
   "metadata": {
    "id": "sJbmVTzuukEh"
   },
   "outputs": [],
   "source": [
    "## The 0-th column of the matrix-matrix product XW\n",
    "torch.matmul(X, W[:, 0])"
   ]
  },
  {
   "cell_type": "markdown",
   "metadata": {
    "id": "jrQE8b2xukgE"
   },
   "source": [
    "---\n",
    "\n",
    "**Version-3** view of the matrix-matrix product $\\mathbf{Z} = \\mathbf{XW}$:\n",
    "\n",
    "*What all neurons understand about a particular patient.*\n",
    "\n",
    "![matrix-matrix product version-3](https://1drv.ms/i/c/37720f927b6ddc34/IQRfO-qEJQ9mQYLH_f-lyjeQAaWV4FrDjTjaEHJpPB1PmCg?width=660)\n",
    "\n",
    "$$\\begin{align*}{\\mathbf{z}^{(i)}}^\\mathrm{T}&={\\mathbf{x}^{(i)}}^\\mathrm{T}\\mathbf{W}\\\\&= \\text{what is learned about the }i\\text{th patient by all the neurons}\\\\&=i\\text{th HR }\\times{\\mathbf{w}^{(0)}}^\\mathrm{T}+i\\text{th BP }\\times{\\mathbf{w}^{(1)}}^\\mathrm{T}+i\\text{th Temp }\\times{\\mathbf{w}^{(2)}}^\\mathrm{T}+i\\text{th Sugar }\\times{\\mathbf{w}^{(3)}}^\\mathrm{T}+i\\text{th Vitamin D }\\times{\\mathbf{w}^{(4)}}^\\mathrm{T}\\\\&=x^{(i)}_0\\times{\\mathbf{w}^{(0)}}^\\mathrm{T}+x^{(i)}_1\\times{\\mathbf{w}^{(1)}}^\\mathrm{T}+x^{(i)}_2\\times{\\mathbf{w}^{(2)}}^\\mathrm{T}+x^{(i)}_3\\times{\\mathbf{w}^{(3)}}^\\mathrm{T}+x^{(i)}_4\\times{\\mathbf{w}^{(4)}}^\\mathrm{T}\\\\\\underbrace{\\Rightarrow{{\\mathbf{z}^{({\\color{yellow}0})}}^\\mathrm{T}}}_{{\\color{yellow}{0}}\\text{th patient understanding}}&=\\underbrace{{{\\mathbf{x}^{({\\color{yellow}0})}}^\\mathrm{T}}}_{{\\color{yellow}{0}}\\text{th patient}}\\ \\underbrace{\\mathbf{W}}_{{\\color{cyan}{\\text{all neurons}}}}\\\\ &= {\\color{yellow}{72}}\\times\\begin{bmatrix}{\\color{cyan}{-0.1}} & {\\color{cyan}{0.5}} & {\\color{cyan}{0.3}}\\end{bmatrix} \\\\&+ {\\color{yellow}{120}}\\times\\begin{bmatrix}{\\color{cyan}{0.9}} & {\\color{cyan}{0.3}} & {\\color{cyan}{0.5}}\\end{bmatrix}\\\\&+{\\color{yellow}{37.3}}\\times\\begin{bmatrix}{\\color{cyan}{-1.5}} & {\\color{cyan}{0.4}} & {\\color{cyan}{0.1}}\\end{bmatrix}\\\\&+{\\color{yellow}{104}}\\times\\begin{bmatrix}{\\color{cyan}{0.1}} & {\\color{cyan}{0.1}} & {\\color{cyan}{-1.0}}\\end{bmatrix}\\\\&+{\\color{yellow}{32.5}}\\times\\begin{bmatrix}{\\color{cyan}{-1.2}} & {\\color{cyan}{0.5}} & {\\color{cyan}{-0.8}}\\end{bmatrix}\\\\&=\\begin{bmatrix}16.25 & 113.57 & 7.33\\end{bmatrix}.\\end{align*}$$\n",
    "\n",
    "\n",
    "---"
   ]
  },
  {
   "cell_type": "code",
   "execution_count": null,
   "metadata": {
    "id": "Y0KMgb1KA7eE"
   },
   "outputs": [],
   "source": [
    "Z"
   ]
  },
  {
   "cell_type": "code",
   "execution_count": null,
   "metadata": {
    "colab": {
     "base_uri": "https://localhost:8080/",
     "height": 159
    },
    "executionInfo": {
     "elapsed": 24,
     "status": "error",
     "timestamp": 1755751524618,
     "user": {
      "displayName": "Tushar Raj",
      "userId": "04399146470560759060"
     },
     "user_tz": -330
    },
    "id": "o-Nv7NOLun5e",
    "outputId": "2827685a-1cea-4d38-cba2-75c8a2e08573"
   },
   "outputs": [
    {
     "ename": "NameError",
     "evalue": "name 'X' is not defined",
     "output_type": "error",
     "traceback": [
      "\u001b[0;31m---------------------------------------------------------------------------\u001b[0m",
      "\u001b[0;31mNameError\u001b[0m                                 Traceback (most recent call last)",
      "\u001b[0;32m/tmp/ipython-input-2188124898.py\u001b[0m in \u001b[0;36m<cell line: 0>\u001b[0;34m()\u001b[0m\n\u001b[1;32m      1\u001b[0m \u001b[0;31m## The 0-th row of the matrix-matrix product XW\u001b[0m\u001b[0;34m\u001b[0m\u001b[0;34m\u001b[0m\u001b[0m\n\u001b[0;32m----> 2\u001b[0;31m \u001b[0mtorch\u001b[0m\u001b[0;34m.\u001b[0m\u001b[0mmatmul\u001b[0m\u001b[0;34m(\u001b[0m\u001b[0mX\u001b[0m\u001b[0;34m[\u001b[0m\u001b[0;36m0\u001b[0m\u001b[0;34m,\u001b[0m \u001b[0;34m:\u001b[0m\u001b[0;34m]\u001b[0m\u001b[0;34m,\u001b[0m \u001b[0mW\u001b[0m\u001b[0;34m)\u001b[0m\u001b[0;34m\u001b[0m\u001b[0;34m\u001b[0m\u001b[0m\n\u001b[0m",
      "\u001b[0;31mNameError\u001b[0m: name 'X' is not defined"
     ]
    }
   ],
   "source": [
    "## The 0-th row of the matrix-matrix product XW\n",
    "torch.matmul(X[0, :], W)"
   ]
  },
  {
   "cell_type": "markdown",
   "metadata": {
    "id": "mVoJRc6kUtI2"
   },
   "source": [
    "---\n",
    "\n",
    "The similarity between each pair of words represented in the word embeddings matrix $\\mathbf{X}_\\mathrm{word}$ is the matrix-matrix product $\\mathbf{X}_\\mathrm{word}\\mathbf{X}_\\mathrm{word}^\\mathrm{T}.$\n",
    "\n",
    "---"
   ]
  },
  {
   "cell_type": "code",
   "execution_count": null,
   "metadata": {
    "id": "ms9Qg5AoVJy_"
   },
   "outputs": [],
   "source": []
  },
  {
   "cell_type": "markdown",
   "metadata": {
    "id": "NLWq_5p3usNO"
   },
   "source": [
    "---\n",
    "\n",
    "The softmax function: takes a $k$-vector $\\mathbf{z}$ as input and returns a vector $\\mathbf{a}$ of the same shape as the output which is referred to as the softmax-activated scores.\n",
    "\n",
    "$\\begin{align*}\\mathbf{a}&=\\text{softmax}(\\mathbf{z})=\\begin{bmatrix}\\dfrac{e^{z_1}}{e^{z_1}+e^{z_2}+\\cdots+e^{z_k}}\\\\\\dfrac{e^{z_2}}{e^{z_1}+e^{z_2}+\\cdots+e^{z_k}}\\\\\\vdots\\\\\\dfrac{e^{z_k}}{e^{z_1}+e^{z_2}+\\cdots+e^{z_k}}\\end{bmatrix}.\\end{align*}$\n",
    "\n",
    "In the following example, we consider a raw scores vector $\\mathbf{z}$ with 3 components which leads to the softmax-activated scores vectors $\\mathbf{a}$ which can be interpreted as the predicted probabilities that the sample belongs to each one of the output classes:\n",
    "\n",
    "![softmax](https://1drv.ms/i/s!AjTcbXuSD3I3hscmdol7J2G4GDo5WQ?embed=1&width=660)\n",
    "\n",
    "\n",
    "---"
   ]
  },
  {
   "cell_type": "code",
   "execution_count": null,
   "metadata": {
    "colab": {
     "base_uri": "https://localhost:8080/"
    },
    "executionInfo": {
     "elapsed": 137,
     "status": "ok",
     "timestamp": 1755751483927,
     "user": {
      "displayName": "Tushar Raj",
      "userId": "04399146470560759060"
     },
     "user_tz": -330
    },
    "id": "hgbn1YaJc5i-",
    "outputId": "c1a49cd8-009a-479e-8993-724926bbeef7"
   },
   "outputs": [
    {
     "name": "stdout",
     "output_type": "stream",
     "text": [
      "tensor([1., 2., 3.], dtype=torch.float64)\n",
      "tensor([0.0900, 0.2447, 0.6652], dtype=torch.float64)\n",
      "tensor(1.0000, dtype=torch.float64)\n"
     ]
    }
   ],
   "source": [
    "z = torch.tensor([1.0, 2.0, 3.0], dtype = torch.float64)\n",
    "print(z)\n",
    "softmax = torch.nn.Softmax(dim = 0)\n",
    "a = softmax(z)\n",
    "print(a)\n",
    "print(torch.sum(a))"
   ]
  },
  {
   "cell_type": "code",
   "execution_count": null,
   "metadata": {
    "colab": {
     "base_uri": "https://localhost:8080/",
     "height": 211
    },
    "executionInfo": {
     "elapsed": 23,
     "status": "error",
     "timestamp": 1755751485355,
     "user": {
      "displayName": "Tushar Raj",
      "userId": "04399146470560759060"
     },
     "user_tz": -330
    },
    "id": "ILhIBVoKr3fb",
    "outputId": "ec8bd17a-af32-43d0-ce8d-14f28da6b764"
   },
   "outputs": [
    {
     "ename": "NameError",
     "evalue": "name 'X' is not defined",
     "output_type": "error",
     "traceback": [
      "\u001b[0;31m---------------------------------------------------------------------------\u001b[0m",
      "\u001b[0;31mNameError\u001b[0m                                 Traceback (most recent call last)",
      "\u001b[0;32m/tmp/ipython-input-3861944126.py\u001b[0m in \u001b[0;36m<cell line: 0>\u001b[0;34m()\u001b[0m\n\u001b[1;32m      1\u001b[0m \u001b[0;31m# Raw scores matrix (matrix-matrix multiplication)\u001b[0m\u001b[0;34m\u001b[0m\u001b[0;34m\u001b[0m\u001b[0m\n\u001b[0;32m----> 2\u001b[0;31m \u001b[0mZ\u001b[0m \u001b[0;34m=\u001b[0m \u001b[0mtorch\u001b[0m\u001b[0;34m.\u001b[0m\u001b[0mmatmul\u001b[0m\u001b[0;34m(\u001b[0m\u001b[0mX\u001b[0m\u001b[0;34m,\u001b[0m \u001b[0mW\u001b[0m\u001b[0;34m)\u001b[0m\u001b[0;34m\u001b[0m\u001b[0;34m\u001b[0m\u001b[0m\n\u001b[0m\u001b[1;32m      3\u001b[0m \u001b[0mprint\u001b[0m\u001b[0;34m(\u001b[0m\u001b[0;34mf'Raw zcores matrix:\\n {Z}'\u001b[0m\u001b[0;34m)\u001b[0m\u001b[0;34m\u001b[0m\u001b[0;34m\u001b[0m\u001b[0m\n\u001b[1;32m      4\u001b[0m \u001b[0;34m\u001b[0m\u001b[0m\n\u001b[1;32m      5\u001b[0m \u001b[0;31m# Calculate the softmax scores\u001b[0m\u001b[0;34m\u001b[0m\u001b[0;34m\u001b[0m\u001b[0m\n",
      "\u001b[0;31mNameError\u001b[0m: name 'X' is not defined"
     ]
    }
   ],
   "source": [
    "# Raw scores matrix (matrix-matrix multiplication)\n",
    "Z = torch.matmul(X, W)\n",
    "print(f'Raw zcores matrix:\\n {Z}')\n",
    "\n",
    "# Calculate the softmax scores\n",
    "softmax = torch.nn.Softmax(dim = 1)\n",
    "A = softmax(Z)\n",
    "print(f'Softmax scores matrix:\\n {A}')"
   ]
  },
  {
   "cell_type": "markdown",
   "metadata": {
    "id": "VCo2ano8mH_x"
   },
   "source": [
    "---\n",
    "\n",
    "Standardization of data to get rid of the effects of units.\n",
    "\n",
    "The standard deviation of a vector is a measure of how much the components or elements of that vector typically deviate from their average value. For an $n$-vector $\\mathbf{x},$ the standard deviation is denoted and calculated as\n",
    "$$\\mathbf{x} = \\begin{bmatrix}x_1\\\\x_2\\\\\\vdots\\\\x_n\\end{bmatrix}\\Rightarrow\\text{std}(\\mathbf{x}) = \\sqrt{\\frac{\\left[x_1-\\text{avg}(\\mathbf{x})\\right]^2+\\cdots+\\left[x_n-\\text{avg}(\\mathbf{x})\\right]^2}{n}}.$$ The quantity inside the square root above is the average squared deviation which is also called the variance denoted as $$\\text{var}(\\mathbf{x}) = \\frac{\\left[x_1-\\text{avg}(\\mathbf{x})\\right]^2+\\cdots+\\left[x_n-\\text{avg}(\\mathbf{x})\\right]^2}{n}.$$\n",
    "\n",
    "This means $\\text{std}(\\mathbf{x}) = \\sqrt{\\text{var}(\\mathbf{x})}.$\n",
    "\n",
    "A large standard deviation indicates that the components of the vector typically deviate a lot from their average value or mean.\n",
    "\n",
    "The following component plot of a vector of heart rate values has the 1-standard deviation-above and below the mean represented as red-dotted lines:\n",
    "\n",
    "![standard deviation](https://1drv.ms/i/c/37720f927b6ddc34/IQQB_uF-TUO8SpoodLWz7sQPAc4POmYfY3hPjlX3vpYfKlY?width=540)\n",
    "\n",
    "---"
   ]
  },
  {
   "cell_type": "code",
   "execution_count": null,
   "metadata": {
    "id": "IioKqqpymL2i"
   },
   "outputs": [],
   "source": [
    "# Heart rate vector\n",
    "a = X[:, 0]\n",
    "print(f'Heart rate vector:\\n {a}')\n",
    "\n",
    "# BP vector\n",
    "b = X[:, 1]\n",
    "#print(f'Blood pressure vector:\\n {b}')\n",
    "\n",
    "# Average heart rate\n",
    "print(f'Average heart rate: {torch.mean(a)}')\n",
    "\n",
    "# Average BP\n",
    "#print(torch.mean(b))\n",
    "\n",
    "# Mean-centered heart rate vector or the de-meaned heart rate vector or the\n",
    "# deviations in heart rate vectors\n",
    "a_mc = a - torch.mean(a)\n",
    "print(f'Deviations in heart rate vector:\\n {a_mc}')\n",
    "\n",
    "# The average of the components of the mean-centered heart rate vector is zero\n",
    "#print(torch.mean(a_mc))\n",
    "\n",
    "# The squared deviations vector\n",
    "print(f'Squared-deviations in heart rate vector:\\n {a_mc**2}')\n",
    "\n",
    "# The average of the squared deviations vector a.k.a. the variance in\n",
    "# the heart rate\n",
    "v = torch.mean(a_mc**2)\n",
    "print(f'Average squared deviation or variance in the heart rate: {v}')\n",
    "\n",
    "# Square-root of the average of the squared deviations vector\n",
    "# which is the same as the square root of the variance a.k.a. the\n",
    "# standard deviation in the heart rate\n",
    "s = torch.sqrt(v)\n",
    "print(f'Standard deviation of the heart rate: {s}')\n",
    "\n",
    "# Standardized heart rate vector a.k.a. the z-scores of the heart rate is\n",
    "# obtained by subtracting the mean heart rate and dividing by the\n",
    "# deviation of the heart rates\n",
    "z = a_mc / s #same as (a-np.mean(a)) / np.std(a)\n",
    "print(f'Standardized heart rate vector:\\n{z}')"
   ]
  },
  {
   "cell_type": "markdown",
   "metadata": {
    "id": "qMaz_7oNMFYM"
   },
   "source": [
    "---\n",
    "\n",
    "Suppose heart rate is measured in beats per hour instead of beats per minute. How do the z-scores look like now?\n",
    "\n",
    "---"
   ]
  },
  {
   "cell_type": "code",
   "execution_count": null,
   "metadata": {
    "colab": {
     "base_uri": "https://localhost:8080/"
    },
    "executionInfo": {
     "elapsed": 26,
     "status": "ok",
     "timestamp": 1755780135759,
     "user": {
      "displayName": "Tushar Raj",
      "userId": "04399146470560759060"
     },
     "user_tz": -330
    },
    "id": "NuCt2XMjzwj9",
    "outputId": "730bb33c-1842-43f7-e42c-0c53c635b53a"
   },
   "outputs": [
    {
     "name": "stdout",
     "output_type": "stream",
     "text": [
      "Heart rate vector:\n",
      " tensor([4320., 5100., 4080., 5400., 5040., 4680.])\n",
      "Average heart rate: 4770.0\n",
      "Deviations in heart rate vector:\n",
      " tensor([-450.,  330., -690.,  630.,  270.,  -90.])\n",
      "Squared-deviations in heart rate vector:\n",
      " tensor([202500., 108900., 476100., 396900.,  72900.,   8100.])\n",
      "Average squared deviation or variance in the heart rate: 210900.0\n",
      "Standard deviation of the heart rate: 459.2384948730469\n",
      "Standardized heart rate vector:\n",
      "tensor([-0.9799,  0.7186, -1.5025,  1.3718,  0.5879, -0.1960])\n",
      "tensor(459.2385)\n"
     ]
    }
   ],
   "source": [
    "# Suppose heart rate is measured in beats per hour instead of beats per minute\n",
    "a = X[:, 0]*60\n",
    "print(f'Heart rate vector:\\n {a}')\n",
    "\n",
    "# BP vector\n",
    "b = X[:, 1]\n",
    "#print(f'Blood pressure vector:\\n {b}')\n",
    "\n",
    "# Average heart rate\n",
    "print(f'Average heart rate: {torch.mean(a)}')\n",
    "\n",
    "# Average BP\n",
    "#print(torch.mean(b))\n",
    "\n",
    "# Mean-centered heart rate vector or the de-meaned heart rate vector or the\n",
    "# deviations in heart rate vectors\n",
    "a_mc = a - torch.mean(a)\n",
    "print(f'Deviations in heart rate vector:\\n {a_mc}')\n",
    "\n",
    "# The average of the components of the mean-centered heart rate vector is zero\n",
    "#print(torch.mean(a_mc))\n",
    "\n",
    "# The squared deviations vector\n",
    "print(f'Squared-deviations in heart rate vector:\\n {a_mc**2}')\n",
    "\n",
    "# The average of the squared deviations vector a.k.a. the variance in\n",
    "# the heart rate\n",
    "v = torch.mean(a_mc**2)\n",
    "print(f'Average squared deviation or variance in the heart rate: {v}')\n",
    "\n",
    "# Square-root of the average of the squared deviations vector\n",
    "# which is the same as the square root of the variance a.k.a. the\n",
    "# standard deviation in the heart rate\n",
    "s = torch.sqrt(v)\n",
    "print(f'Standard deviation of the heart rate: {s}')\n",
    "\n",
    "# Standardized heart rate vector a.k.a. the z-scores of the heart rate\n",
    "z = a_mc / s\n",
    "print(f'Standardized heart rate vector:\\n{z}')\n",
    "print(s)\n",
    "# The z-scores are the same as before when the heart rate was in beats per minute"
   ]
  },
  {
   "cell_type": "markdown",
   "metadata": {
    "id": "qA6qAaCW9RQ_"
   },
   "source": [
    "---\n",
    "\n",
    "One-hot encoding of the true output labels\n",
    "\n",
    "\n",
    "![patient dataset](https://1drv.ms/i/s!AjTcbXuSD3I3hspfrgklysOtJMOjaA?embed=1&width=800)\n",
    "\n",
    "---"
   ]
  },
  {
   "cell_type": "code",
   "execution_count": null,
   "metadata": {
    "colab": {
     "base_uri": "https://localhost:8080/"
    },
    "executionInfo": {
     "elapsed": 10,
     "status": "ok",
     "timestamp": 1755780025820,
     "user": {
      "displayName": "Tushar Raj",
      "userId": "04399146470560759060"
     },
     "user_tz": -330
    },
    "id": "7ABCvj-19baz",
    "outputId": "19c33413-f6b5-4cfa-c03b-b5b37536b067"
   },
   "outputs": [
    {
     "name": "stdout",
     "output_type": "stream",
     "text": [
      "['non-diabetic' 'diabetic' 'non-diabetic' 'pre-diabetic' 'diabetic'\n",
      " 'pre-diabetic']\n",
      "<class 'numpy.ndarray'>\n",
      "(6,)\n",
      "------\n",
      "[['non-diabetic']\n",
      " ['diabetic']\n",
      " ['non-diabetic']\n",
      " ['pre-diabetic']\n",
      " ['diabetic']\n",
      " ['pre-diabetic']]\n",
      "<class 'numpy.ndarray'>\n",
      "(6, 1)\n",
      "-------\n",
      "tensor([[0., 1., 0.],\n",
      "        [1., 0., 0.],\n",
      "        [0., 1., 0.],\n",
      "        [0., 0., 1.],\n",
      "        [1., 0., 0.],\n",
      "        [0., 0., 1.]], dtype=torch.float64)\n"
     ]
    }
   ],
   "source": [
    "# The following does not work in PyTorch\n",
    "#y = torch.tensor(['non-diabetic', 'diabetic'])\n",
    "\n",
    "# Create a 1D-numpy array of output labels (equivalent to a rank-1 tensor in\n",
    "# PyTorch which itself is equivalent to a vector in pen & paper)\n",
    "y = np.array(['non-diabetic',\n",
    "              'diabetic',\n",
    "              'non-diabetic',\n",
    "              'pre-diabetic',\n",
    "              'diabetic',\n",
    "              'pre-diabetic'])\n",
    "print(y)\n",
    "print(type(y))\n",
    "print(y.shape)\n",
    "y = y.reshape(-1, 1)\n",
    "print('------')\n",
    "print(y)\n",
    "print(type(y))\n",
    "print(y.shape)\n",
    "print('-------')\n",
    "# Creating a one-hot encoder object\n",
    "ohe = OneHotEncoder(sparse_output = False)\n",
    "# Create the one-hot encoded true output labels matrix\n",
    "Y = torch.tensor(ohe.fit_transform(y), dtype = torch.float64)\n",
    "print(Y)"
   ]
  },
  {
   "cell_type": "markdown",
   "metadata": {
    "id": "tBg3HSbDFUQT"
   },
   "source": [
    "---\n",
    "\n",
    "The forward propagation\n",
    "\n",
    "---"
   ]
  },
  {
   "cell_type": "code",
   "execution_count": null,
   "metadata": {
    "colab": {
     "base_uri": "https://localhost:8080/"
    },
    "executionInfo": {
     "elapsed": 64,
     "status": "ok",
     "timestamp": 1755781279337,
     "user": {
      "displayName": "Tushar Raj",
      "userId": "04399146470560759060"
     },
     "user_tz": -330
    },
    "id": "aBIbqmivFXa0",
    "outputId": "fa65beaa-9cf8-444c-84ab-ccad60e1d011"
   },
   "outputs": [
    {
     "name": "stdout",
     "output_type": "stream",
     "text": [
      "The standardized data matrix:\n",
      "tensor([[-0.9799, -0.7019, -0.7238, -0.9871,  0.8920],\n",
      "        [ 0.7186,  0.3509, -1.2449, -0.6050, -1.2374],\n",
      "        [-1.5025, -1.7547,  1.3607,  0.3503,  1.0647],\n",
      "        [ 1.3718,  1.4037,  0.4922,  0.6687,  0.1439],\n",
      "        [ 0.5879,  0.5615,  1.0133,  1.6876,  0.6043],\n",
      "        [-0.1960,  0.1404, -0.8975, -1.1144, -1.4676]], dtype=torch.float64)\n",
      "One-hot encoded true output labels matrx:\n",
      "tensor([[0., 1., 0.],\n",
      "        [1., 0., 0.],\n",
      "        [0., 1., 0.],\n",
      "        [0., 0., 1.],\n",
      "        [1., 0., 0.],\n",
      "        [0., 0., 1.]], dtype=torch.float64)\n",
      "The weights matrix:\n",
      "tensor([[-0.1000,  0.5000,  0.3000],\n",
      "        [ 0.9000,  0.3000,  0.5000],\n",
      "        [-1.5000,  0.4000,  0.1000],\n",
      "        [ 0.1000,  0.1000, -1.0000],\n",
      "        [-1.2000,  0.5000, -0.8000]], dtype=torch.float64)\n",
      "The raw scores matrix:\n",
      "tensor([[-0.6171, -0.6427, -0.4438],\n",
      "        [ 3.5357, -0.7126,  1.8614],\n",
      "        [-4.7127, -0.1660, -2.3940],\n",
      "        [ 0.2821,  1.4427,  0.3789],\n",
      "        [-1.6298,  1.3386, -1.6126],\n",
      "        [ 3.1418, -1.2601,  2.2101]], dtype=torch.float64)\n",
      "The softmax-activated raw scores matrix:\n",
      "tensor([[0.3161, 0.3081, 0.3759],\n",
      "        [0.8321, 0.0119, 0.1560],\n",
      "        [0.0095, 0.8942, 0.0963],\n",
      "        [0.1889, 0.6030, 0.2081],\n",
      "        [0.0466, 0.9061, 0.0474],\n",
      "        [0.7112, 0.0087, 0.2801]], dtype=torch.float64)\n",
      "One-hot encoded true output labels matrix:tensor([[0., 1., 0.],\n",
      "        [1., 0., 0.],\n",
      "        [0., 1., 0.],\n",
      "        [0., 0., 1.],\n",
      "        [1., 0., 0.],\n",
      "        [0., 0., 1.]], dtype=torch.float64)\n",
      "Hadamard product of Y and A:tensor([[0.0000, 0.3081, 0.0000],\n",
      "        [0.8321, 0.0000, 0.0000],\n",
      "        [0.0000, 0.8942, 0.0000],\n",
      "        [0.0000, 0.0000, 0.2081],\n",
      "        [0.0466, 0.0000, 0.0000],\n",
      "        [0.0000, 0.0000, 0.2801]], dtype=torch.float64)\n",
      "tensor([0.3081, 0.8321, 0.8942, 0.2081, 0.0466, 0.2801], dtype=torch.float64)\n",
      "tensor([1.1774, 0.1838, 0.1118, 1.5697, 3.0671, 1.2726], dtype=torch.float64)\n",
      "tensor(1.2304, dtype=torch.float64)\n",
      "Average training loss = 1.2303940464309857\n"
     ]
    }
   ],
   "source": [
    "# Standardize the data\n",
    "sc = StandardScaler() # create a standard scaler object\n",
    "X_std = torch.tensor(sc.fit_transform(X), dtype = torch.float64)\n",
    "print(f'The standardized data matrix:\\n{X_std}')\n",
    "\n",
    "# The one-hot encoded true output labels matrix\n",
    "print(f'One-hot encoded true output labels matrx:\\n{Y}')\n",
    "\n",
    "# Calculate the raw scores using the standardized data matrix\n",
    "# and the weights matrix\n",
    "print(f'The weights matrix:\\n{W}')\n",
    "Z = torch.matmul(X_std, W)\n",
    "print(f'The raw scores matrix:\\n{Z}')\n",
    "\n",
    "# Calculate the softmax-activated scores matrix\n",
    "softmax = torch.nn.Softmax(dim = 1)\n",
    "A = softmax(Z)\n",
    "print(f'The softmax-activated raw scores matrix:\\n{A}')\n",
    "\n",
    "# Quantify the unhappiness w.r.t. the current set of weights\n",
    "print(f'One-hot encoded true output labels matrix:{Y}')\n",
    "print(f'Hadamard product of Y and A:{Y*A}')\n",
    "print(torch.sum(Y*A, dim=1))\n",
    "print(-torch.log(torch.sum(Y*A, dim=1)))\n",
    "print(torch.mean(-torch.log(torch.sum(Y*A, dim=1))))\n",
    "# Calculate the average training loss\n",
    "L = torch.mean(-torch.log(torch.sum(Y*A, dim=1)))\n",
    "print(f'Average training loss = {L}')"
   ]
  },
  {
   "cell_type": "markdown",
   "metadata": {
    "id": "xHosp-fHBRqA"
   },
   "source": [
    "---\n",
    "\n",
    "A detour to data structures in Python\n",
    "\n",
    "---"
   ]
  },
  {
   "cell_type": "code",
   "execution_count": null,
   "metadata": {
    "id": "_RUy0ovx_DD6"
   },
   "outputs": [],
   "source": [
    "# PyTorch tensor\n",
    "a = torch.tensor([1.0, 2.0, 3.0])\n",
    "print(a)\n",
    "print(type(a))\n",
    "print(a.shape)\n",
    "print('-------')\n",
    "\n",
    "# Numpy array\n",
    "b = np.array([1.0, 2.0, 3.0])\n",
    "print(b)\n",
    "print(type(b))\n",
    "print(b.shape)\n",
    "print('------')\n",
    "\n",
    "# List\n",
    "c = [1.0, 2.0, 3.0]\n",
    "print(c)\n",
    "print(type(c))\n",
    "#print(c.shape) # does not work\n",
    "print('------')\n",
    "\n",
    "# Tuple\n",
    "d = (1.0, 2.0, 3.0)\n",
    "print(d)\n",
    "print(type(d))\n",
    "#print(d.shape) # does not work"
   ]
  },
  {
   "cell_type": "code",
   "execution_count": null,
   "metadata": {
    "id": "aXe6_g8yDxWO"
   },
   "outputs": [],
   "source": []
  },
  {
   "cell_type": "markdown",
   "metadata": {
    "id": "g6oLUxSbibvy"
   },
   "source": [
    "---\n",
    "\n",
    "Read hourly temperature data for multiple cities\n",
    "\n",
    "---"
   ]
  },
  {
   "cell_type": "code",
   "execution_count": null,
   "metadata": {
    "id": "WxY-tjdyigHQ"
   },
   "outputs": [],
   "source": [
    "## Read hourly temperature data for multiple cities\n",
    "FILE = DATA_DIR + 'temperature (1).csv'\n",
    "df_temp = pd.read_csv(FILE,sep=',',header=0,skiprows=[1])\n",
    "df_temp['datetime'] = pd.to_datetime(df_temp['datetime'], format='%Y-%m-%d %H:%M:%S')\n",
    "df_temp = df_temp.set_index('datetime')\n",
    "df_temp.head()"
   ]
  },
  {
   "cell_type": "code",
   "execution_count": null,
   "metadata": {
    "id": "dDvMmxooFOX2"
   },
   "outputs": [],
   "source": [
    "# df_temp['San Francisco']\n",
    "# df_temp.iloc[1:4,0]\n",
    "df_temp.index #this is row\n",
    "# df_temp.columns\n",
    "# df_temp.index.get_loc('2012-10-02')\n",
    "# df_temp.columns.get_loc('San Francisco')\n",
    "# df_temp.columns.get_loc('San Francisco')\n",
    "# df_temp.iloc[df_temp.index.get_loc('2012-10-02'),df_temp.columns.get_loc('San Francisco')].values"
   ]
  },
  {
   "cell_type": "code",
   "execution_count": null,
   "metadata": {
    "id": "253yMezVKAq4"
   },
   "outputs": [],
   "source": [
    "df_temp.iloc[df_temp.index.get_loc('2012-10-02'), df_temp.columns.get_loc('San Francisco')]"
   ]
  },
  {
   "cell_type": "markdown",
   "metadata": {
    "id": "OOfaJiJOjVfz"
   },
   "source": [
    "---\n",
    "\n",
    "Extract daily temperature vectors for San Francisco for October 2, 2012 and December 2, 2012 and make component plots of those vectors\n",
    "\n",
    "---"
   ]
  },
  {
   "cell_type": "code",
   "execution_count": null,
   "metadata": {
    "id": "pCX3O2DkjXVU"
   },
   "outputs": [],
   "source": [
    "# Temperature vector for San Francisco for 2012-10-02\n",
    "t1 = df_temp.iloc[df_temp.index.get_loc('2012-10-02'),df_temp.columns.get_loc('San Francisco')].values\n",
    "t1 = t1-273.15 #convert from kelvin to celsius\n",
    "# print(t1)\n",
    "\n",
    "\n",
    "# print(t2)\n",
    "\n",
    "# Plot temperature vectors for both days\n",
    "fig,(ax1,ax2) = plt.subplots(2,1,figsize=(6,10))\n",
    "component_index = range(0,len(t1))\n",
    "ax1.set_title(\"Temparature in san francisco on 2012-10-02\")\n",
    "ax1.set_xlabel('Time')\n",
    "ax1.set_ylabel('Temparature (celsius)')\n",
    "ax1.plot(component_index,t1)\n",
    "ax1.plot(component_index,t1,marker=\"*\")\n",
    "ax1.plot(component_index,[np.mean(t1)]*len(t1),color='blue',linestyle=\"dashed\",linewidth=1)\n",
    "\n",
    "ax1.plot(component_index,[np.mean(t1)+np.std(t1)]*len(t1),color='red',linestyle=\"dashed\",linewidth=1)\n",
    "ax1.plot(component_index,[np.mean(t1)-np.std(t1)]*len(t1),color='red',linestyle=\"dashed\",linewidth=1)\n",
    "\n",
    "# Temperature vector for San Francisco for 2012-12-02\n",
    "t2 = df_temp.iloc[df_temp.index.get_loc('2012-12-02'),df_temp.columns.get_loc('San Francisco')].values\n",
    "t2 = t2-273.15\n",
    "\n",
    "\n",
    "\n",
    "ax2.set_title(\"Temparature in san francisco on 2012-12-02\")\n",
    "ax2.set_xlabel('Time')\n",
    "ax2.set_ylabel('Temparature (celsius)')\n",
    "component_index = range(0,len(t2))\n",
    "ax2.plot(component_index,t2,marker=\"*\")\n",
    "ax2.plot(component_index,[np.mean(t2)]*len(t2),color=\"blue\",linestyle=\"dashed\",linewidth=1)\n",
    "ax2.plot(component_index,[np.mean(t2)+np.std(t2)]*len(t2),color=\"red\",linestyle=\"dashed\",linewidth=1)\n",
    "ax2.plot(component_index,[np.mean(t2)-np.std(t2)]*len(t2),color=\"red\",linestyle=\"dashed\",linewidth=1)\n"
   ]
  },
  {
   "cell_type": "code",
   "execution_count": null,
   "metadata": {
    "id": "HMjV4eWFS7nR"
   },
   "outputs": [],
   "source": [
    "range(0,10)\n",
    "np.std(t1)\n",
    "np.std(t2)\n",
    "[np.mean(t1)]*len(t1)"
   ]
  },
  {
   "cell_type": "markdown",
   "metadata": {
    "id": "0XHj06rFot3v"
   },
   "source": [
    "---\n",
    "\n",
    "Mean-center the daily temperature vectors for San Francisco for October 2, 2012 and December 2, 2012 and make component plots of those vectors\n",
    "\n",
    "---"
   ]
  },
  {
   "cell_type": "code",
   "execution_count": null,
   "metadata": {
    "id": "J7pJlYVqpDBJ"
   },
   "outputs": [],
   "source": [
    "# Mean-centered temperature vector for San Francisco for 2012-10-02\n",
    "t1_mc = t1-np.mean(t1)\n",
    "# print(t1_mc)\n",
    "fig,(ax1,ax2) = plt.subplots(2,1,figsize=(10,10))\n",
    "component_index = range(len(t1_mc))\n",
    "ax1.plot(component_index,t1_mc,marker=\"*\")\n",
    "ax1.plot(component_index,[np.mean(t1_mc)]*len(t1_mc),color='blue',linestyle=\"dashed\")\n",
    "ax1.plot(component_index,[np.mean(t1_mc)+np.std(t1_mc)]*len(t1_mc),color='red',linestyle=\"dashed\")\n",
    "ax1.plot(component_index,[np.mean(t1_mc)-np.std(t1_mc)]*len(t1_mc),color='red',linestyle=\"dashed\")\n",
    "\n",
    "# Mean-centered temperature vector for San Francisco for 2012-12-02\n",
    "t2_mc = t2-np.mean(t2)\n",
    "# print(t2_mc)\n",
    "\n",
    "component_index = range(len(t2_mc))\n",
    "ax2.plot(component_index,t2_mc,marker=\"*\")\n",
    "ax2.plot(component_index,[np.mean(t2_mc)]*len(t2_mc),color='blue',linestyle=\"dashed\")\n",
    "ax2.plot(component_index,[np.mean(t2_mc)+np.std(t2_mc)]*len(t2_mc),color='red',linestyle=\"dashed\")\n",
    "ax2.plot(component_index,[np.mean(t2_mc)-np.std(t2_mc)]*len(t2_mc),color='red',linestyle=\"dashed\")"
   ]
  },
  {
   "cell_type": "markdown",
   "metadata": {
    "id": "xA2Vzv-kphSq"
   },
   "source": [
    "---\n",
    "\n",
    "Standardize daily temperature vectors for San Francisco for October 2, 2012 and December 2, 2012 and make component plots of those vectors\n",
    "\n",
    "---"
   ]
  },
  {
   "cell_type": "code",
   "execution_count": null,
   "metadata": {
    "id": "zasEwqTKptuz"
   },
   "outputs": [],
   "source": [
    "# Standardized temperature vector for San Francisco for 2012-10-02\n",
    "z1 = (t1-np.mean(t1))/np.std(t1)\n",
    "print(z1)\n",
    "\n",
    "# Mean-centered temperature vector for San Francisco for 2012-12-02\n",
    "z2 = (t2-np.mean(t2))/np.std(t2)\n",
    "print(z2)\n",
    "\n",
    "# Plot standardized temperature vectors for both days\n",
    "fig,(ax1,ax2) = plt.subplots(2,1,figsize=(6,10))\n",
    "componet_index = range(len(z1))\n",
    "ax1.plot(component_index,z1,marker=\"*\")\n",
    "ax1.plot(component_index,[np.mean(z1)]*len(z1),color=\"blue\",linestyle='dashed')\n",
    "ax1.plot(component_index,[np.mean(z1)-np.std(z1)]*len(z1),color=\"red\",linestyle='dashed')\n",
    "ax1.plot(component_index,[np.mean(z1)+np.std(z1)]*len(z1),color=\"red\",linestyle='dashed')\n",
    "\n",
    "componet_index = range(len(z2))\n",
    "ax2.plot(component_index,z2,marker=\"*\")\n",
    "ax2.plot(component_index,[np.mean(z2)]*len(z2),color=\"blue\",linestyle='dashed')\n",
    "ax2.plot(component_index,[np.mean(z2)-np.std(z2)]*len(z2),color=\"red\",linestyle='dashed')\n",
    "ax2.plot(component_index,[np.mean(z2)+np.std(z2)]*len(z2),color=\"red\",linestyle='dashed')\n",
    "print(np.std(z2))"
   ]
  },
  {
   "cell_type": "markdown",
   "metadata": {
    "id": "p4JI3Vxvp95B"
   },
   "source": [
    "---\n",
    "\n",
    "Identify outliers in the daily temperature vectors for San Francisco for October 2, 2012 and December 2, 2012\n",
    "\n",
    "---"
   ]
  },
  {
   "cell_type": "code",
   "execution_count": null,
   "metadata": {
    "colab": {
     "base_uri": "https://localhost:8080/",
     "height": 176
    },
    "executionInfo": {
     "elapsed": 21,
     "status": "error",
     "timestamp": 1755751365795,
     "user": {
      "displayName": "Tushar Raj",
      "userId": "04399146470560759060"
     },
     "user_tz": -330
    },
    "id": "INlzUj7DbqAl",
    "outputId": "9cd6a4c2-2a6a-4bea-9665-c7490e55dc9c"
   },
   "outputs": [
    {
     "ename": "NameError",
     "evalue": "name 'z1' is not defined",
     "output_type": "error",
     "traceback": [
      "\u001b[0;31m---------------------------------------------------------------------------\u001b[0m",
      "\u001b[0;31mNameError\u001b[0m                                 Traceback (most recent call last)",
      "\u001b[0;32m/tmp/ipython-input-75308645.py\u001b[0m in \u001b[0;36m<cell line: 0>\u001b[0;34m()\u001b[0m\n\u001b[1;32m      1\u001b[0m \u001b[0mthreshold\u001b[0m \u001b[0;34m=\u001b[0m \u001b[0;36m2.0\u001b[0m\u001b[0;34m\u001b[0m\u001b[0;34m\u001b[0m\u001b[0m\n\u001b[0;32m----> 2\u001b[0;31m \u001b[0mprint\u001b[0m\u001b[0;34m(\u001b[0m\u001b[0mnp\u001b[0m\u001b[0;34m.\u001b[0m\u001b[0mabs\u001b[0m\u001b[0;34m(\u001b[0m\u001b[0mz1\u001b[0m\u001b[0;34m)\u001b[0m\u001b[0;34m>=\u001b[0m\u001b[0mthreshold\u001b[0m\u001b[0;34m)\u001b[0m\u001b[0;34m\u001b[0m\u001b[0;34m\u001b[0m\u001b[0m\n\u001b[0m\u001b[1;32m      3\u001b[0m \u001b[0mprint\u001b[0m\u001b[0;34m(\u001b[0m\u001b[0mnp\u001b[0m\u001b[0;34m.\u001b[0m\u001b[0mwhere\u001b[0m\u001b[0;34m(\u001b[0m\u001b[0mnp\u001b[0m\u001b[0;34m.\u001b[0m\u001b[0mabs\u001b[0m\u001b[0;34m(\u001b[0m\u001b[0mz1\u001b[0m\u001b[0;34m)\u001b[0m\u001b[0;34m>=\u001b[0m\u001b[0mthreshold\u001b[0m\u001b[0;34m)\u001b[0m\u001b[0;34m)\u001b[0m\u001b[0;34m\u001b[0m\u001b[0;34m\u001b[0m\u001b[0m\n",
      "\u001b[0;31mNameError\u001b[0m: name 'z1' is not defined"
     ]
    }
   ],
   "source": [
    "threshold = 2.0\n",
    "print(np.abs(z1)>=threshold)\n",
    "print(np.where(np.abs(z1)>=threshold))"
   ]
  },
  {
   "cell_type": "code",
   "execution_count": null,
   "metadata": {
    "id": "pngfJpRLqHpz"
   },
   "outputs": [],
   "source": [
    "# Z-score threshold\n",
    "threshold = 2.0 #number of standered devation beyond which are outliers\n",
    "print(f'On 2012-10-02, outliers hours were: {np.where(np.abs(z1)>=threshold)}')\n",
    "print(f'On 2012-12-02, outliers hours were: {np.where(np.abs(z2)>=threshold)}')"
   ]
  },
  {
   "cell_type": "markdown",
   "metadata": {
    "id": "XRhsABfMv6bX"
   },
   "source": [
    "---\n",
    "\n",
    "Download popular stock prices data from Yahoo Finance for the range August 1, 2024 to August 1, 2025\n",
    "\n",
    "---"
   ]
  },
  {
   "cell_type": "code",
   "execution_count": null,
   "metadata": {
    "colab": {
     "base_uri": "https://localhost:8080/",
     "height": 290
    },
    "executionInfo": {
     "elapsed": 1750,
     "status": "ok",
     "timestamp": 1756356588711,
     "user": {
      "displayName": "Tushar Raj",
      "userId": "04399146470560759060"
     },
     "user_tz": -330
    },
    "id": "uFLvp6n6wNnz",
    "outputId": "5a545b65-abdc-4810-b0b4-0bc6c3387b78"
   },
   "outputs": [
    {
     "name": "stderr",
     "output_type": "stream",
     "text": [
      "/tmp/ipython-input-1327796549.py:3: FutureWarning: YF.download() has changed argument auto_adjust default to True\n",
      "  dfstock = yf.download(stocks, start = \"2024-08-01\", end = \"2025-08-01\")\n",
      "[*********************100%***********************]  10 of 10 completed\n"
     ]
    },
    {
     "data": {
      "application/vnd.google.colaboratory.intrinsic+json": {
       "summary": "{\n  \"name\": \"dfstock\",\n  \"rows\": 250,\n  \"fields\": [\n    {\n      \"column\": \"Date\",\n      \"properties\": {\n        \"dtype\": \"date\",\n        \"min\": \"2024-08-01 00:00:00\",\n        \"max\": \"2025-07-31 00:00:00\",\n        \"num_unique_values\": 250,\n        \"samples\": [\n          \"2025-02-26 00:00:00\",\n          \"2024-08-09 00:00:00\",\n          \"2024-12-18 00:00:00\"\n        ],\n        \"semantic_type\": \"\",\n        \"description\": \"\"\n      }\n    },\n    {\n      \"column\": \"AAPL\",\n      \"properties\": {\n        \"dtype\": \"number\",\n        \"std\": 15.85871441902965,\n        \"min\": 171.99899291992188,\n        \"max\": 258.1037292480469,\n        \"num_unique_values\": 247,\n        \"samples\": [\n          227.8097686767578,\n          214.9894256591797,\n          208.76898193359375\n        ],\n        \"semantic_type\": \"\",\n        \"description\": \"\"\n      }\n    },\n    {\n      \"column\": \"AMZN\",\n      \"properties\": {\n        \"dtype\": \"number\",\n        \"std\": 19.98341066431429,\n        \"min\": 161.02000427246094,\n        \"max\": 242.05999755859375,\n        \"num_unique_values\": 246,\n        \"samples\": [\n          186.42999267578125,\n          166.94000244140625,\n          186.5399932861328\n        ],\n        \"semantic_type\": \"\",\n        \"description\": \"\"\n      }\n    },\n    {\n      \"column\": \"GOOG\",\n      \"properties\": {\n        \"dtype\": \"number\",\n        \"std\": 13.410398323647698,\n        \"min\": 146.40402221679688,\n        \"max\": 207.22454833984375,\n        \"num_unique_values\": 246,\n        \"samples\": [\n          162.67393493652344,\n          164.5998077392578,\n          162.22500610351562\n        ],\n        \"semantic_type\": \"\",\n        \"description\": \"\"\n      }\n    },\n    {\n      \"column\": \"JNJ\",\n      \"properties\": {\n        \"dtype\": \"number\",\n        \"std\": 6.439200329073632,\n        \"min\": 138.7157745361328,\n        \"max\": 168.32447814941406,\n        \"num_unique_values\": 242,\n        \"samples\": [\n          159.82359313964844,\n          154.41836547851562,\n          160.72230529785156\n        ],\n        \"semantic_type\": \"\",\n        \"description\": \"\"\n      }\n    },\n    {\n      \"column\": \"JPM\",\n      \"properties\": {\n        \"dtype\": \"number\",\n        \"std\": 26.753686281140446,\n        \"min\": 190.61947631835938,\n        \"max\": 299.6300048828125,\n        \"num_unique_values\": 249,\n        \"samples\": [\n          276.2098083496094,\n          201.2801055908203,\n          226.691162109375\n        ],\n        \"semantic_type\": \"\",\n        \"description\": \"\"\n      }\n    },\n    {\n      \"column\": \"META\",\n      \"properties\": {\n        \"dtype\": \"number\",\n        \"std\": 68.26861490572693,\n        \"min\": 474.10662841796875,\n        \"max\": 773.4400024414062,\n        \"num_unique_values\": 247,\n        \"samples\": [\n          557.7236328125,\n          516.003173828125,\n          549.3173217773438\n        ],\n        \"semantic_type\": \"\",\n        \"description\": \"\"\n      }\n    },\n    {\n      \"column\": \"MSFT\",\n      \"properties\": {\n        \"dtype\": \"number\",\n        \"std\": 36.22855963161991,\n        \"min\": 353.3294372558594,\n        \"max\": 532.6243896484375,\n        \"num_unique_values\": 250,\n        \"samples\": [\n          398.3426818847656,\n          402.26947021484375,\n          434.9997253417969\n        ],\n        \"semantic_type\": \"\",\n        \"description\": \"\"\n      }\n    },\n    {\n      \"column\": \"NVDA\",\n      \"properties\": {\n        \"dtype\": \"number\",\n        \"std\": 17.89758922831384,\n        \"min\": 94.30345153808594,\n        \"max\": 179.27000427246094,\n        \"num_unique_values\": 248,\n        \"samples\": [\n          113.34388732910156,\n          104.7169189453125,\n          108.72245025634766\n        ],\n        \"semantic_type\": \"\",\n        \"description\": \"\"\n      }\n    },\n    {\n      \"column\": \"TSLA\",\n      \"properties\": {\n        \"dtype\": \"number\",\n        \"std\": 67.45590671936226,\n        \"min\": 191.75999450683594,\n        \"max\": 479.8599853515625,\n        \"num_unique_values\": 249,\n        \"samples\": [\n          360.55999755859375,\n          200.0,\n          440.1300048828125\n        ],\n        \"semantic_type\": \"\",\n        \"description\": \"\"\n      }\n    },\n    {\n      \"column\": \"XOM\",\n      \"properties\": {\n        \"dtype\": \"number\",\n        \"std\": 4.876721356680348,\n        \"min\": 98.1051254272461,\n        \"max\": 120.99515533447266,\n        \"num_unique_values\": 243,\n        \"samples\": [\n          109.22087860107422,\n          113.78658294677734,\n          111.68257141113281\n        ],\n        \"semantic_type\": \"\",\n        \"description\": \"\"\n      }\n    }\n  ]\n}",
       "type": "dataframe",
       "variable_name": "dfstock"
      },
      "text/html": [
       "\n",
       "  <div id=\"df-7ff83c08-30e3-4c76-b375-776083a2858f\" class=\"colab-df-container\">\n",
       "    <div>\n",
       "<style scoped>\n",
       "    .dataframe tbody tr th:only-of-type {\n",
       "        vertical-align: middle;\n",
       "    }\n",
       "\n",
       "    .dataframe tbody tr th {\n",
       "        vertical-align: top;\n",
       "    }\n",
       "\n",
       "    .dataframe thead th {\n",
       "        text-align: right;\n",
       "    }\n",
       "</style>\n",
       "<table border=\"1\" class=\"dataframe\">\n",
       "  <thead>\n",
       "    <tr style=\"text-align: right;\">\n",
       "      <th>Ticker</th>\n",
       "      <th>AAPL</th>\n",
       "      <th>AMZN</th>\n",
       "      <th>GOOG</th>\n",
       "      <th>JNJ</th>\n",
       "      <th>JPM</th>\n",
       "      <th>META</th>\n",
       "      <th>MSFT</th>\n",
       "      <th>NVDA</th>\n",
       "      <th>TSLA</th>\n",
       "      <th>XOM</th>\n",
       "    </tr>\n",
       "    <tr>\n",
       "      <th>Date</th>\n",
       "      <th></th>\n",
       "      <th></th>\n",
       "      <th></th>\n",
       "      <th></th>\n",
       "      <th></th>\n",
       "      <th></th>\n",
       "      <th></th>\n",
       "      <th></th>\n",
       "      <th></th>\n",
       "      <th></th>\n",
       "    </tr>\n",
       "  </thead>\n",
       "  <tbody>\n",
       "    <tr>\n",
       "      <th>2024-08-01</th>\n",
       "      <td>217.097168</td>\n",
       "      <td>184.070007</td>\n",
       "      <td>171.626053</td>\n",
       "      <td>154.552948</td>\n",
       "      <td>203.392670</td>\n",
       "      <td>496.041473</td>\n",
       "      <td>413.257019</td>\n",
       "      <td>109.175514</td>\n",
       "      <td>216.860001</td>\n",
       "      <td>111.967537</td>\n",
       "    </tr>\n",
       "    <tr>\n",
       "      <th>2024-08-02</th>\n",
       "      <td>218.588486</td>\n",
       "      <td>167.899994</td>\n",
       "      <td>167.595413</td>\n",
       "      <td>157.802460</td>\n",
       "      <td>194.766373</td>\n",
       "      <td>486.474274</td>\n",
       "      <td>404.716614</td>\n",
       "      <td>107.236122</td>\n",
       "      <td>207.669998</td>\n",
       "      <td>111.900520</td>\n",
       "    </tr>\n",
       "    <tr>\n",
       "      <th>2024-08-05</th>\n",
       "      <td>208.059723</td>\n",
       "      <td>161.020004</td>\n",
       "      <td>159.872498</td>\n",
       "      <td>155.024048</td>\n",
       "      <td>190.619476</td>\n",
       "      <td>474.106628</td>\n",
       "      <td>391.499847</td>\n",
       "      <td>100.418274</td>\n",
       "      <td>198.880005</td>\n",
       "      <td>109.880409</td>\n",
       "    </tr>\n",
       "    <tr>\n",
       "      <th>2024-08-06</th>\n",
       "      <td>206.031525</td>\n",
       "      <td>161.929993</td>\n",
       "      <td>159.772964</td>\n",
       "      <td>152.832077</td>\n",
       "      <td>195.940002</td>\n",
       "      <td>492.403931</td>\n",
       "      <td>395.918671</td>\n",
       "      <td>104.217079</td>\n",
       "      <td>200.639999</td>\n",
       "      <td>109.296417</td>\n",
       "    </tr>\n",
       "    <tr>\n",
       "      <th>2024-08-07</th>\n",
       "      <td>208.606552</td>\n",
       "      <td>162.770004</td>\n",
       "      <td>159.981979</td>\n",
       "      <td>152.764771</td>\n",
       "      <td>195.998688</td>\n",
       "      <td>487.251617</td>\n",
       "      <td>394.749573</td>\n",
       "      <td>98.878769</td>\n",
       "      <td>191.759995</td>\n",
       "      <td>110.751656</td>\n",
       "    </tr>\n",
       "  </tbody>\n",
       "</table>\n",
       "</div>\n",
       "    <div class=\"colab-df-buttons\">\n",
       "\n",
       "  <div class=\"colab-df-container\">\n",
       "    <button class=\"colab-df-convert\" onclick=\"convertToInteractive('df-7ff83c08-30e3-4c76-b375-776083a2858f')\"\n",
       "            title=\"Convert this dataframe to an interactive table.\"\n",
       "            style=\"display:none;\">\n",
       "\n",
       "  <svg xmlns=\"http://www.w3.org/2000/svg\" height=\"24px\" viewBox=\"0 -960 960 960\">\n",
       "    <path d=\"M120-120v-720h720v720H120Zm60-500h600v-160H180v160Zm220 220h160v-160H400v160Zm0 220h160v-160H400v160ZM180-400h160v-160H180v160Zm440 0h160v-160H620v160ZM180-180h160v-160H180v160Zm440 0h160v-160H620v160Z\"/>\n",
       "  </svg>\n",
       "    </button>\n",
       "\n",
       "  <style>\n",
       "    .colab-df-container {\n",
       "      display:flex;\n",
       "      gap: 12px;\n",
       "    }\n",
       "\n",
       "    .colab-df-convert {\n",
       "      background-color: #E8F0FE;\n",
       "      border: none;\n",
       "      border-radius: 50%;\n",
       "      cursor: pointer;\n",
       "      display: none;\n",
       "      fill: #1967D2;\n",
       "      height: 32px;\n",
       "      padding: 0 0 0 0;\n",
       "      width: 32px;\n",
       "    }\n",
       "\n",
       "    .colab-df-convert:hover {\n",
       "      background-color: #E2EBFA;\n",
       "      box-shadow: 0px 1px 2px rgba(60, 64, 67, 0.3), 0px 1px 3px 1px rgba(60, 64, 67, 0.15);\n",
       "      fill: #174EA6;\n",
       "    }\n",
       "\n",
       "    .colab-df-buttons div {\n",
       "      margin-bottom: 4px;\n",
       "    }\n",
       "\n",
       "    [theme=dark] .colab-df-convert {\n",
       "      background-color: #3B4455;\n",
       "      fill: #D2E3FC;\n",
       "    }\n",
       "\n",
       "    [theme=dark] .colab-df-convert:hover {\n",
       "      background-color: #434B5C;\n",
       "      box-shadow: 0px 1px 3px 1px rgba(0, 0, 0, 0.15);\n",
       "      filter: drop-shadow(0px 1px 2px rgba(0, 0, 0, 0.3));\n",
       "      fill: #FFFFFF;\n",
       "    }\n",
       "  </style>\n",
       "\n",
       "    <script>\n",
       "      const buttonEl =\n",
       "        document.querySelector('#df-7ff83c08-30e3-4c76-b375-776083a2858f button.colab-df-convert');\n",
       "      buttonEl.style.display =\n",
       "        google.colab.kernel.accessAllowed ? 'block' : 'none';\n",
       "\n",
       "      async function convertToInteractive(key) {\n",
       "        const element = document.querySelector('#df-7ff83c08-30e3-4c76-b375-776083a2858f');\n",
       "        const dataTable =\n",
       "          await google.colab.kernel.invokeFunction('convertToInteractive',\n",
       "                                                    [key], {});\n",
       "        if (!dataTable) return;\n",
       "\n",
       "        const docLinkHtml = 'Like what you see? Visit the ' +\n",
       "          '<a target=\"_blank\" href=https://colab.research.google.com/notebooks/data_table.ipynb>data table notebook</a>'\n",
       "          + ' to learn more about interactive tables.';\n",
       "        element.innerHTML = '';\n",
       "        dataTable['output_type'] = 'display_data';\n",
       "        await google.colab.output.renderOutput(dataTable, element);\n",
       "        const docLink = document.createElement('div');\n",
       "        docLink.innerHTML = docLinkHtml;\n",
       "        element.appendChild(docLink);\n",
       "      }\n",
       "    </script>\n",
       "  </div>\n",
       "\n",
       "\n",
       "    <div id=\"df-c7ef7d4b-1132-48e3-b8e3-8fea0c569213\">\n",
       "      <button class=\"colab-df-quickchart\" onclick=\"quickchart('df-c7ef7d4b-1132-48e3-b8e3-8fea0c569213')\"\n",
       "                title=\"Suggest charts\"\n",
       "                style=\"display:none;\">\n",
       "\n",
       "<svg xmlns=\"http://www.w3.org/2000/svg\" height=\"24px\"viewBox=\"0 0 24 24\"\n",
       "     width=\"24px\">\n",
       "    <g>\n",
       "        <path d=\"M19 3H5c-1.1 0-2 .9-2 2v14c0 1.1.9 2 2 2h14c1.1 0 2-.9 2-2V5c0-1.1-.9-2-2-2zM9 17H7v-7h2v7zm4 0h-2V7h2v10zm4 0h-2v-4h2v4z\"/>\n",
       "    </g>\n",
       "</svg>\n",
       "      </button>\n",
       "\n",
       "<style>\n",
       "  .colab-df-quickchart {\n",
       "      --bg-color: #E8F0FE;\n",
       "      --fill-color: #1967D2;\n",
       "      --hover-bg-color: #E2EBFA;\n",
       "      --hover-fill-color: #174EA6;\n",
       "      --disabled-fill-color: #AAA;\n",
       "      --disabled-bg-color: #DDD;\n",
       "  }\n",
       "\n",
       "  [theme=dark] .colab-df-quickchart {\n",
       "      --bg-color: #3B4455;\n",
       "      --fill-color: #D2E3FC;\n",
       "      --hover-bg-color: #434B5C;\n",
       "      --hover-fill-color: #FFFFFF;\n",
       "      --disabled-bg-color: #3B4455;\n",
       "      --disabled-fill-color: #666;\n",
       "  }\n",
       "\n",
       "  .colab-df-quickchart {\n",
       "    background-color: var(--bg-color);\n",
       "    border: none;\n",
       "    border-radius: 50%;\n",
       "    cursor: pointer;\n",
       "    display: none;\n",
       "    fill: var(--fill-color);\n",
       "    height: 32px;\n",
       "    padding: 0;\n",
       "    width: 32px;\n",
       "  }\n",
       "\n",
       "  .colab-df-quickchart:hover {\n",
       "    background-color: var(--hover-bg-color);\n",
       "    box-shadow: 0 1px 2px rgba(60, 64, 67, 0.3), 0 1px 3px 1px rgba(60, 64, 67, 0.15);\n",
       "    fill: var(--button-hover-fill-color);\n",
       "  }\n",
       "\n",
       "  .colab-df-quickchart-complete:disabled,\n",
       "  .colab-df-quickchart-complete:disabled:hover {\n",
       "    background-color: var(--disabled-bg-color);\n",
       "    fill: var(--disabled-fill-color);\n",
       "    box-shadow: none;\n",
       "  }\n",
       "\n",
       "  .colab-df-spinner {\n",
       "    border: 2px solid var(--fill-color);\n",
       "    border-color: transparent;\n",
       "    border-bottom-color: var(--fill-color);\n",
       "    animation:\n",
       "      spin 1s steps(1) infinite;\n",
       "  }\n",
       "\n",
       "  @keyframes spin {\n",
       "    0% {\n",
       "      border-color: transparent;\n",
       "      border-bottom-color: var(--fill-color);\n",
       "      border-left-color: var(--fill-color);\n",
       "    }\n",
       "    20% {\n",
       "      border-color: transparent;\n",
       "      border-left-color: var(--fill-color);\n",
       "      border-top-color: var(--fill-color);\n",
       "    }\n",
       "    30% {\n",
       "      border-color: transparent;\n",
       "      border-left-color: var(--fill-color);\n",
       "      border-top-color: var(--fill-color);\n",
       "      border-right-color: var(--fill-color);\n",
       "    }\n",
       "    40% {\n",
       "      border-color: transparent;\n",
       "      border-right-color: var(--fill-color);\n",
       "      border-top-color: var(--fill-color);\n",
       "    }\n",
       "    60% {\n",
       "      border-color: transparent;\n",
       "      border-right-color: var(--fill-color);\n",
       "    }\n",
       "    80% {\n",
       "      border-color: transparent;\n",
       "      border-right-color: var(--fill-color);\n",
       "      border-bottom-color: var(--fill-color);\n",
       "    }\n",
       "    90% {\n",
       "      border-color: transparent;\n",
       "      border-bottom-color: var(--fill-color);\n",
       "    }\n",
       "  }\n",
       "</style>\n",
       "\n",
       "      <script>\n",
       "        async function quickchart(key) {\n",
       "          const quickchartButtonEl =\n",
       "            document.querySelector('#' + key + ' button');\n",
       "          quickchartButtonEl.disabled = true;  // To prevent multiple clicks.\n",
       "          quickchartButtonEl.classList.add('colab-df-spinner');\n",
       "          try {\n",
       "            const charts = await google.colab.kernel.invokeFunction(\n",
       "                'suggestCharts', [key], {});\n",
       "          } catch (error) {\n",
       "            console.error('Error during call to suggestCharts:', error);\n",
       "          }\n",
       "          quickchartButtonEl.classList.remove('colab-df-spinner');\n",
       "          quickchartButtonEl.classList.add('colab-df-quickchart-complete');\n",
       "        }\n",
       "        (() => {\n",
       "          let quickchartButtonEl =\n",
       "            document.querySelector('#df-c7ef7d4b-1132-48e3-b8e3-8fea0c569213 button');\n",
       "          quickchartButtonEl.style.display =\n",
       "            google.colab.kernel.accessAllowed ? 'block' : 'none';\n",
       "        })();\n",
       "      </script>\n",
       "    </div>\n",
       "\n",
       "    </div>\n",
       "  </div>\n"
      ],
      "text/plain": [
       "Ticker            AAPL        AMZN        GOOG         JNJ         JPM  \\\n",
       "Date                                                                     \n",
       "2024-08-01  217.097168  184.070007  171.626053  154.552948  203.392670   \n",
       "2024-08-02  218.588486  167.899994  167.595413  157.802460  194.766373   \n",
       "2024-08-05  208.059723  161.020004  159.872498  155.024048  190.619476   \n",
       "2024-08-06  206.031525  161.929993  159.772964  152.832077  195.940002   \n",
       "2024-08-07  208.606552  162.770004  159.981979  152.764771  195.998688   \n",
       "\n",
       "Ticker            META        MSFT        NVDA        TSLA         XOM  \n",
       "Date                                                                    \n",
       "2024-08-01  496.041473  413.257019  109.175514  216.860001  111.967537  \n",
       "2024-08-02  486.474274  404.716614  107.236122  207.669998  111.900520  \n",
       "2024-08-05  474.106628  391.499847  100.418274  198.880005  109.880409  \n",
       "2024-08-06  492.403931  395.918671  104.217079  200.639999  109.296417  \n",
       "2024-08-07  487.251617  394.749573   98.878769  191.759995  110.751656  "
      ]
     },
     "execution_count": 3,
     "metadata": {},
     "output_type": "execute_result"
    }
   ],
   "source": [
    "# Download stock price data of popular companies\n",
    "stocks = ['AAPL', 'MSFT', 'GOOG', 'TSLA', 'JNJ', 'JPM', 'NVDA', 'AMZN', 'META', 'XOM']\n",
    "dfstock = yf.download(stocks, start = \"2024-08-01\", end = \"2025-08-01\")\n",
    "# print(dfstock)\n",
    "dfstock = dfstock.xs('Close', axis = 1, level = 0)\n",
    "dfstock.dropna(inplace = True)\n",
    "\n",
    "dfstock.head()"
   ]
  },
  {
   "cell_type": "code",
   "execution_count": null,
   "metadata": {
    "colab": {
     "base_uri": "https://localhost:8080/"
    },
    "executionInfo": {
     "elapsed": 258,
     "status": "ok",
     "timestamp": 1756356591198,
     "user": {
      "displayName": "Tushar Raj",
      "userId": "04399146470560759060"
     },
     "user_tz": -330
    },
    "id": "dU5lNGzSYdQ0",
    "outputId": "d982add9-4b6f-4f2e-ac3f-612db37d50af"
   },
   "outputs": [
    {
     "name": "stderr",
     "output_type": "stream",
     "text": [
      "/tmp/ipython-input-314465814.py:4: FutureWarning: YF.download() has changed argument auto_adjust default to True\n",
      "  DF_stock = yf.download(stocks,start=\"2024-08-01\",end=\"2025-08-01\")\n",
      "[*********************100%***********************]  10 of 10 completed\n"
     ]
    }
   ],
   "source": [
    "import yfinance as yf\n",
    "#testing\n",
    "stocks = ['AAPL', 'MSFT', 'GOOG', 'TSLA', 'JNJ', 'JPM', 'NVDA', 'AMZN', 'META', 'XOM']\n",
    "DF_stock = yf.download(stocks,start=\"2024-08-01\",end=\"2025-08-01\")\n",
    "# dfstock.head()"
   ]
  },
  {
   "cell_type": "code",
   "execution_count": null,
   "metadata": {
    "colab": {
     "base_uri": "https://localhost:8080/",
     "height": 238
    },
    "executionInfo": {
     "elapsed": 33,
     "status": "ok",
     "timestamp": 1756356592517,
     "user": {
      "displayName": "Tushar Raj",
      "userId": "04399146470560759060"
     },
     "user_tz": -330
    },
    "id": "pV1wQYy-axKv",
    "outputId": "78d5f8e4-e619-400e-a766-324e8c9b6d43"
   },
   "outputs": [
    {
     "data": {
      "application/vnd.google.colaboratory.intrinsic+json": {
       "summary": "{\n  \"name\": \"df_data\",\n  \"rows\": 250,\n  \"fields\": [\n    {\n      \"column\": \"Date\",\n      \"properties\": {\n        \"dtype\": \"date\",\n        \"min\": \"2024-08-01 00:00:00\",\n        \"max\": \"2025-07-31 00:00:00\",\n        \"num_unique_values\": 250,\n        \"samples\": [\n          \"2025-02-26 00:00:00\",\n          \"2024-08-09 00:00:00\",\n          \"2024-12-18 00:00:00\"\n        ],\n        \"semantic_type\": \"\",\n        \"description\": \"\"\n      }\n    },\n    {\n      \"column\": \"AAPL\",\n      \"properties\": {\n        \"dtype\": \"number\",\n        \"std\": 15.85871441902965,\n        \"min\": 171.99899291992188,\n        \"max\": 258.1037292480469,\n        \"num_unique_values\": 247,\n        \"samples\": [\n          227.8097686767578,\n          214.9894256591797,\n          208.76898193359375\n        ],\n        \"semantic_type\": \"\",\n        \"description\": \"\"\n      }\n    },\n    {\n      \"column\": \"AMZN\",\n      \"properties\": {\n        \"dtype\": \"number\",\n        \"std\": 19.98341066431429,\n        \"min\": 161.02000427246094,\n        \"max\": 242.05999755859375,\n        \"num_unique_values\": 246,\n        \"samples\": [\n          186.42999267578125,\n          166.94000244140625,\n          186.5399932861328\n        ],\n        \"semantic_type\": \"\",\n        \"description\": \"\"\n      }\n    },\n    {\n      \"column\": \"GOOG\",\n      \"properties\": {\n        \"dtype\": \"number\",\n        \"std\": 13.410398323647698,\n        \"min\": 146.40402221679688,\n        \"max\": 207.22454833984375,\n        \"num_unique_values\": 246,\n        \"samples\": [\n          162.67393493652344,\n          164.5998077392578,\n          162.22500610351562\n        ],\n        \"semantic_type\": \"\",\n        \"description\": \"\"\n      }\n    },\n    {\n      \"column\": \"JNJ\",\n      \"properties\": {\n        \"dtype\": \"number\",\n        \"std\": 6.439200329073632,\n        \"min\": 138.7157745361328,\n        \"max\": 168.32447814941406,\n        \"num_unique_values\": 242,\n        \"samples\": [\n          159.82359313964844,\n          154.41836547851562,\n          160.72230529785156\n        ],\n        \"semantic_type\": \"\",\n        \"description\": \"\"\n      }\n    },\n    {\n      \"column\": \"JPM\",\n      \"properties\": {\n        \"dtype\": \"number\",\n        \"std\": 26.753686281140446,\n        \"min\": 190.61947631835938,\n        \"max\": 299.6300048828125,\n        \"num_unique_values\": 249,\n        \"samples\": [\n          276.2098083496094,\n          201.2801055908203,\n          226.691162109375\n        ],\n        \"semantic_type\": \"\",\n        \"description\": \"\"\n      }\n    },\n    {\n      \"column\": \"META\",\n      \"properties\": {\n        \"dtype\": \"number\",\n        \"std\": 68.26861490572693,\n        \"min\": 474.10662841796875,\n        \"max\": 773.4400024414062,\n        \"num_unique_values\": 247,\n        \"samples\": [\n          557.7236328125,\n          516.003173828125,\n          549.3173217773438\n        ],\n        \"semantic_type\": \"\",\n        \"description\": \"\"\n      }\n    },\n    {\n      \"column\": \"MSFT\",\n      \"properties\": {\n        \"dtype\": \"number\",\n        \"std\": 36.22855963161991,\n        \"min\": 353.3294372558594,\n        \"max\": 532.6243896484375,\n        \"num_unique_values\": 250,\n        \"samples\": [\n          398.3426818847656,\n          402.26947021484375,\n          434.9997253417969\n        ],\n        \"semantic_type\": \"\",\n        \"description\": \"\"\n      }\n    },\n    {\n      \"column\": \"NVDA\",\n      \"properties\": {\n        \"dtype\": \"number\",\n        \"std\": 17.89758922831384,\n        \"min\": 94.30345153808594,\n        \"max\": 179.27000427246094,\n        \"num_unique_values\": 248,\n        \"samples\": [\n          113.34388732910156,\n          104.7169189453125,\n          108.72245025634766\n        ],\n        \"semantic_type\": \"\",\n        \"description\": \"\"\n      }\n    },\n    {\n      \"column\": \"TSLA\",\n      \"properties\": {\n        \"dtype\": \"number\",\n        \"std\": 67.45590671936226,\n        \"min\": 191.75999450683594,\n        \"max\": 479.8599853515625,\n        \"num_unique_values\": 249,\n        \"samples\": [\n          360.55999755859375,\n          200.0,\n          440.1300048828125\n        ],\n        \"semantic_type\": \"\",\n        \"description\": \"\"\n      }\n    },\n    {\n      \"column\": \"XOM\",\n      \"properties\": {\n        \"dtype\": \"number\",\n        \"std\": 4.876721356680348,\n        \"min\": 98.1051254272461,\n        \"max\": 120.99515533447266,\n        \"num_unique_values\": 243,\n        \"samples\": [\n          109.22087860107422,\n          113.78658294677734,\n          111.68257141113281\n        ],\n        \"semantic_type\": \"\",\n        \"description\": \"\"\n      }\n    }\n  ]\n}",
       "type": "dataframe",
       "variable_name": "df_data"
      },
      "text/html": [
       "\n",
       "  <div id=\"df-c84050e1-3932-4b97-88ac-b861f2425e7f\" class=\"colab-df-container\">\n",
       "    <div>\n",
       "<style scoped>\n",
       "    .dataframe tbody tr th:only-of-type {\n",
       "        vertical-align: middle;\n",
       "    }\n",
       "\n",
       "    .dataframe tbody tr th {\n",
       "        vertical-align: top;\n",
       "    }\n",
       "\n",
       "    .dataframe thead th {\n",
       "        text-align: right;\n",
       "    }\n",
       "</style>\n",
       "<table border=\"1\" class=\"dataframe\">\n",
       "  <thead>\n",
       "    <tr style=\"text-align: right;\">\n",
       "      <th>Ticker</th>\n",
       "      <th>AAPL</th>\n",
       "      <th>AMZN</th>\n",
       "      <th>GOOG</th>\n",
       "      <th>JNJ</th>\n",
       "      <th>JPM</th>\n",
       "      <th>META</th>\n",
       "      <th>MSFT</th>\n",
       "      <th>NVDA</th>\n",
       "      <th>TSLA</th>\n",
       "      <th>XOM</th>\n",
       "    </tr>\n",
       "    <tr>\n",
       "      <th>Date</th>\n",
       "      <th></th>\n",
       "      <th></th>\n",
       "      <th></th>\n",
       "      <th></th>\n",
       "      <th></th>\n",
       "      <th></th>\n",
       "      <th></th>\n",
       "      <th></th>\n",
       "      <th></th>\n",
       "      <th></th>\n",
       "    </tr>\n",
       "  </thead>\n",
       "  <tbody>\n",
       "    <tr>\n",
       "      <th>2024-08-01</th>\n",
       "      <td>217.097168</td>\n",
       "      <td>184.070007</td>\n",
       "      <td>171.626053</td>\n",
       "      <td>154.552948</td>\n",
       "      <td>203.392670</td>\n",
       "      <td>496.041473</td>\n",
       "      <td>413.257019</td>\n",
       "      <td>109.175514</td>\n",
       "      <td>216.860001</td>\n",
       "      <td>111.967537</td>\n",
       "    </tr>\n",
       "    <tr>\n",
       "      <th>2024-08-02</th>\n",
       "      <td>218.588486</td>\n",
       "      <td>167.899994</td>\n",
       "      <td>167.595413</td>\n",
       "      <td>157.802460</td>\n",
       "      <td>194.766373</td>\n",
       "      <td>486.474274</td>\n",
       "      <td>404.716614</td>\n",
       "      <td>107.236122</td>\n",
       "      <td>207.669998</td>\n",
       "      <td>111.900520</td>\n",
       "    </tr>\n",
       "    <tr>\n",
       "      <th>2024-08-05</th>\n",
       "      <td>208.059723</td>\n",
       "      <td>161.020004</td>\n",
       "      <td>159.872498</td>\n",
       "      <td>155.024048</td>\n",
       "      <td>190.619476</td>\n",
       "      <td>474.106628</td>\n",
       "      <td>391.499847</td>\n",
       "      <td>100.418274</td>\n",
       "      <td>198.880005</td>\n",
       "      <td>109.880409</td>\n",
       "    </tr>\n",
       "    <tr>\n",
       "      <th>2024-08-06</th>\n",
       "      <td>206.031525</td>\n",
       "      <td>161.929993</td>\n",
       "      <td>159.772964</td>\n",
       "      <td>152.832077</td>\n",
       "      <td>195.940002</td>\n",
       "      <td>492.403931</td>\n",
       "      <td>395.918671</td>\n",
       "      <td>104.217079</td>\n",
       "      <td>200.639999</td>\n",
       "      <td>109.296417</td>\n",
       "    </tr>\n",
       "    <tr>\n",
       "      <th>2024-08-07</th>\n",
       "      <td>208.606552</td>\n",
       "      <td>162.770004</td>\n",
       "      <td>159.981979</td>\n",
       "      <td>152.764771</td>\n",
       "      <td>195.998688</td>\n",
       "      <td>487.251617</td>\n",
       "      <td>394.749573</td>\n",
       "      <td>98.878769</td>\n",
       "      <td>191.759995</td>\n",
       "      <td>110.751656</td>\n",
       "    </tr>\n",
       "  </tbody>\n",
       "</table>\n",
       "</div>\n",
       "    <div class=\"colab-df-buttons\">\n",
       "\n",
       "  <div class=\"colab-df-container\">\n",
       "    <button class=\"colab-df-convert\" onclick=\"convertToInteractive('df-c84050e1-3932-4b97-88ac-b861f2425e7f')\"\n",
       "            title=\"Convert this dataframe to an interactive table.\"\n",
       "            style=\"display:none;\">\n",
       "\n",
       "  <svg xmlns=\"http://www.w3.org/2000/svg\" height=\"24px\" viewBox=\"0 -960 960 960\">\n",
       "    <path d=\"M120-120v-720h720v720H120Zm60-500h600v-160H180v160Zm220 220h160v-160H400v160Zm0 220h160v-160H400v160ZM180-400h160v-160H180v160Zm440 0h160v-160H620v160ZM180-180h160v-160H180v160Zm440 0h160v-160H620v160Z\"/>\n",
       "  </svg>\n",
       "    </button>\n",
       "\n",
       "  <style>\n",
       "    .colab-df-container {\n",
       "      display:flex;\n",
       "      gap: 12px;\n",
       "    }\n",
       "\n",
       "    .colab-df-convert {\n",
       "      background-color: #E8F0FE;\n",
       "      border: none;\n",
       "      border-radius: 50%;\n",
       "      cursor: pointer;\n",
       "      display: none;\n",
       "      fill: #1967D2;\n",
       "      height: 32px;\n",
       "      padding: 0 0 0 0;\n",
       "      width: 32px;\n",
       "    }\n",
       "\n",
       "    .colab-df-convert:hover {\n",
       "      background-color: #E2EBFA;\n",
       "      box-shadow: 0px 1px 2px rgba(60, 64, 67, 0.3), 0px 1px 3px 1px rgba(60, 64, 67, 0.15);\n",
       "      fill: #174EA6;\n",
       "    }\n",
       "\n",
       "    .colab-df-buttons div {\n",
       "      margin-bottom: 4px;\n",
       "    }\n",
       "\n",
       "    [theme=dark] .colab-df-convert {\n",
       "      background-color: #3B4455;\n",
       "      fill: #D2E3FC;\n",
       "    }\n",
       "\n",
       "    [theme=dark] .colab-df-convert:hover {\n",
       "      background-color: #434B5C;\n",
       "      box-shadow: 0px 1px 3px 1px rgba(0, 0, 0, 0.15);\n",
       "      filter: drop-shadow(0px 1px 2px rgba(0, 0, 0, 0.3));\n",
       "      fill: #FFFFFF;\n",
       "    }\n",
       "  </style>\n",
       "\n",
       "    <script>\n",
       "      const buttonEl =\n",
       "        document.querySelector('#df-c84050e1-3932-4b97-88ac-b861f2425e7f button.colab-df-convert');\n",
       "      buttonEl.style.display =\n",
       "        google.colab.kernel.accessAllowed ? 'block' : 'none';\n",
       "\n",
       "      async function convertToInteractive(key) {\n",
       "        const element = document.querySelector('#df-c84050e1-3932-4b97-88ac-b861f2425e7f');\n",
       "        const dataTable =\n",
       "          await google.colab.kernel.invokeFunction('convertToInteractive',\n",
       "                                                    [key], {});\n",
       "        if (!dataTable) return;\n",
       "\n",
       "        const docLinkHtml = 'Like what you see? Visit the ' +\n",
       "          '<a target=\"_blank\" href=https://colab.research.google.com/notebooks/data_table.ipynb>data table notebook</a>'\n",
       "          + ' to learn more about interactive tables.';\n",
       "        element.innerHTML = '';\n",
       "        dataTable['output_type'] = 'display_data';\n",
       "        await google.colab.output.renderOutput(dataTable, element);\n",
       "        const docLink = document.createElement('div');\n",
       "        docLink.innerHTML = docLinkHtml;\n",
       "        element.appendChild(docLink);\n",
       "      }\n",
       "    </script>\n",
       "  </div>\n",
       "\n",
       "\n",
       "    <div id=\"df-4f0865b9-8141-4d9f-80b8-a8d184df0d42\">\n",
       "      <button class=\"colab-df-quickchart\" onclick=\"quickchart('df-4f0865b9-8141-4d9f-80b8-a8d184df0d42')\"\n",
       "                title=\"Suggest charts\"\n",
       "                style=\"display:none;\">\n",
       "\n",
       "<svg xmlns=\"http://www.w3.org/2000/svg\" height=\"24px\"viewBox=\"0 0 24 24\"\n",
       "     width=\"24px\">\n",
       "    <g>\n",
       "        <path d=\"M19 3H5c-1.1 0-2 .9-2 2v14c0 1.1.9 2 2 2h14c1.1 0 2-.9 2-2V5c0-1.1-.9-2-2-2zM9 17H7v-7h2v7zm4 0h-2V7h2v10zm4 0h-2v-4h2v4z\"/>\n",
       "    </g>\n",
       "</svg>\n",
       "      </button>\n",
       "\n",
       "<style>\n",
       "  .colab-df-quickchart {\n",
       "      --bg-color: #E8F0FE;\n",
       "      --fill-color: #1967D2;\n",
       "      --hover-bg-color: #E2EBFA;\n",
       "      --hover-fill-color: #174EA6;\n",
       "      --disabled-fill-color: #AAA;\n",
       "      --disabled-bg-color: #DDD;\n",
       "  }\n",
       "\n",
       "  [theme=dark] .colab-df-quickchart {\n",
       "      --bg-color: #3B4455;\n",
       "      --fill-color: #D2E3FC;\n",
       "      --hover-bg-color: #434B5C;\n",
       "      --hover-fill-color: #FFFFFF;\n",
       "      --disabled-bg-color: #3B4455;\n",
       "      --disabled-fill-color: #666;\n",
       "  }\n",
       "\n",
       "  .colab-df-quickchart {\n",
       "    background-color: var(--bg-color);\n",
       "    border: none;\n",
       "    border-radius: 50%;\n",
       "    cursor: pointer;\n",
       "    display: none;\n",
       "    fill: var(--fill-color);\n",
       "    height: 32px;\n",
       "    padding: 0;\n",
       "    width: 32px;\n",
       "  }\n",
       "\n",
       "  .colab-df-quickchart:hover {\n",
       "    background-color: var(--hover-bg-color);\n",
       "    box-shadow: 0 1px 2px rgba(60, 64, 67, 0.3), 0 1px 3px 1px rgba(60, 64, 67, 0.15);\n",
       "    fill: var(--button-hover-fill-color);\n",
       "  }\n",
       "\n",
       "  .colab-df-quickchart-complete:disabled,\n",
       "  .colab-df-quickchart-complete:disabled:hover {\n",
       "    background-color: var(--disabled-bg-color);\n",
       "    fill: var(--disabled-fill-color);\n",
       "    box-shadow: none;\n",
       "  }\n",
       "\n",
       "  .colab-df-spinner {\n",
       "    border: 2px solid var(--fill-color);\n",
       "    border-color: transparent;\n",
       "    border-bottom-color: var(--fill-color);\n",
       "    animation:\n",
       "      spin 1s steps(1) infinite;\n",
       "  }\n",
       "\n",
       "  @keyframes spin {\n",
       "    0% {\n",
       "      border-color: transparent;\n",
       "      border-bottom-color: var(--fill-color);\n",
       "      border-left-color: var(--fill-color);\n",
       "    }\n",
       "    20% {\n",
       "      border-color: transparent;\n",
       "      border-left-color: var(--fill-color);\n",
       "      border-top-color: var(--fill-color);\n",
       "    }\n",
       "    30% {\n",
       "      border-color: transparent;\n",
       "      border-left-color: var(--fill-color);\n",
       "      border-top-color: var(--fill-color);\n",
       "      border-right-color: var(--fill-color);\n",
       "    }\n",
       "    40% {\n",
       "      border-color: transparent;\n",
       "      border-right-color: var(--fill-color);\n",
       "      border-top-color: var(--fill-color);\n",
       "    }\n",
       "    60% {\n",
       "      border-color: transparent;\n",
       "      border-right-color: var(--fill-color);\n",
       "    }\n",
       "    80% {\n",
       "      border-color: transparent;\n",
       "      border-right-color: var(--fill-color);\n",
       "      border-bottom-color: var(--fill-color);\n",
       "    }\n",
       "    90% {\n",
       "      border-color: transparent;\n",
       "      border-bottom-color: var(--fill-color);\n",
       "    }\n",
       "  }\n",
       "</style>\n",
       "\n",
       "      <script>\n",
       "        async function quickchart(key) {\n",
       "          const quickchartButtonEl =\n",
       "            document.querySelector('#' + key + ' button');\n",
       "          quickchartButtonEl.disabled = true;  // To prevent multiple clicks.\n",
       "          quickchartButtonEl.classList.add('colab-df-spinner');\n",
       "          try {\n",
       "            const charts = await google.colab.kernel.invokeFunction(\n",
       "                'suggestCharts', [key], {});\n",
       "          } catch (error) {\n",
       "            console.error('Error during call to suggestCharts:', error);\n",
       "          }\n",
       "          quickchartButtonEl.classList.remove('colab-df-spinner');\n",
       "          quickchartButtonEl.classList.add('colab-df-quickchart-complete');\n",
       "        }\n",
       "        (() => {\n",
       "          let quickchartButtonEl =\n",
       "            document.querySelector('#df-4f0865b9-8141-4d9f-80b8-a8d184df0d42 button');\n",
       "          quickchartButtonEl.style.display =\n",
       "            google.colab.kernel.accessAllowed ? 'block' : 'none';\n",
       "        })();\n",
       "      </script>\n",
       "    </div>\n",
       "\n",
       "    </div>\n",
       "  </div>\n"
      ],
      "text/plain": [
       "Ticker            AAPL        AMZN        GOOG         JNJ         JPM  \\\n",
       "Date                                                                     \n",
       "2024-08-01  217.097168  184.070007  171.626053  154.552948  203.392670   \n",
       "2024-08-02  218.588486  167.899994  167.595413  157.802460  194.766373   \n",
       "2024-08-05  208.059723  161.020004  159.872498  155.024048  190.619476   \n",
       "2024-08-06  206.031525  161.929993  159.772964  152.832077  195.940002   \n",
       "2024-08-07  208.606552  162.770004  159.981979  152.764771  195.998688   \n",
       "\n",
       "Ticker            META        MSFT        NVDA        TSLA         XOM  \n",
       "Date                                                                    \n",
       "2024-08-01  496.041473  413.257019  109.175514  216.860001  111.967537  \n",
       "2024-08-02  486.474274  404.716614  107.236122  207.669998  111.900520  \n",
       "2024-08-05  474.106628  391.499847  100.418274  198.880005  109.880409  \n",
       "2024-08-06  492.403931  395.918671  104.217079  200.639999  109.296417  \n",
       "2024-08-07  487.251617  394.749573   98.878769  191.759995  110.751656  "
      ]
     },
     "execution_count": 5,
     "metadata": {},
     "output_type": "execute_result"
    }
   ],
   "source": [
    "# DF_stock.columns #to check the colums ('Close','GOOG')\n",
    "df_data = DF_stock.xs('Close',axis=1,level=0) #this is used to find the Close values and axis=dim=1 and level=0\n",
    "# DF_stock.xs('Close',axis=1)\n",
    "df_data.dropna(inplace=True)\n",
    "df_data.head()"
   ]
  },
  {
   "cell_type": "code",
   "execution_count": null,
   "metadata": {
    "colab": {
     "base_uri": "https://localhost:8080/",
     "height": 255
    },
    "executionInfo": {
     "elapsed": 58,
     "status": "ok",
     "timestamp": 1756356594009,
     "user": {
      "displayName": "Tushar Raj",
      "userId": "04399146470560759060"
     },
     "user_tz": -330
    },
    "id": "rqv6gb1Wd2ii",
    "outputId": "eb7d12b9-3909-4988-b63f-9b8a4a3399a0"
   },
   "outputs": [
    {
     "name": "stdout",
     "output_type": "stream",
     "text": [
      "log returns \n"
     ]
    },
    {
     "data": {
      "application/vnd.google.colaboratory.intrinsic+json": {
       "summary": "{\n  \"name\": \"log_returns\",\n  \"rows\": 249,\n  \"fields\": [\n    {\n      \"column\": \"Date\",\n      \"properties\": {\n        \"dtype\": \"date\",\n        \"min\": \"2024-08-02 00:00:00\",\n        \"max\": \"2025-07-31 00:00:00\",\n        \"num_unique_values\": 249,\n        \"samples\": [\n          \"2025-02-20 00:00:00\",\n          \"2024-08-12 00:00:00\",\n          \"2024-12-19 00:00:00\"\n        ],\n        \"semantic_type\": \"\",\n        \"description\": \"\"\n      }\n    },\n    {\n      \"column\": \"AAPL\",\n      \"properties\": {\n        \"dtype\": \"number\",\n        \"std\": 0.0198146370466437,\n        \"min\": -0.09701330683544312,\n        \"max\": 0.1426174047866074,\n        \"num_unique_values\": 249,\n        \"samples\": [\n          0.003912786638377083,\n          0.007104668600275111,\n          0.006990209734520397\n        ],\n        \"semantic_type\": \"\",\n        \"description\": \"\"\n      }\n    },\n    {\n      \"column\": \"AMZN\",\n      \"properties\": {\n        \"dtype\": \"number\",\n        \"std\": 0.02150131016407998,\n        \"min\": -0.0940813573992858,\n        \"max\": 0.11312358861813517,\n        \"num_unique_values\": 249,\n        \"samples\": [\n          -0.016685221316839496,\n          -0.0008389728264874979,\n          0.012482931876037162\n        ],\n        \"semantic_type\": \"\",\n        \"description\": \"\"\n      }\n    },\n    {\n      \"column\": \"GOOG\",\n      \"properties\": {\n        \"dtype\": \"number\",\n        \"std\": 0.019646957600434983,\n        \"min\": -0.07802690955010853,\n        \"max\": 0.09420561215442394,\n        \"num_unique_values\": 249,\n        \"samples\": [\n          -0.002621886693642757,\n          -0.008744822202811387,\n          -0.002369335406156849\n        ],\n        \"semantic_type\": \"\",\n        \"description\": \"\"\n      }\n    },\n    {\n      \"column\": \"JNJ\",\n      \"properties\": {\n        \"dtype\": \"number\",\n        \"std\": 0.012190149954411275,\n        \"min\": -0.07895290784696309,\n        \"max\": 0.06008997499124939,\n        \"num_unique_values\": 249,\n        \"samples\": [\n          0.011273148430408582,\n          -0.004617678193869332,\n          -0.008115737612947356\n        ],\n        \"semantic_type\": \"\",\n        \"description\": \"\"\n      }\n    },\n    {\n      \"column\": \"JPM\",\n      \"properties\": {\n        \"dtype\": \"number\",\n        \"std\": 0.017553206015312663,\n        \"min\": -0.07778678843371709,\n        \"max\": 0.10925370479454441,\n        \"num_unique_values\": 249,\n        \"samples\": [\n          -0.0456081092687353,\n          0.0018931975793237898,\n          0.011180209665514767\n        ],\n        \"semantic_type\": \"\",\n        \"description\": \"\"\n      }\n    },\n    {\n      \"column\": \"META\",\n      \"properties\": {\n        \"dtype\": \"number\",\n        \"std\": 0.022928914970594048,\n        \"min\": -0.09385215742044108,\n        \"max\": 0.13763451852648712,\n        \"num_unique_values\": 249,\n        \"samples\": [\n          -0.01277011010661002,\n          -0.0035213703053586323,\n          -0.002716380384199426\n        ],\n        \"semantic_type\": \"\",\n        \"description\": \"\"\n      }\n    },\n    {\n      \"column\": \"MSFT\",\n      \"properties\": {\n        \"dtype\": \"number\",\n        \"std\": 0.01570210107466915,\n        \"min\": -0.06380176711700852,\n        \"max\": 0.09652477464988424,\n        \"num_unique_values\": 249,\n        \"samples\": [\n          0.00527676000702823,\n          0.0019437813379043405,\n          -0.0008234020118920072\n        ],\n        \"semantic_type\": \"\",\n        \"description\": \"\"\n      }\n    },\n    {\n      \"column\": \"NVDA\",\n      \"properties\": {\n        \"dtype\": \"number\",\n        \"std\": 0.034123203556453624,\n        \"min\": -0.1859461111169654,\n        \"max\": 0.17162060308658567,\n        \"num_unique_values\": 249,\n        \"samples\": [\n          0.006300655283237534,\n          0.03995481464029446,\n          0.013636984092378849\n        ],\n        \"semantic_type\": \"\",\n        \"description\": \"\"\n      }\n    },\n    {\n      \"column\": \"TSLA\",\n      \"properties\": {\n        \"dtype\": \"number\",\n        \"std\": 0.04500839002753893,\n        \"min\": -0.16754574067757613,\n        \"max\": 0.20449058000160142,\n        \"num_unique_values\": 249,\n        \"samples\": [\n          -0.01723217010242546,\n          -0.012629388585244743,\n          -0.009038042516689774\n        ],\n        \"semantic_type\": \"\",\n        \"description\": \"\"\n      }\n    },\n    {\n      \"column\": \"XOM\",\n      \"properties\": {\n        \"dtype\": \"number\",\n        \"std\": 0.015348865995123894,\n        \"min\": -0.07467605024703375,\n        \"max\": 0.04870986874569039,\n        \"num_unique_values\": 249,\n        \"samples\": [\n          0.01529492295519084,\n          0.0012613540440731227,\n          -0.00858784998332021\n        ],\n        \"semantic_type\": \"\",\n        \"description\": \"\"\n      }\n    }\n  ]\n}",
       "type": "dataframe",
       "variable_name": "log_returns"
      },
      "text/html": [
       "\n",
       "  <div id=\"df-cc368f39-1ca2-485a-9bf2-4073b47a1cef\" class=\"colab-df-container\">\n",
       "    <div>\n",
       "<style scoped>\n",
       "    .dataframe tbody tr th:only-of-type {\n",
       "        vertical-align: middle;\n",
       "    }\n",
       "\n",
       "    .dataframe tbody tr th {\n",
       "        vertical-align: top;\n",
       "    }\n",
       "\n",
       "    .dataframe thead th {\n",
       "        text-align: right;\n",
       "    }\n",
       "</style>\n",
       "<table border=\"1\" class=\"dataframe\">\n",
       "  <thead>\n",
       "    <tr style=\"text-align: right;\">\n",
       "      <th>Ticker</th>\n",
       "      <th>AAPL</th>\n",
       "      <th>AMZN</th>\n",
       "      <th>GOOG</th>\n",
       "      <th>JNJ</th>\n",
       "      <th>JPM</th>\n",
       "      <th>META</th>\n",
       "      <th>MSFT</th>\n",
       "      <th>NVDA</th>\n",
       "      <th>TSLA</th>\n",
       "      <th>XOM</th>\n",
       "    </tr>\n",
       "    <tr>\n",
       "      <th>Date</th>\n",
       "      <th></th>\n",
       "      <th></th>\n",
       "      <th></th>\n",
       "      <th></th>\n",
       "      <th></th>\n",
       "      <th></th>\n",
       "      <th></th>\n",
       "      <th></th>\n",
       "      <th></th>\n",
       "      <th></th>\n",
       "    </tr>\n",
       "  </thead>\n",
       "  <tbody>\n",
       "    <tr>\n",
       "      <th>2024-08-02</th>\n",
       "      <td>0.006846</td>\n",
       "      <td>-0.091948</td>\n",
       "      <td>-0.023765</td>\n",
       "      <td>0.020807</td>\n",
       "      <td>-0.043338</td>\n",
       "      <td>-0.019476</td>\n",
       "      <td>-0.020883</td>\n",
       "      <td>-0.017924</td>\n",
       "      <td>-0.043302</td>\n",
       "      <td>-0.000599</td>\n",
       "    </tr>\n",
       "    <tr>\n",
       "      <th>2024-08-05</th>\n",
       "      <td>-0.049366</td>\n",
       "      <td>-0.041840</td>\n",
       "      <td>-0.047176</td>\n",
       "      <td>-0.017764</td>\n",
       "      <td>-0.021522</td>\n",
       "      <td>-0.025752</td>\n",
       "      <td>-0.033202</td>\n",
       "      <td>-0.065689</td>\n",
       "      <td>-0.043249</td>\n",
       "      <td>-0.018218</td>\n",
       "    </tr>\n",
       "    <tr>\n",
       "      <th>2024-08-06</th>\n",
       "      <td>-0.009796</td>\n",
       "      <td>0.005635</td>\n",
       "      <td>-0.000623</td>\n",
       "      <td>-0.014240</td>\n",
       "      <td>0.027529</td>\n",
       "      <td>0.037867</td>\n",
       "      <td>0.011224</td>\n",
       "      <td>0.037132</td>\n",
       "      <td>0.008811</td>\n",
       "      <td>-0.005329</td>\n",
       "    </tr>\n",
       "    <tr>\n",
       "      <th>2024-08-07</th>\n",
       "      <td>0.012421</td>\n",
       "      <td>0.005174</td>\n",
       "      <td>0.001307</td>\n",
       "      <td>-0.000440</td>\n",
       "      <td>0.000299</td>\n",
       "      <td>-0.010519</td>\n",
       "      <td>-0.002957</td>\n",
       "      <td>-0.052581</td>\n",
       "      <td>-0.045268</td>\n",
       "      <td>0.013227</td>\n",
       "    </tr>\n",
       "    <tr>\n",
       "      <th>2024-08-08</th>\n",
       "      <td>0.016496</td>\n",
       "      <td>0.018444</td>\n",
       "      <td>0.019040</td>\n",
       "      <td>0.008273</td>\n",
       "      <td>0.018099</td>\n",
       "      <td>0.041486</td>\n",
       "      <td>0.010635</td>\n",
       "      <td>0.059464</td>\n",
       "      <td>0.036256</td>\n",
       "      <td>0.018924</td>\n",
       "    </tr>\n",
       "  </tbody>\n",
       "</table>\n",
       "</div>\n",
       "    <div class=\"colab-df-buttons\">\n",
       "\n",
       "  <div class=\"colab-df-container\">\n",
       "    <button class=\"colab-df-convert\" onclick=\"convertToInteractive('df-cc368f39-1ca2-485a-9bf2-4073b47a1cef')\"\n",
       "            title=\"Convert this dataframe to an interactive table.\"\n",
       "            style=\"display:none;\">\n",
       "\n",
       "  <svg xmlns=\"http://www.w3.org/2000/svg\" height=\"24px\" viewBox=\"0 -960 960 960\">\n",
       "    <path d=\"M120-120v-720h720v720H120Zm60-500h600v-160H180v160Zm220 220h160v-160H400v160Zm0 220h160v-160H400v160ZM180-400h160v-160H180v160Zm440 0h160v-160H620v160ZM180-180h160v-160H180v160Zm440 0h160v-160H620v160Z\"/>\n",
       "  </svg>\n",
       "    </button>\n",
       "\n",
       "  <style>\n",
       "    .colab-df-container {\n",
       "      display:flex;\n",
       "      gap: 12px;\n",
       "    }\n",
       "\n",
       "    .colab-df-convert {\n",
       "      background-color: #E8F0FE;\n",
       "      border: none;\n",
       "      border-radius: 50%;\n",
       "      cursor: pointer;\n",
       "      display: none;\n",
       "      fill: #1967D2;\n",
       "      height: 32px;\n",
       "      padding: 0 0 0 0;\n",
       "      width: 32px;\n",
       "    }\n",
       "\n",
       "    .colab-df-convert:hover {\n",
       "      background-color: #E2EBFA;\n",
       "      box-shadow: 0px 1px 2px rgba(60, 64, 67, 0.3), 0px 1px 3px 1px rgba(60, 64, 67, 0.15);\n",
       "      fill: #174EA6;\n",
       "    }\n",
       "\n",
       "    .colab-df-buttons div {\n",
       "      margin-bottom: 4px;\n",
       "    }\n",
       "\n",
       "    [theme=dark] .colab-df-convert {\n",
       "      background-color: #3B4455;\n",
       "      fill: #D2E3FC;\n",
       "    }\n",
       "\n",
       "    [theme=dark] .colab-df-convert:hover {\n",
       "      background-color: #434B5C;\n",
       "      box-shadow: 0px 1px 3px 1px rgba(0, 0, 0, 0.15);\n",
       "      filter: drop-shadow(0px 1px 2px rgba(0, 0, 0, 0.3));\n",
       "      fill: #FFFFFF;\n",
       "    }\n",
       "  </style>\n",
       "\n",
       "    <script>\n",
       "      const buttonEl =\n",
       "        document.querySelector('#df-cc368f39-1ca2-485a-9bf2-4073b47a1cef button.colab-df-convert');\n",
       "      buttonEl.style.display =\n",
       "        google.colab.kernel.accessAllowed ? 'block' : 'none';\n",
       "\n",
       "      async function convertToInteractive(key) {\n",
       "        const element = document.querySelector('#df-cc368f39-1ca2-485a-9bf2-4073b47a1cef');\n",
       "        const dataTable =\n",
       "          await google.colab.kernel.invokeFunction('convertToInteractive',\n",
       "                                                    [key], {});\n",
       "        if (!dataTable) return;\n",
       "\n",
       "        const docLinkHtml = 'Like what you see? Visit the ' +\n",
       "          '<a target=\"_blank\" href=https://colab.research.google.com/notebooks/data_table.ipynb>data table notebook</a>'\n",
       "          + ' to learn more about interactive tables.';\n",
       "        element.innerHTML = '';\n",
       "        dataTable['output_type'] = 'display_data';\n",
       "        await google.colab.output.renderOutput(dataTable, element);\n",
       "        const docLink = document.createElement('div');\n",
       "        docLink.innerHTML = docLinkHtml;\n",
       "        element.appendChild(docLink);\n",
       "      }\n",
       "    </script>\n",
       "  </div>\n",
       "\n",
       "\n",
       "    <div id=\"df-1bf80ba9-70a2-4146-be00-24a65c897a7b\">\n",
       "      <button class=\"colab-df-quickchart\" onclick=\"quickchart('df-1bf80ba9-70a2-4146-be00-24a65c897a7b')\"\n",
       "                title=\"Suggest charts\"\n",
       "                style=\"display:none;\">\n",
       "\n",
       "<svg xmlns=\"http://www.w3.org/2000/svg\" height=\"24px\"viewBox=\"0 0 24 24\"\n",
       "     width=\"24px\">\n",
       "    <g>\n",
       "        <path d=\"M19 3H5c-1.1 0-2 .9-2 2v14c0 1.1.9 2 2 2h14c1.1 0 2-.9 2-2V5c0-1.1-.9-2-2-2zM9 17H7v-7h2v7zm4 0h-2V7h2v10zm4 0h-2v-4h2v4z\"/>\n",
       "    </g>\n",
       "</svg>\n",
       "      </button>\n",
       "\n",
       "<style>\n",
       "  .colab-df-quickchart {\n",
       "      --bg-color: #E8F0FE;\n",
       "      --fill-color: #1967D2;\n",
       "      --hover-bg-color: #E2EBFA;\n",
       "      --hover-fill-color: #174EA6;\n",
       "      --disabled-fill-color: #AAA;\n",
       "      --disabled-bg-color: #DDD;\n",
       "  }\n",
       "\n",
       "  [theme=dark] .colab-df-quickchart {\n",
       "      --bg-color: #3B4455;\n",
       "      --fill-color: #D2E3FC;\n",
       "      --hover-bg-color: #434B5C;\n",
       "      --hover-fill-color: #FFFFFF;\n",
       "      --disabled-bg-color: #3B4455;\n",
       "      --disabled-fill-color: #666;\n",
       "  }\n",
       "\n",
       "  .colab-df-quickchart {\n",
       "    background-color: var(--bg-color);\n",
       "    border: none;\n",
       "    border-radius: 50%;\n",
       "    cursor: pointer;\n",
       "    display: none;\n",
       "    fill: var(--fill-color);\n",
       "    height: 32px;\n",
       "    padding: 0;\n",
       "    width: 32px;\n",
       "  }\n",
       "\n",
       "  .colab-df-quickchart:hover {\n",
       "    background-color: var(--hover-bg-color);\n",
       "    box-shadow: 0 1px 2px rgba(60, 64, 67, 0.3), 0 1px 3px 1px rgba(60, 64, 67, 0.15);\n",
       "    fill: var(--button-hover-fill-color);\n",
       "  }\n",
       "\n",
       "  .colab-df-quickchart-complete:disabled,\n",
       "  .colab-df-quickchart-complete:disabled:hover {\n",
       "    background-color: var(--disabled-bg-color);\n",
       "    fill: var(--disabled-fill-color);\n",
       "    box-shadow: none;\n",
       "  }\n",
       "\n",
       "  .colab-df-spinner {\n",
       "    border: 2px solid var(--fill-color);\n",
       "    border-color: transparent;\n",
       "    border-bottom-color: var(--fill-color);\n",
       "    animation:\n",
       "      spin 1s steps(1) infinite;\n",
       "  }\n",
       "\n",
       "  @keyframes spin {\n",
       "    0% {\n",
       "      border-color: transparent;\n",
       "      border-bottom-color: var(--fill-color);\n",
       "      border-left-color: var(--fill-color);\n",
       "    }\n",
       "    20% {\n",
       "      border-color: transparent;\n",
       "      border-left-color: var(--fill-color);\n",
       "      border-top-color: var(--fill-color);\n",
       "    }\n",
       "    30% {\n",
       "      border-color: transparent;\n",
       "      border-left-color: var(--fill-color);\n",
       "      border-top-color: var(--fill-color);\n",
       "      border-right-color: var(--fill-color);\n",
       "    }\n",
       "    40% {\n",
       "      border-color: transparent;\n",
       "      border-right-color: var(--fill-color);\n",
       "      border-top-color: var(--fill-color);\n",
       "    }\n",
       "    60% {\n",
       "      border-color: transparent;\n",
       "      border-right-color: var(--fill-color);\n",
       "    }\n",
       "    80% {\n",
       "      border-color: transparent;\n",
       "      border-right-color: var(--fill-color);\n",
       "      border-bottom-color: var(--fill-color);\n",
       "    }\n",
       "    90% {\n",
       "      border-color: transparent;\n",
       "      border-bottom-color: var(--fill-color);\n",
       "    }\n",
       "  }\n",
       "</style>\n",
       "\n",
       "      <script>\n",
       "        async function quickchart(key) {\n",
       "          const quickchartButtonEl =\n",
       "            document.querySelector('#' + key + ' button');\n",
       "          quickchartButtonEl.disabled = true;  // To prevent multiple clicks.\n",
       "          quickchartButtonEl.classList.add('colab-df-spinner');\n",
       "          try {\n",
       "            const charts = await google.colab.kernel.invokeFunction(\n",
       "                'suggestCharts', [key], {});\n",
       "          } catch (error) {\n",
       "            console.error('Error during call to suggestCharts:', error);\n",
       "          }\n",
       "          quickchartButtonEl.classList.remove('colab-df-spinner');\n",
       "          quickchartButtonEl.classList.add('colab-df-quickchart-complete');\n",
       "        }\n",
       "        (() => {\n",
       "          let quickchartButtonEl =\n",
       "            document.querySelector('#df-1bf80ba9-70a2-4146-be00-24a65c897a7b button');\n",
       "          quickchartButtonEl.style.display =\n",
       "            google.colab.kernel.accessAllowed ? 'block' : 'none';\n",
       "        })();\n",
       "      </script>\n",
       "    </div>\n",
       "\n",
       "    </div>\n",
       "  </div>\n"
      ],
      "text/plain": [
       "Ticker          AAPL      AMZN      GOOG       JNJ       JPM      META  \\\n",
       "Date                                                                     \n",
       "2024-08-02  0.006846 -0.091948 -0.023765  0.020807 -0.043338 -0.019476   \n",
       "2024-08-05 -0.049366 -0.041840 -0.047176 -0.017764 -0.021522 -0.025752   \n",
       "2024-08-06 -0.009796  0.005635 -0.000623 -0.014240  0.027529  0.037867   \n",
       "2024-08-07  0.012421  0.005174  0.001307 -0.000440  0.000299 -0.010519   \n",
       "2024-08-08  0.016496  0.018444  0.019040  0.008273  0.018099  0.041486   \n",
       "\n",
       "Ticker          MSFT      NVDA      TSLA       XOM  \n",
       "Date                                                \n",
       "2024-08-02 -0.020883 -0.017924 -0.043302 -0.000599  \n",
       "2024-08-05 -0.033202 -0.065689 -0.043249 -0.018218  \n",
       "2024-08-06  0.011224  0.037132  0.008811 -0.005329  \n",
       "2024-08-07 -0.002957 -0.052581 -0.045268  0.013227  \n",
       "2024-08-08  0.010635  0.059464  0.036256  0.018924  "
      ]
     },
     "execution_count": 6,
     "metadata": {},
     "output_type": "execute_result"
    }
   ],
   "source": [
    "log_returns = np.log(df_data/df_data.shift(1)).dropna()\n",
    "print(\"log returns \")\n",
    "log_returns.head()"
   ]
  },
  {
   "cell_type": "code",
   "execution_count": null,
   "metadata": {
    "cellView": "form",
    "colab": {
     "base_uri": "https://localhost:8080/",
     "height": 159
    },
    "executionInfo": {
     "elapsed": 10,
     "status": "error",
     "timestamp": 1756182841479,
     "user": {
      "displayName": "Tushar Raj",
      "userId": "04399146470560759060"
     },
     "user_tz": -330
    },
    "id": "b32-pIFtj007",
    "outputId": "3584bd9f-bcf9-4ba3-dc23-ca54e591680d"
   },
   "outputs": [
    {
     "ename": "NameError",
     "evalue": "name 'dfstock' is not defined",
     "output_type": "error",
     "traceback": [
      "\u001b[0;31m---------------------------------------------------------------------------\u001b[0m",
      "\u001b[0;31mNameError\u001b[0m                                 Traceback (most recent call last)",
      "\u001b[0;32m/tmp/ipython-input-3454222518.py\u001b[0m in \u001b[0;36m<cell line: 0>\u001b[0;34m()\u001b[0m\n\u001b[1;32m      1\u001b[0m \u001b[0;32mfrom\u001b[0m \u001b[0mgoogle\u001b[0m\u001b[0;34m.\u001b[0m\u001b[0mcolab\u001b[0m \u001b[0;32mimport\u001b[0m \u001b[0msheets\u001b[0m\u001b[0;34m\u001b[0m\u001b[0;34m\u001b[0m\u001b[0m\n\u001b[0;32m----> 2\u001b[0;31m \u001b[0msheet\u001b[0m \u001b[0;34m=\u001b[0m \u001b[0msheets\u001b[0m\u001b[0;34m.\u001b[0m\u001b[0mInteractiveSheet\u001b[0m\u001b[0;34m(\u001b[0m\u001b[0mdf\u001b[0m\u001b[0;34m=\u001b[0m\u001b[0mdfstock\u001b[0m\u001b[0;34m)\u001b[0m\u001b[0;34m\u001b[0m\u001b[0;34m\u001b[0m\u001b[0m\n\u001b[0m",
      "\u001b[0;31mNameError\u001b[0m: name 'dfstock' is not defined"
     ]
    }
   ],
   "source": [
    "from google.colab import sheets\n",
    "sheet = sheets.InteractiveSheet(df=dfstock)"
   ]
  },
  {
   "cell_type": "markdown",
   "metadata": {
    "id": "b6fWdwuwzcBo"
   },
   "source": [
    "---\n",
    "\n",
    "Compute daily log returns as $\\log\\left(\\frac{P_t}{P_{t-1}}\\right)$ where $P_t$ is stock price today and $P_{t-1}$ is stock price yesterday. For each company, its log return values can be treated as a vector."
   ]
  },
  {
   "cell_type": "code",
   "execution_count": null,
   "metadata": {
    "colab": {
     "base_uri": "https://localhost:8080/",
     "height": 255
    },
    "executionInfo": {
     "elapsed": 147,
     "status": "ok",
     "timestamp": 1756356596877,
     "user": {
      "displayName": "Tushar Raj",
      "userId": "04399146470560759060"
     },
     "user_tz": -330
    },
    "id": "lxkvKEC7zx7T",
    "outputId": "cff26ee0-3b64-4842-8e0e-23ff47660d0b"
   },
   "outputs": [
    {
     "name": "stdout",
     "output_type": "stream",
     "text": [
      "log returns \n"
     ]
    },
    {
     "data": {
      "application/vnd.google.colaboratory.intrinsic+json": {
       "summary": "{\n  \"name\": \"log_returns\",\n  \"rows\": 249,\n  \"fields\": [\n    {\n      \"column\": \"Date\",\n      \"properties\": {\n        \"dtype\": \"date\",\n        \"min\": \"2024-08-02 00:00:00\",\n        \"max\": \"2025-07-31 00:00:00\",\n        \"num_unique_values\": 249,\n        \"samples\": [\n          \"2025-02-20 00:00:00\",\n          \"2024-08-12 00:00:00\",\n          \"2024-12-19 00:00:00\"\n        ],\n        \"semantic_type\": \"\",\n        \"description\": \"\"\n      }\n    },\n    {\n      \"column\": \"AAPL\",\n      \"properties\": {\n        \"dtype\": \"number\",\n        \"std\": 0.0198146370466437,\n        \"min\": -0.09701330683544312,\n        \"max\": 0.1426174047866074,\n        \"num_unique_values\": 249,\n        \"samples\": [\n          0.003912786638377083,\n          0.007104668600275111,\n          0.006990209734520397\n        ],\n        \"semantic_type\": \"\",\n        \"description\": \"\"\n      }\n    },\n    {\n      \"column\": \"AMZN\",\n      \"properties\": {\n        \"dtype\": \"number\",\n        \"std\": 0.02150131016407998,\n        \"min\": -0.0940813573992858,\n        \"max\": 0.11312358861813517,\n        \"num_unique_values\": 249,\n        \"samples\": [\n          -0.016685221316839496,\n          -0.0008389728264874979,\n          0.012482931876037162\n        ],\n        \"semantic_type\": \"\",\n        \"description\": \"\"\n      }\n    },\n    {\n      \"column\": \"GOOG\",\n      \"properties\": {\n        \"dtype\": \"number\",\n        \"std\": 0.019646957600434983,\n        \"min\": -0.07802690955010853,\n        \"max\": 0.09420561215442394,\n        \"num_unique_values\": 249,\n        \"samples\": [\n          -0.002621886693642757,\n          -0.008744822202811387,\n          -0.002369335406156849\n        ],\n        \"semantic_type\": \"\",\n        \"description\": \"\"\n      }\n    },\n    {\n      \"column\": \"JNJ\",\n      \"properties\": {\n        \"dtype\": \"number\",\n        \"std\": 0.012190149954411275,\n        \"min\": -0.07895290784696309,\n        \"max\": 0.06008997499124939,\n        \"num_unique_values\": 249,\n        \"samples\": [\n          0.011273148430408582,\n          -0.004617678193869332,\n          -0.008115737612947356\n        ],\n        \"semantic_type\": \"\",\n        \"description\": \"\"\n      }\n    },\n    {\n      \"column\": \"JPM\",\n      \"properties\": {\n        \"dtype\": \"number\",\n        \"std\": 0.017553206015312663,\n        \"min\": -0.07778678843371709,\n        \"max\": 0.10925370479454441,\n        \"num_unique_values\": 249,\n        \"samples\": [\n          -0.0456081092687353,\n          0.0018931975793237898,\n          0.011180209665514767\n        ],\n        \"semantic_type\": \"\",\n        \"description\": \"\"\n      }\n    },\n    {\n      \"column\": \"META\",\n      \"properties\": {\n        \"dtype\": \"number\",\n        \"std\": 0.022928914970594048,\n        \"min\": -0.09385215742044108,\n        \"max\": 0.13763451852648712,\n        \"num_unique_values\": 249,\n        \"samples\": [\n          -0.01277011010661002,\n          -0.0035213703053586323,\n          -0.002716380384199426\n        ],\n        \"semantic_type\": \"\",\n        \"description\": \"\"\n      }\n    },\n    {\n      \"column\": \"MSFT\",\n      \"properties\": {\n        \"dtype\": \"number\",\n        \"std\": 0.01570210107466915,\n        \"min\": -0.06380176711700852,\n        \"max\": 0.09652477464988424,\n        \"num_unique_values\": 249,\n        \"samples\": [\n          0.00527676000702823,\n          0.0019437813379043405,\n          -0.0008234020118920072\n        ],\n        \"semantic_type\": \"\",\n        \"description\": \"\"\n      }\n    },\n    {\n      \"column\": \"NVDA\",\n      \"properties\": {\n        \"dtype\": \"number\",\n        \"std\": 0.034123203556453624,\n        \"min\": -0.1859461111169654,\n        \"max\": 0.17162060308658567,\n        \"num_unique_values\": 249,\n        \"samples\": [\n          0.006300655283237534,\n          0.03995481464029446,\n          0.013636984092378849\n        ],\n        \"semantic_type\": \"\",\n        \"description\": \"\"\n      }\n    },\n    {\n      \"column\": \"TSLA\",\n      \"properties\": {\n        \"dtype\": \"number\",\n        \"std\": 0.04500839002753893,\n        \"min\": -0.16754574067757613,\n        \"max\": 0.20449058000160142,\n        \"num_unique_values\": 249,\n        \"samples\": [\n          -0.01723217010242546,\n          -0.012629388585244743,\n          -0.009038042516689774\n        ],\n        \"semantic_type\": \"\",\n        \"description\": \"\"\n      }\n    },\n    {\n      \"column\": \"XOM\",\n      \"properties\": {\n        \"dtype\": \"number\",\n        \"std\": 0.015348865995123894,\n        \"min\": -0.07467605024703375,\n        \"max\": 0.04870986874569039,\n        \"num_unique_values\": 249,\n        \"samples\": [\n          0.01529492295519084,\n          0.0012613540440731227,\n          -0.00858784998332021\n        ],\n        \"semantic_type\": \"\",\n        \"description\": \"\"\n      }\n    }\n  ]\n}",
       "type": "dataframe",
       "variable_name": "log_returns"
      },
      "text/html": [
       "\n",
       "  <div id=\"df-3ecc969d-cf12-4865-8ffa-8f515b6e4d36\" class=\"colab-df-container\">\n",
       "    <div>\n",
       "<style scoped>\n",
       "    .dataframe tbody tr th:only-of-type {\n",
       "        vertical-align: middle;\n",
       "    }\n",
       "\n",
       "    .dataframe tbody tr th {\n",
       "        vertical-align: top;\n",
       "    }\n",
       "\n",
       "    .dataframe thead th {\n",
       "        text-align: right;\n",
       "    }\n",
       "</style>\n",
       "<table border=\"1\" class=\"dataframe\">\n",
       "  <thead>\n",
       "    <tr style=\"text-align: right;\">\n",
       "      <th>Ticker</th>\n",
       "      <th>AAPL</th>\n",
       "      <th>AMZN</th>\n",
       "      <th>GOOG</th>\n",
       "      <th>JNJ</th>\n",
       "      <th>JPM</th>\n",
       "      <th>META</th>\n",
       "      <th>MSFT</th>\n",
       "      <th>NVDA</th>\n",
       "      <th>TSLA</th>\n",
       "      <th>XOM</th>\n",
       "    </tr>\n",
       "    <tr>\n",
       "      <th>Date</th>\n",
       "      <th></th>\n",
       "      <th></th>\n",
       "      <th></th>\n",
       "      <th></th>\n",
       "      <th></th>\n",
       "      <th></th>\n",
       "      <th></th>\n",
       "      <th></th>\n",
       "      <th></th>\n",
       "      <th></th>\n",
       "    </tr>\n",
       "  </thead>\n",
       "  <tbody>\n",
       "    <tr>\n",
       "      <th>2024-08-02</th>\n",
       "      <td>0.006846</td>\n",
       "      <td>-0.091948</td>\n",
       "      <td>-0.023765</td>\n",
       "      <td>0.020807</td>\n",
       "      <td>-0.043338</td>\n",
       "      <td>-0.019476</td>\n",
       "      <td>-0.020883</td>\n",
       "      <td>-0.017924</td>\n",
       "      <td>-0.043302</td>\n",
       "      <td>-0.000599</td>\n",
       "    </tr>\n",
       "    <tr>\n",
       "      <th>2024-08-05</th>\n",
       "      <td>-0.049366</td>\n",
       "      <td>-0.041840</td>\n",
       "      <td>-0.047176</td>\n",
       "      <td>-0.017764</td>\n",
       "      <td>-0.021522</td>\n",
       "      <td>-0.025752</td>\n",
       "      <td>-0.033202</td>\n",
       "      <td>-0.065689</td>\n",
       "      <td>-0.043249</td>\n",
       "      <td>-0.018218</td>\n",
       "    </tr>\n",
       "    <tr>\n",
       "      <th>2024-08-06</th>\n",
       "      <td>-0.009796</td>\n",
       "      <td>0.005635</td>\n",
       "      <td>-0.000623</td>\n",
       "      <td>-0.014240</td>\n",
       "      <td>0.027529</td>\n",
       "      <td>0.037867</td>\n",
       "      <td>0.011224</td>\n",
       "      <td>0.037132</td>\n",
       "      <td>0.008811</td>\n",
       "      <td>-0.005329</td>\n",
       "    </tr>\n",
       "    <tr>\n",
       "      <th>2024-08-07</th>\n",
       "      <td>0.012421</td>\n",
       "      <td>0.005174</td>\n",
       "      <td>0.001307</td>\n",
       "      <td>-0.000440</td>\n",
       "      <td>0.000299</td>\n",
       "      <td>-0.010519</td>\n",
       "      <td>-0.002957</td>\n",
       "      <td>-0.052581</td>\n",
       "      <td>-0.045268</td>\n",
       "      <td>0.013227</td>\n",
       "    </tr>\n",
       "    <tr>\n",
       "      <th>2024-08-08</th>\n",
       "      <td>0.016496</td>\n",
       "      <td>0.018444</td>\n",
       "      <td>0.019040</td>\n",
       "      <td>0.008273</td>\n",
       "      <td>0.018099</td>\n",
       "      <td>0.041486</td>\n",
       "      <td>0.010635</td>\n",
       "      <td>0.059464</td>\n",
       "      <td>0.036256</td>\n",
       "      <td>0.018924</td>\n",
       "    </tr>\n",
       "  </tbody>\n",
       "</table>\n",
       "</div>\n",
       "    <div class=\"colab-df-buttons\">\n",
       "\n",
       "  <div class=\"colab-df-container\">\n",
       "    <button class=\"colab-df-convert\" onclick=\"convertToInteractive('df-3ecc969d-cf12-4865-8ffa-8f515b6e4d36')\"\n",
       "            title=\"Convert this dataframe to an interactive table.\"\n",
       "            style=\"display:none;\">\n",
       "\n",
       "  <svg xmlns=\"http://www.w3.org/2000/svg\" height=\"24px\" viewBox=\"0 -960 960 960\">\n",
       "    <path d=\"M120-120v-720h720v720H120Zm60-500h600v-160H180v160Zm220 220h160v-160H400v160Zm0 220h160v-160H400v160ZM180-400h160v-160H180v160Zm440 0h160v-160H620v160ZM180-180h160v-160H180v160Zm440 0h160v-160H620v160Z\"/>\n",
       "  </svg>\n",
       "    </button>\n",
       "\n",
       "  <style>\n",
       "    .colab-df-container {\n",
       "      display:flex;\n",
       "      gap: 12px;\n",
       "    }\n",
       "\n",
       "    .colab-df-convert {\n",
       "      background-color: #E8F0FE;\n",
       "      border: none;\n",
       "      border-radius: 50%;\n",
       "      cursor: pointer;\n",
       "      display: none;\n",
       "      fill: #1967D2;\n",
       "      height: 32px;\n",
       "      padding: 0 0 0 0;\n",
       "      width: 32px;\n",
       "    }\n",
       "\n",
       "    .colab-df-convert:hover {\n",
       "      background-color: #E2EBFA;\n",
       "      box-shadow: 0px 1px 2px rgba(60, 64, 67, 0.3), 0px 1px 3px 1px rgba(60, 64, 67, 0.15);\n",
       "      fill: #174EA6;\n",
       "    }\n",
       "\n",
       "    .colab-df-buttons div {\n",
       "      margin-bottom: 4px;\n",
       "    }\n",
       "\n",
       "    [theme=dark] .colab-df-convert {\n",
       "      background-color: #3B4455;\n",
       "      fill: #D2E3FC;\n",
       "    }\n",
       "\n",
       "    [theme=dark] .colab-df-convert:hover {\n",
       "      background-color: #434B5C;\n",
       "      box-shadow: 0px 1px 3px 1px rgba(0, 0, 0, 0.15);\n",
       "      filter: drop-shadow(0px 1px 2px rgba(0, 0, 0, 0.3));\n",
       "      fill: #FFFFFF;\n",
       "    }\n",
       "  </style>\n",
       "\n",
       "    <script>\n",
       "      const buttonEl =\n",
       "        document.querySelector('#df-3ecc969d-cf12-4865-8ffa-8f515b6e4d36 button.colab-df-convert');\n",
       "      buttonEl.style.display =\n",
       "        google.colab.kernel.accessAllowed ? 'block' : 'none';\n",
       "\n",
       "      async function convertToInteractive(key) {\n",
       "        const element = document.querySelector('#df-3ecc969d-cf12-4865-8ffa-8f515b6e4d36');\n",
       "        const dataTable =\n",
       "          await google.colab.kernel.invokeFunction('convertToInteractive',\n",
       "                                                    [key], {});\n",
       "        if (!dataTable) return;\n",
       "\n",
       "        const docLinkHtml = 'Like what you see? Visit the ' +\n",
       "          '<a target=\"_blank\" href=https://colab.research.google.com/notebooks/data_table.ipynb>data table notebook</a>'\n",
       "          + ' to learn more about interactive tables.';\n",
       "        element.innerHTML = '';\n",
       "        dataTable['output_type'] = 'display_data';\n",
       "        await google.colab.output.renderOutput(dataTable, element);\n",
       "        const docLink = document.createElement('div');\n",
       "        docLink.innerHTML = docLinkHtml;\n",
       "        element.appendChild(docLink);\n",
       "      }\n",
       "    </script>\n",
       "  </div>\n",
       "\n",
       "\n",
       "    <div id=\"df-ccc9cae1-26cf-4ac6-ab0d-94bb27164301\">\n",
       "      <button class=\"colab-df-quickchart\" onclick=\"quickchart('df-ccc9cae1-26cf-4ac6-ab0d-94bb27164301')\"\n",
       "                title=\"Suggest charts\"\n",
       "                style=\"display:none;\">\n",
       "\n",
       "<svg xmlns=\"http://www.w3.org/2000/svg\" height=\"24px\"viewBox=\"0 0 24 24\"\n",
       "     width=\"24px\">\n",
       "    <g>\n",
       "        <path d=\"M19 3H5c-1.1 0-2 .9-2 2v14c0 1.1.9 2 2 2h14c1.1 0 2-.9 2-2V5c0-1.1-.9-2-2-2zM9 17H7v-7h2v7zm4 0h-2V7h2v10zm4 0h-2v-4h2v4z\"/>\n",
       "    </g>\n",
       "</svg>\n",
       "      </button>\n",
       "\n",
       "<style>\n",
       "  .colab-df-quickchart {\n",
       "      --bg-color: #E8F0FE;\n",
       "      --fill-color: #1967D2;\n",
       "      --hover-bg-color: #E2EBFA;\n",
       "      --hover-fill-color: #174EA6;\n",
       "      --disabled-fill-color: #AAA;\n",
       "      --disabled-bg-color: #DDD;\n",
       "  }\n",
       "\n",
       "  [theme=dark] .colab-df-quickchart {\n",
       "      --bg-color: #3B4455;\n",
       "      --fill-color: #D2E3FC;\n",
       "      --hover-bg-color: #434B5C;\n",
       "      --hover-fill-color: #FFFFFF;\n",
       "      --disabled-bg-color: #3B4455;\n",
       "      --disabled-fill-color: #666;\n",
       "  }\n",
       "\n",
       "  .colab-df-quickchart {\n",
       "    background-color: var(--bg-color);\n",
       "    border: none;\n",
       "    border-radius: 50%;\n",
       "    cursor: pointer;\n",
       "    display: none;\n",
       "    fill: var(--fill-color);\n",
       "    height: 32px;\n",
       "    padding: 0;\n",
       "    width: 32px;\n",
       "  }\n",
       "\n",
       "  .colab-df-quickchart:hover {\n",
       "    background-color: var(--hover-bg-color);\n",
       "    box-shadow: 0 1px 2px rgba(60, 64, 67, 0.3), 0 1px 3px 1px rgba(60, 64, 67, 0.15);\n",
       "    fill: var(--button-hover-fill-color);\n",
       "  }\n",
       "\n",
       "  .colab-df-quickchart-complete:disabled,\n",
       "  .colab-df-quickchart-complete:disabled:hover {\n",
       "    background-color: var(--disabled-bg-color);\n",
       "    fill: var(--disabled-fill-color);\n",
       "    box-shadow: none;\n",
       "  }\n",
       "\n",
       "  .colab-df-spinner {\n",
       "    border: 2px solid var(--fill-color);\n",
       "    border-color: transparent;\n",
       "    border-bottom-color: var(--fill-color);\n",
       "    animation:\n",
       "      spin 1s steps(1) infinite;\n",
       "  }\n",
       "\n",
       "  @keyframes spin {\n",
       "    0% {\n",
       "      border-color: transparent;\n",
       "      border-bottom-color: var(--fill-color);\n",
       "      border-left-color: var(--fill-color);\n",
       "    }\n",
       "    20% {\n",
       "      border-color: transparent;\n",
       "      border-left-color: var(--fill-color);\n",
       "      border-top-color: var(--fill-color);\n",
       "    }\n",
       "    30% {\n",
       "      border-color: transparent;\n",
       "      border-left-color: var(--fill-color);\n",
       "      border-top-color: var(--fill-color);\n",
       "      border-right-color: var(--fill-color);\n",
       "    }\n",
       "    40% {\n",
       "      border-color: transparent;\n",
       "      border-right-color: var(--fill-color);\n",
       "      border-top-color: var(--fill-color);\n",
       "    }\n",
       "    60% {\n",
       "      border-color: transparent;\n",
       "      border-right-color: var(--fill-color);\n",
       "    }\n",
       "    80% {\n",
       "      border-color: transparent;\n",
       "      border-right-color: var(--fill-color);\n",
       "      border-bottom-color: var(--fill-color);\n",
       "    }\n",
       "    90% {\n",
       "      border-color: transparent;\n",
       "      border-bottom-color: var(--fill-color);\n",
       "    }\n",
       "  }\n",
       "</style>\n",
       "\n",
       "      <script>\n",
       "        async function quickchart(key) {\n",
       "          const quickchartButtonEl =\n",
       "            document.querySelector('#' + key + ' button');\n",
       "          quickchartButtonEl.disabled = true;  // To prevent multiple clicks.\n",
       "          quickchartButtonEl.classList.add('colab-df-spinner');\n",
       "          try {\n",
       "            const charts = await google.colab.kernel.invokeFunction(\n",
       "                'suggestCharts', [key], {});\n",
       "          } catch (error) {\n",
       "            console.error('Error during call to suggestCharts:', error);\n",
       "          }\n",
       "          quickchartButtonEl.classList.remove('colab-df-spinner');\n",
       "          quickchartButtonEl.classList.add('colab-df-quickchart-complete');\n",
       "        }\n",
       "        (() => {\n",
       "          let quickchartButtonEl =\n",
       "            document.querySelector('#df-ccc9cae1-26cf-4ac6-ab0d-94bb27164301 button');\n",
       "          quickchartButtonEl.style.display =\n",
       "            google.colab.kernel.accessAllowed ? 'block' : 'none';\n",
       "        })();\n",
       "      </script>\n",
       "    </div>\n",
       "\n",
       "    </div>\n",
       "  </div>\n"
      ],
      "text/plain": [
       "Ticker          AAPL      AMZN      GOOG       JNJ       JPM      META  \\\n",
       "Date                                                                     \n",
       "2024-08-02  0.006846 -0.091948 -0.023765  0.020807 -0.043338 -0.019476   \n",
       "2024-08-05 -0.049366 -0.041840 -0.047176 -0.017764 -0.021522 -0.025752   \n",
       "2024-08-06 -0.009796  0.005635 -0.000623 -0.014240  0.027529  0.037867   \n",
       "2024-08-07  0.012421  0.005174  0.001307 -0.000440  0.000299 -0.010519   \n",
       "2024-08-08  0.016496  0.018444  0.019040  0.008273  0.018099  0.041486   \n",
       "\n",
       "Ticker          MSFT      NVDA      TSLA       XOM  \n",
       "Date                                                \n",
       "2024-08-02 -0.020883 -0.017924 -0.043302 -0.000599  \n",
       "2024-08-05 -0.033202 -0.065689 -0.043249 -0.018218  \n",
       "2024-08-06  0.011224  0.037132  0.008811 -0.005329  \n",
       "2024-08-07 -0.002957 -0.052581 -0.045268  0.013227  \n",
       "2024-08-08  0.010635  0.059464  0.036256  0.018924  "
      ]
     },
     "execution_count": 7,
     "metadata": {},
     "output_type": "execute_result"
    }
   ],
   "source": [
    "# Compute log returns\n",
    "import numpy as np\n",
    "\n",
    "log_returns = np.log(df_data/df_data.shift(1)).dropna()\n",
    "print(\"log returns \")\n",
    "log_returns.head()"
   ]
  },
  {
   "cell_type": "markdown",
   "metadata": {
    "id": "lwZNy-Nxz9aP"
   },
   "source": [
    "---\n",
    "\n",
    "The risk or volatility associated with a stock can be quantified by the standard deviation of the log returns of that stock.\n",
    "\n",
    "First, compute the volatility in the log returns of TSLA. Then, compute the volatility in the log returns of the all the stocks and plot them in a bar plot in descending order.\n",
    "\n",
    "---"
   ]
  },
  {
   "cell_type": "code",
   "execution_count": null,
   "metadata": {
    "colab": {
     "base_uri": "https://localhost:8080/"
    },
    "executionInfo": {
     "elapsed": 41,
     "status": "ok",
     "timestamp": 1756356599668,
     "user": {
      "displayName": "Tushar Raj",
      "userId": "04399146470560759060"
     },
     "user_tz": -330
    },
    "id": "YRwGZZKDf-4o",
    "outputId": "592c597e-b06c-45c6-d69e-9ddd7aaeb29b"
   },
   "outputs": [
    {
     "name": "stdout",
     "output_type": "stream",
     "text": [
      "0.04491792081038267\n"
     ]
    }
   ],
   "source": [
    "# print(log_returns.columns)\n",
    "tesla_log_returns = log_returns['TSLA']\n",
    "print(np.std(tesla_log_returns))"
   ]
  },
  {
   "cell_type": "code",
   "execution_count": null,
   "metadata": {
    "colab": {
     "base_uri": "https://localhost:8080/",
     "height": 680
    },
    "executionInfo": {
     "elapsed": 370,
     "status": "ok",
     "timestamp": 1756356601499,
     "user": {
      "displayName": "Tushar Raj",
      "userId": "04399146470560759060"
     },
     "user_tz": -330
    },
    "id": "Z-XM7M-_0Bm1",
    "outputId": "2f5bbac1-4be3-4870-8af8-095fd4e7499f"
   },
   "outputs": [
    {
     "name": "stdout",
     "output_type": "stream",
     "text": [
      "Volatility in the log returns of TSLA = 0.04491792081038267\n",
      "Volatility in the log returns of all stocks =\n",
      " Ticker\n",
      "TSLA    0.045008\n",
      "NVDA    0.034123\n",
      "META    0.022929\n",
      "AMZN    0.021501\n",
      "AAPL    0.019815\n",
      "GOOG    0.019647\n",
      "JPM     0.017553\n",
      "MSFT    0.015702\n",
      "XOM     0.015349\n",
      "JNJ     0.012190\n",
      "dtype: float64\n"
     ]
    },
    {
     "data": {
      "image/png": "[encoded data removed]",
      "text/plain": [
       "<Figure size 600x400 with 1 Axes>"
      ]
     },
     "metadata": {},
     "output_type": "display_data"
    }
   ],
   "source": [
    "# Compute standard deviation a.k.a. volatility a.k.a. risk of TSLA\n",
    "a = log_returns['TSLA']\n",
    "volatility_TSLA = np.std(a)\n",
    "print(f'Volatility in the log returns of TSLA = {volatility_TSLA}')\n",
    "\n",
    "# All stocks volatilities\n",
    "volatilities = log_returns.std()\n",
    "volatilities = volatilities.sort_values(ascending=False)\n",
    "print(f'Volatility in the log returns of all stocks =\\n {volatilities}')\n",
    "\n",
    "# plot volatilities\n",
    "fig, ax = plt.subplots(1, 1, figsize = (6, 4))\n",
    "ax.bar(volatilities.index, volatilities.values)\n",
    "ax.set_xlabel('Company')\n",
    "plt.setp(ax.get_xticklabels(),rotation=45,ha='right')\n",
    "ax.set_ylabel('Volatility')\n",
    "ax.set_title('Volatility (Std Dev) of Stocks');"
   ]
  },
  {
   "cell_type": "markdown",
   "metadata": {
    "id": "siWXCKtjBiAV"
   },
   "source": [
    "---\n",
    "\n",
    "The covariance between two vectors is a measure of how the two vectors co-vary about their respective means. It is calculated as the average dot product of their mean-centered versions. If $\\mathbf{a}_{mc}$ and $\\mathbf{b}_{mc}$ represent the mean-centered versions of vectors $\\mathbf{a}$ and $\\mathbf{b},$ respectively, then the covariance between $\\mathbf{a}$ and $\\mathbf{b}$ is denoted and calculated as $$\\text{cov}(\\mathbf{a},\\mathbf{b}) = \\frac{1}{n}\\times\\left(\\mathbf{a}_{mc}\\cdot\\mathbf{b}_{mc}\\right).$$\n",
    "\n",
    "In the component plot below of mean-centered heart rate and blood pressure values, it can be seen that the heart rates and blood pressures of the patients are co-varying similarly; that is, as the heart rate increases or decreases w.r.t. the average heart rate from one patient to another, the blood pressure also typically does the same w.r.t the average blood pressure.\n",
    "\n",
    "![Covariance](https://1drv.ms/i/c/37720f927b6ddc34/IQTLFeKh-TzhSpSSm3swzRsaAarPH-HPV-j9tmHPV7eiDuY?width=375&height=580)\n",
    "\n",
    "Calculate the covariance between the log returns of AAPL and AMZN. Does it indicate that those stocks co-vary similarly?\n",
    "\n",
    "Make component plots of the log returns of AAPL and AMZN. Do you see the stocks co-varying similarly?\n",
    "\n",
    "Modify the component plots to show the mean-centered log returns. Now do you see the stocks co-varying similarly?\n",
    "\n",
    "\n",
    "\n",
    "---"
   ]
  },
  {
   "cell_type": "code",
   "execution_count": null,
   "metadata": {
    "colab": {
     "base_uri": "https://localhost:8080/",
     "height": 889
    },
    "executionInfo": {
     "elapsed": 425,
     "status": "ok",
     "timestamp": 1756356605340,
     "user": {
      "displayName": "Tushar Raj",
      "userId": "04399146470560759060"
     },
     "user_tz": -330
    },
    "id": "Z0TCVUv9B2RS",
    "outputId": "4f359e42-1ff5-4a6d-dee8-526c7c4dfd27"
   },
   "outputs": [
    {
     "name": "stdout",
     "output_type": "stream",
     "text": [
      "Covariance between AAPL and AMZN log returns = 0.00024568434035628664\n"
     ]
    },
    {
     "data": {
      "image/png": "[encoded data removed]",
      "text/plain": [
       "<Figure size 600x1000 with 1 Axes>"
      ]
     },
     "metadata": {},
     "output_type": "display_data"
    }
   ],
   "source": [
    "# Covariance between log returns of APPL and AMZN\n",
    "a = log_returns['AAPL'].values\n",
    "a_mc = a-np.mean(a)\n",
    "b = log_returns['AMZN'].values\n",
    "b_mc = b-np.mean(b)\n",
    "cov = np.dot(a_mc,b_mc)/len(a) #can use np.cov(a,b)\n",
    "print(f'Covariance between AAPL and AMZN log returns = {cov}');\n",
    "\n",
    "# Component plot of the log returns of AAPL and AMZN\n",
    "fig, ax = plt.subplots(1, 1, figsize = (6, 10))\n",
    "component_index = range(0, len(log_returns))\n",
    "ax.plot(component_index, a, color = 'red', marker = '*')\n",
    "ax.plot(component_index, b, color = 'blue', marker = '*')\n",
    "ax.set_xlabel('Day')\n",
    "ax.set_ylabel('Log Returns')\n",
    "ax.set_title( 'Log Returns of AAPL and AMZN');"
   ]
  },
  {
   "cell_type": "markdown",
   "metadata": {
    "id": "WJ2_XcGAY2Lc"
   },
   "source": [
    "---\n",
    "\n",
    "Compute the covariance between all pairs of log returns. The resulting matrix, denoted as $\\pmb{\\Sigma}$ is called the covariance matrix.\n",
    "\n",
    "From that matrix, are you able to identify stocks that co-vary?\n",
    "\n",
    "---"
   ]
  },
  {
   "cell_type": "code",
   "execution_count": null,
   "metadata": {
    "colab": {
     "base_uri": "https://localhost:8080/"
    },
    "executionInfo": {
     "elapsed": 26,
     "status": "ok",
     "timestamp": 1756356607661,
     "user": {
      "displayName": "Tushar Raj",
      "userId": "04399146470560759060"
     },
     "user_tz": -330
    },
    "id": "w8oGMdzlZB0G",
    "outputId": "86ffeeca-a278-4f5a-f9d3-5ccd709268ca"
   },
   "outputs": [
    {
     "name": "stdout",
     "output_type": "stream",
     "text": [
      "Ticker      AAPL      AMZN      GOOG       JNJ       JPM      META      MSFT  \\\n",
      "Ticker                                                                         \n",
      "AAPL    0.000393  0.000247  0.000193  0.000021  0.000164  0.000250  0.000175   \n",
      "AMZN    0.000247  0.000462  0.000272 -0.000039  0.000211  0.000364  0.000242   \n",
      "GOOG    0.000193  0.000272  0.000386 -0.000032  0.000140  0.000242  0.000167   \n",
      "JNJ     0.000021 -0.000039 -0.000032  0.000149  0.000019 -0.000047 -0.000027   \n",
      "JPM     0.000164  0.000211  0.000140  0.000019  0.000308  0.000188  0.000123   \n",
      "META    0.000250  0.000364  0.000242 -0.000047  0.000188  0.000526  0.000244   \n",
      "MSFT    0.000175  0.000242  0.000167 -0.000027  0.000123  0.000244  0.000247   \n",
      "NVDA    0.000299  0.000426  0.000340 -0.000108  0.000249  0.000439  0.000335   \n",
      "TSLA    0.000428  0.000514  0.000464 -0.000030  0.000364  0.000498  0.000328   \n",
      "XOM     0.000122  0.000077  0.000058  0.000039  0.000106  0.000080  0.000035   \n",
      "\n",
      "Ticker      NVDA      TSLA       XOM  \n",
      "Ticker                                \n",
      "AAPL    0.000299  0.000428  0.000122  \n",
      "AMZN    0.000426  0.000514  0.000077  \n",
      "GOOG    0.000340  0.000464  0.000058  \n",
      "JNJ    -0.000108 -0.000030  0.000039  \n",
      "JPM     0.000249  0.000364  0.000106  \n",
      "META    0.000439  0.000498  0.000080  \n",
      "MSFT    0.000335  0.000328  0.000035  \n",
      "NVDA    0.001164  0.000704  0.000103  \n",
      "TSLA    0.000704  0.002026  0.000126  \n",
      "XOM     0.000103  0.000126  0.000236  \n"
     ]
    }
   ],
   "source": [
    "# Covariance matrix matrix of log returns\n",
    "covmatrix = log_returns.cov()\n",
    "print(covmatrix)"
   ]
  },
  {
   "cell_type": "markdown",
   "metadata": {
    "id": "4TBk1_U24Cy1"
   },
   "source": [
    "---\n",
    "\n",
    "The correlation coefficient between two vectors $\\mathbf{a}$ and $\\mathbf{c}$ is a normalized measure (between -1 and 1) of their covariance which is denoted and calculated as $$\\text{cor}(\\mathbf{a},\\mathbf{b}) = \\frac{\\left(\\mathbf{a}_{mc}\\cdot\\mathbf{b}_{mc}\\right)}{\\lVert \\mathbf{a}_{mc}\\rVert_2\\lVert\\mathbf{b}_{mc}\\rVert_2}.$$ Note that the cauchy-Schwarz inequality guarantees that the above quantity is between -1 and 1.\n",
    "\n",
    "If the correlation coefficient is close to 1, then as one vector's components increase, the other vectors components also increase typically along a straight line. If the correlation coefficient is close to -1, then as one vector's components increase, the other vectors components decrease typically along a straight line.\n",
    "\n",
    "Compute the correlation coefficient between the log returns of AAPL and AMZN. Does it indicate that those stocks co-vary similarly?\n",
    "\n",
    "Make a scatter plot of the log returns of AAPL and AMZN. Does the plot indicate that the two stocks co-vary similarly?\n",
    "\n",
    "---"
   ]
  },
  {
   "cell_type": "code",
   "execution_count": null,
   "metadata": {
    "colab": {
     "base_uri": "https://localhost:8080/",
     "height": 427
    },
    "executionInfo": {
     "elapsed": 191,
     "status": "ok",
     "timestamp": 1756356610302,
     "user": {
      "displayName": "Tushar Raj",
      "userId": "04399146470560759060"
     },
     "user_tz": -330
    },
    "id": "LAY02c5Q7vgQ",
    "outputId": "defc69a8-9970-4742-c53e-cdff7dabcee2"
   },
   "outputs": [
    {
     "name": "stdout",
     "output_type": "stream",
     "text": [
      "Correation coefficient between AAPL and AMZN log returns = [11281390.80351331]\n"
     ]
    },
    {
     "data": {
      "image/png": "[encoded data removed]",
      "text/plain": [
       "<Figure size 600x400 with 1 Axes>"
      ]
     },
     "metadata": {},
     "output_type": "display_data"
    }
   ],
   "source": [
    "# Correlation between APPL and AMZN)\n",
    "corr = np.correlate(dfstock['AAPL'],dfstock['AMZN'])\n",
    "print(f'Correation coefficient between AAPL and AMZN log returns = {corr}')\n",
    "\n",
    "# Scatter plot of the log returns of AAPL and AMZN\n",
    "fig, ax = plt.subplots(1, 1, figsize = (6, 4))\n",
    "ax.scatter(log_returns['AMZN'], log_returns['AAPL'], 10)\n",
    "ax.set_xlabel('AMZN')\n",
    "ax.set_ylabel('AAPL')\n",
    "ax.set_title('Log Returns of Stock Prices');"
   ]
  },
  {
   "cell_type": "code",
   "execution_count": null,
   "metadata": {
    "colab": {
     "base_uri": "https://localhost:8080/",
     "height": 427
    },
    "executionInfo": {
     "elapsed": 186,
     "status": "ok",
     "timestamp": 1756356612722,
     "user": {
      "displayName": "Tushar Raj",
      "userId": "04399146470560759060"
     },
     "user_tz": -330
    },
    "id": "BPRFAjEgAkYD",
    "outputId": "fce7b8c4-5673-4321-932f-14bcc00a254c"
   },
   "outputs": [
    {
     "name": "stdout",
     "output_type": "stream",
     "text": [
      "Correation coefficient between AAPL and AMZN log returns = [31239230.34428975]\n"
     ]
    },
    {
     "data": {
      "image/png": "[encoded data removed]",
      "text/plain": [
       "<Figure size 600x400 with 1 Axes>"
      ]
     },
     "metadata": {},
     "output_type": "display_data"
    }
   ],
   "source": [
    "# Correlation between APPL and AMZN)\n",
    "corr = np.correlate(dfstock['AMZN'],dfstock['META'])\n",
    "print(f'Correation coefficient between AAPL and AMZN log returns = {corr}')\n",
    "\n",
    "# Scatter plot of the log returns of AAPL and AMZN\n",
    "fig, ax = plt.subplots(1, 1, figsize = (6, 4))\n",
    "ax.scatter(log_returns['AMZN'], log_returns['META'], 10)\n",
    "ax.set_xlabel('AMZN')\n",
    "ax.set_ylabel('META')\n",
    "ax.set_title('Log Returns of Stock Prices');"
   ]
  },
  {
   "cell_type": "markdown",
   "metadata": {
    "id": "l1Mr7Em1Urnf"
   },
   "source": [
    "---\n",
    "\n",
    "Compute the correlation coefficient between all pairs of log returns and visualize the resulting correlation matrix. From that, identify stocks that co-vary typically.\n",
    "\n",
    "---"
   ]
  },
  {
   "cell_type": "code",
   "execution_count": null,
   "metadata": {
    "colab": {
     "base_uri": "https://localhost:8080/",
     "height": 501
    },
    "executionInfo": {
     "elapsed": 381,
     "status": "ok",
     "timestamp": 1756356615889,
     "user": {
      "displayName": "Tushar Raj",
      "userId": "04399146470560759060"
     },
     "user_tz": -330
    },
    "id": "7WInIgqNUsH7",
    "outputId": "cb9bb4ac-31b7-46fe-c192-35a2271921c1"
   },
   "outputs": [
    {
     "data": {
      "image/png": "[encoded data removed]",
      "text/plain": [
       "<Figure size 640x480 with 2 Axes>"
      ]
     },
     "metadata": {},
     "output_type": "display_data"
    }
   ],
   "source": [
    "# Correlation matrix of log returns\n",
    "corrmatrix = log_returns.corr()\n",
    "sns.heatmap(corrmatrix,cmap='coolwarm',annot=True);\n",
    "plt.title(\"Correlation Between Stocks\")\n",
    "plt.show()"
   ]
  },
  {
   "cell_type": "markdown",
   "metadata": {
    "id": "PEsZixQiWfeJ"
   },
   "source": [
    "---\n",
    "\n",
    "The average log return (or simply return) associated with a stock (AAPL) is simply the average or mean of the log returns of the that stock. For example, if we denote the log returns of AAPL as an $n$-vector $\\mathbf{a},$ then its average log return in pen & paper can be written as $$\\frac{1}{n}\\times\\left(a_1+a_2+\\cdots+a_n\\right) = \\frac{1}{n}\\times\\left(\\pmb{1}\\cdot\\mathbf{a}\\right),$$ where $\\pmb{1}$ is an $n$-vector whose elements are all equal to ones.\n",
    "\n",
    "For a blended investment on the 10 stocks (called a portfolio) with weights that add up to 1 and represented as the vector $$\\mathbf{w}=\\begin{bmatrix}w_1\\\\w_2\\\\w_3\\\\\\vdots\\\\w_{10}\\end{bmatrix},$$\n",
    "- the averate return can be shown to be $\\mathbf{w}\\cdot\\mathbf{r},$ where $\\mathbf{r}$ is the vector of average returns of all the 10 stocks;\n",
    "- the overall risk (or simply risk) in the portfolio is $\\mathbf{w}\\cdot\\left(\\pmb{\\Sigma}\\mathbf{w}\\right),$ which takes into account the individual volatility of each stock and their co-movement w.r.t. the other stocks.\n",
    "\n",
    "Try to come up with a portfolio (that is, values for the components of the weights vector $\\mathbf{w})$ that results in the best return-to-risk ratio. The best return-to-risk ratio is also referred to as the sharpe ratio.\n",
    "\n",
    "---"
   ]
  },
  {
   "cell_type": "code",
   "execution_count": null,
   "metadata": {
    "colab": {
     "base_uri": "https://localhost:8080/",
     "height": 321
    },
    "executionInfo": {
     "elapsed": 21,
     "status": "error",
     "timestamp": 1756304738861,
     "user": {
      "displayName": "Tushar Raj",
      "userId": "04399146470560759060"
     },
     "user_tz": -330
    },
    "id": "oX-tMCqIc7ms",
    "outputId": "6780a912-4b05-497a-e4df-337e772b2e63"
   },
   "outputs": [
    {
     "ename": "TypeError",
     "evalue": "ufunc 'divide' not supported for the input types, and the inputs could not be safely coerced to any supported types according to the casting rule ''safe''",
     "output_type": "error",
     "traceback": [
      "\u001b[0;31m---------------------------------------------------------------------------\u001b[0m",
      "\u001b[0;31mTypeError\u001b[0m                                 Traceback (most recent call last)",
      "\u001b[0;32m/tmp/ipython-input-864092678.py\u001b[0m in \u001b[0;36m<cell line: 0>\u001b[0;34m()\u001b[0m\n\u001b[1;32m      1\u001b[0m \u001b[0;31m# Optimizing portfolio\u001b[0m\u001b[0;34m\u001b[0m\u001b[0;34m\u001b[0m\u001b[0m\n\u001b[1;32m      2\u001b[0m \u001b[0mavg_ret\u001b[0m \u001b[0;34m=\u001b[0m \u001b[0mcorrmatrix\u001b[0m\u001b[0;34m\u001b[0m\u001b[0;34m\u001b[0m\u001b[0m\n\u001b[0;32m----> 3\u001b[0;31m \u001b[0mnp\u001b[0m\u001b[0;34m.\u001b[0m\u001b[0mmean\u001b[0m\u001b[0;34m(\u001b[0m\u001b[0mlog_returns\u001b[0m\u001b[0;34m.\u001b[0m\u001b[0mcolumns\u001b[0m\u001b[0;34m)\u001b[0m\u001b[0;34m\u001b[0m\u001b[0;34m\u001b[0m\u001b[0m\n\u001b[0m",
      "\u001b[0;32m/usr/local/lib/python3.12/dist-packages/numpy/_core/fromnumeric.py\u001b[0m in \u001b[0;36mmean\u001b[0;34m(a, axis, dtype, out, keepdims, where)\u001b[0m\n\u001b[1;32m   3594\u001b[0m             \u001b[0;32mreturn\u001b[0m \u001b[0mmean\u001b[0m\u001b[0;34m(\u001b[0m\u001b[0maxis\u001b[0m\u001b[0;34m=\u001b[0m\u001b[0maxis\u001b[0m\u001b[0;34m,\u001b[0m \u001b[0mdtype\u001b[0m\u001b[0;34m=\u001b[0m\u001b[0mdtype\u001b[0m\u001b[0;34m,\u001b[0m \u001b[0mout\u001b[0m\u001b[0;34m=\u001b[0m\u001b[0mout\u001b[0m\u001b[0;34m,\u001b[0m \u001b[0;34m**\u001b[0m\u001b[0mkwargs\u001b[0m\u001b[0;34m)\u001b[0m\u001b[0;34m\u001b[0m\u001b[0;34m\u001b[0m\u001b[0m\n\u001b[1;32m   3595\u001b[0m \u001b[0;34m\u001b[0m\u001b[0m\n\u001b[0;32m-> 3596\u001b[0;31m     return _methods._mean(a, axis=axis, dtype=dtype,\n\u001b[0m\u001b[1;32m   3597\u001b[0m                           out=out, **kwargs)\n\u001b[1;32m   3598\u001b[0m \u001b[0;34m\u001b[0m\u001b[0m\n",
      "\u001b[0;32m/usr/local/lib/python3.12/dist-packages/numpy/_core/_methods.py\u001b[0m in \u001b[0;36m_mean\u001b[0;34m(a, axis, dtype, out, keepdims, where)\u001b[0m\n\u001b[1;32m    138\u001b[0m             \u001b[0mret\u001b[0m \u001b[0;34m=\u001b[0m \u001b[0mret\u001b[0m\u001b[0;34m.\u001b[0m\u001b[0mdtype\u001b[0m\u001b[0;34m.\u001b[0m\u001b[0mtype\u001b[0m\u001b[0;34m(\u001b[0m\u001b[0mret\u001b[0m \u001b[0;34m/\u001b[0m \u001b[0mrcount\u001b[0m\u001b[0;34m)\u001b[0m\u001b[0;34m\u001b[0m\u001b[0;34m\u001b[0m\u001b[0m\n\u001b[1;32m    139\u001b[0m     \u001b[0;32melse\u001b[0m\u001b[0;34m:\u001b[0m\u001b[0;34m\u001b[0m\u001b[0;34m\u001b[0m\u001b[0m\n\u001b[0;32m--> 140\u001b[0;31m         \u001b[0mret\u001b[0m \u001b[0;34m=\u001b[0m \u001b[0mret\u001b[0m \u001b[0;34m/\u001b[0m \u001b[0mrcount\u001b[0m\u001b[0;34m\u001b[0m\u001b[0;34m\u001b[0m\u001b[0m\n\u001b[0m\u001b[1;32m    141\u001b[0m \u001b[0;34m\u001b[0m\u001b[0m\n\u001b[1;32m    142\u001b[0m     \u001b[0;32mreturn\u001b[0m \u001b[0mret\u001b[0m\u001b[0;34m\u001b[0m\u001b[0;34m\u001b[0m\u001b[0m\n",
      "\u001b[0;31mTypeError\u001b[0m: ufunc 'divide' not supported for the input types, and the inputs could not be safely coerced to any supported types according to the casting rule ''safe''"
     ]
    }
   ],
   "source": [
    "# Optimizing portfolio\n",
    "avg_ret = corrmatrix\n",
    "np.mean(log_returns.columns)"
   ]
  },
  {
   "cell_type": "code",
   "execution_count": null,
   "metadata": {
    "colab": {
     "base_uri": "https://localhost:8080/"
    },
    "executionInfo": {
     "elapsed": 8,
     "status": "ok",
     "timestamp": 1756356619629,
     "user": {
      "displayName": "Tushar Raj",
      "userId": "04399146470560759060"
     },
     "user_tz": -330
    },
    "id": "86qARb55-LuB",
    "outputId": "7f3771d1-4094-417a-bd59-f97bfb4ee8ec"
   },
   "outputs": [
    {
     "name": "stdout",
     "output_type": "stream",
     "text": [
      "Average log returns of all stocks:\n",
      "Ticker\n",
      "AAPL   -0.000185\n",
      "AMZN    0.000966\n",
      "GOOG    0.000468\n",
      "JNJ     0.000227\n",
      "JPM     0.001510\n",
      "META    0.001784\n",
      "MSFT    0.001019\n",
      "NVDA    0.001960\n",
      "TSLA    0.001413\n",
      "XOM    -0.000049\n",
      "dtype: float64\n"
     ]
    }
   ],
   "source": [
    "# Optimizing portfolio\n",
    "# Calculate the average log returns for each stock\n",
    "avg_returns = log_returns.mean()\n",
    "print(f'Average log returns of all stocks:\\n{avg_returns}')"
   ]
  },
  {
   "cell_type": "code",
   "execution_count": null,
   "metadata": {
    "colab": {
     "base_uri": "https://localhost:8080/"
    },
    "executionInfo": {
     "elapsed": 351,
     "status": "ok",
     "timestamp": 1756356623018,
     "user": {
      "displayName": "Tushar Raj",
      "userId": "04399146470560759060"
     },
     "user_tz": -330
    },
    "id": "rjjflTxsHE5Y",
    "outputId": "a4568441-48d2-4bad-dd0d-f223ba36887e"
   },
   "outputs": [
    {
     "name": "stdout",
     "output_type": "stream",
     "text": [
      "9.467667122102279\n"
     ]
    }
   ],
   "source": [
    "\n",
    "w  = [0,0,0,0.43,0.2,0.17,0.2,0.0,0,0]\n",
    "s = np.array(log_returns.cov())\n",
    "returns = np.dot(w,avg_returns)\n",
    "risk = np.dot(w,np.dot(s,w))\n",
    "print(returns/risk)"
   ]
  },
  {
   "cell_type": "code",
   "execution_count": null,
   "metadata": {
    "colab": {
     "base_uri": "https://localhost:8080/"
    },
    "executionInfo": {
     "elapsed": 14,
     "status": "ok",
     "timestamp": 1756356625442,
     "user": {
      "displayName": "Tushar Raj",
      "userId": "04399146470560759060"
     },
     "user_tz": -330
    },
    "id": "vgIVRLIK-Zkq",
    "outputId": "46e99789-fc87-4ed8-f3b7-5cb4dc9d56a1"
   },
   "outputs": [
    {
     "data": {
      "text/plain": [
       "array([[ 3.92619841e-04,  2.46675003e-04,  1.92986038e-04,\n",
       "         2.06853262e-05,  1.63626478e-04,  2.49960007e-04,\n",
       "         1.75466594e-04,  2.98973233e-04,  4.27982798e-04,\n",
       "         1.22390657e-04],\n",
       "       [ 2.46675003e-04,  4.62306339e-04,  2.72157468e-04,\n",
       "        -3.93540885e-05,  2.10500457e-04,  3.63768836e-04,\n",
       "         2.41531344e-04,  4.26242932e-04,  5.13728208e-04,\n",
       "         7.70767072e-05],\n",
       "       [ 1.92986038e-04,  2.72157468e-04,  3.86002943e-04,\n",
       "        -3.17316724e-05,  1.39759037e-04,  2.41968283e-04,\n",
       "         1.66881666e-04,  3.39822220e-04,  4.64426440e-04,\n",
       "         5.78760763e-05],\n",
       "       [ 2.06853262e-05, -3.93540885e-05, -3.17316724e-05,\n",
       "         1.48599756e-04,  1.85780207e-05, -4.68531823e-05,\n",
       "        -2.74511436e-05, -1.08035907e-04, -3.04866287e-05,\n",
       "         3.93695211e-05],\n",
       "       [ 1.63626478e-04,  2.10500457e-04,  1.39759037e-04,\n",
       "         1.85780207e-05,  3.08115041e-04,  1.88196419e-04,\n",
       "         1.23440592e-04,  2.48992352e-04,  3.63898306e-04,\n",
       "         1.06170791e-04],\n",
       "       [ 2.49960007e-04,  3.63768836e-04,  2.41968283e-04,\n",
       "        -4.68531823e-05,  1.88196419e-04,  5.25735142e-04,\n",
       "         2.44351048e-04,  4.38949840e-04,  4.97722114e-04,\n",
       "         7.97012584e-05],\n",
       "       [ 1.75466594e-04,  2.41531344e-04,  1.66881666e-04,\n",
       "        -2.74511436e-05,  1.23440592e-04,  2.44351048e-04,\n",
       "         2.46555978e-04,  3.34698693e-04,  3.28234564e-04,\n",
       "         3.49958060e-05],\n",
       "       [ 2.98973233e-04,  4.26242932e-04,  3.39822220e-04,\n",
       "        -1.08035907e-04,  2.48992352e-04,  4.38949840e-04,\n",
       "         3.34698693e-04,  1.16439302e-03,  7.04149794e-04,\n",
       "         1.03476775e-04],\n",
       "       [ 4.27982798e-04,  5.13728208e-04,  4.64426440e-04,\n",
       "        -3.04866287e-05,  3.63898306e-04,  4.97722114e-04,\n",
       "         3.28234564e-04,  7.04149794e-04,  2.02575517e-03,\n",
       "         1.25898241e-04],\n",
       "       [ 1.22390657e-04,  7.70767072e-05,  5.78760763e-05,\n",
       "         3.93695211e-05,  1.06170791e-04,  7.97012584e-05,\n",
       "         3.49958060e-05,  1.03476775e-04,  1.25898241e-04,\n",
       "         2.35587687e-04]])"
      ]
     },
     "execution_count": 17,
     "metadata": {},
     "output_type": "execute_result"
    }
   ],
   "source": [
    "# w  = [0.1]*10\n",
    "# s = np.array(log_returns.cov())\n",
    "# returns = np.dot(w,avg_returns)\n",
    "# risk = np.dot(w,np.dot(s,w))\n",
    "# print(returns/risk)\n",
    "s"
   ]
  },
  {
   "cell_type": "code",
   "execution_count": null,
   "metadata": {
    "colab": {
     "base_uri": "https://localhost:8080/"
    },
    "executionInfo": {
     "elapsed": 5,
     "status": "ok",
     "timestamp": 1756188922551,
     "user": {
      "displayName": "Tushar Raj",
      "userId": "04399146470560759060"
     },
     "user_tz": -330
    },
    "id": "lBDKbNya_JYq",
    "outputId": "9a1cd38b-848e-4c64-da7c-e7ed9c4df6b1"
   },
   "outputs": [
    {
     "name": "stdout",
     "output_type": "stream",
     "text": [
      "3.0407578874299004\n"
     ]
    }
   ],
   "source": [
    "w  = [0.1,0.3,0,0,0,0.3,0.1,0.1,0.1,0]\n",
    "s = np.array(log_returns.cov())\n",
    "returns = np.dot(w,avg_returns)\n",
    "risk = np.dot(w,np.dot(s,w))\n",
    "print(returns/risk)"
   ]
  },
  {
   "cell_type": "code",
   "execution_count": null,
   "metadata": {
    "colab": {
     "base_uri": "https://localhost:8080/"
    },
    "executionInfo": {
     "elapsed": 34,
     "status": "ok",
     "timestamp": 1756312205145,
     "user": {
      "displayName": "Tushar Raj",
      "userId": "04399146470560759060"
     },
     "user_tz": -330
    },
    "id": "K_CgkJwVBJI8",
    "outputId": "f36de55e-626b-46e2-c652-3de931ceeb4c"
   },
   "outputs": [
    {
     "name": "stdout",
     "output_type": "stream",
     "text": [
      "9.467666918651002\n"
     ]
    }
   ],
   "source": [
    "w  = [0,0,0,0.43,0.2,0.17,0.2,0,0,0]\n",
    "s = np.array(log_returns.cov())\n",
    "returns = np.dot(w,avg_returns)\n",
    "risk = np.dot(w,np.dot(s,w))\n",
    "print(returns/risk)"
   ]
  },
  {
   "cell_type": "code",
   "execution_count": null,
   "metadata": {
    "colab": {
     "base_uri": "https://localhost:8080/"
    },
    "executionInfo": {
     "elapsed": 6,
     "status": "ok",
     "timestamp": 1756189392004,
     "user": {
      "displayName": "Tushar Raj",
      "userId": "04399146470560759060"
     },
     "user_tz": -330
    },
    "id": "P43fedAeCAw9",
    "outputId": "28b67de7-9bb6-4cec-b0f0-c1b4d6b6c9da"
   },
   "outputs": [
    {
     "name": "stdout",
     "output_type": "stream",
     "text": [
      "5.6487307467852395\n"
     ]
    }
   ],
   "source": [
    "w  = [0,0,0,0.7,0,0.0,0.0,0.3,0,0]\n",
    "s = np.array(log_returns.cov())\n",
    "returns = np.dot(w,avg_returns)\n",
    "risk = np.dot(w,np.dot(s,w))\n",
    "print(returns/risk)"
   ]
  },
  {
   "cell_type": "code",
   "execution_count": null,
   "metadata": {
    "colab": {
     "base_uri": "https://localhost:8080/"
    },
    "executionInfo": {
     "elapsed": 50,
     "status": "ok",
     "timestamp": 1756189405540,
     "user": {
      "displayName": "Tushar Raj",
      "userId": "04399146470560759060"
     },
     "user_tz": -330
    },
    "id": "zgQXAohfC4P0",
    "outputId": "0193d11b-d087-406a-a30b-64fe07db8800"
   },
   "outputs": [
    {
     "name": "stdout",
     "output_type": "stream",
     "text": [
      "5.565852040716294\n"
     ]
    }
   ],
   "source": [
    "w  = [0,0,0,0.7,0,0.0,0.3,0,0,0]\n",
    "s = np.array(log_returns.cov())\n",
    "returns = np.dot(w,avg_returns)\n",
    "risk = np.dot(w,np.dot(s,w))\n",
    "print(returns/risk)"
   ]
  },
  {
   "cell_type": "code",
   "execution_count": null,
   "metadata": {
    "colab": {
     "base_uri": "https://localhost:8080/"
    },
    "executionInfo": {
     "elapsed": 646,
     "status": "ok",
     "timestamp": 1756307207593,
     "user": {
      "displayName": "Tushar Raj",
      "userId": "04399146470560759060"
     },
     "user_tz": -330
    },
    "id": "0W6fcEHJCJa8",
    "outputId": "d9ddd143-c200-42d2-8275-2a28ce958002"
   },
   "outputs": [
    {
     "name": "stdout",
     "output_type": "stream",
     "text": [
      "9.2893294218927\n"
     ]
    }
   ],
   "source": [
    "w  = [\n",
    "    0,\n",
    "    0,\n",
    "    0,\n",
    "    0.5,\n",
    "    0.15,\n",
    "    0.20,\n",
    "    0.15,\n",
    "    0,\n",
    "    0,\n",
    "    0\n",
    "    ]\n",
    "s = np.array(log_returns.cov())\n",
    "returns = np.dot(w,avg_returns)\n",
    "risk = np.dot(w,np.dot(s,w))\n",
    "print(returns/risk)"
   ]
  },
  {
   "cell_type": "code",
   "execution_count": null,
   "metadata": {
    "colab": {
     "base_uri": "https://localhost:8080/"
    },
    "executionInfo": {
     "elapsed": 852,
     "status": "ok",
     "timestamp": 1756307506793,
     "user": {
      "displayName": "Tushar Raj",
      "userId": "04399146470560759060"
     },
     "user_tz": -330
    },
    "id": "vY9zqGiqEZOP",
    "outputId": "d9578b9b-eae1-4686-d08a-c99f35e8b880"
   },
   "outputs": [
    {
     "name": "stdout",
     "output_type": "stream",
     "text": [
      "8.857420198200042\n"
     ]
    }
   ],
   "source": [
    "w  = [\n",
    "    0,\n",
    "    0,\n",
    "    0,\n",
    "    0.5,\n",
    "    0.20,\n",
    "    0.15,\n",
    "    0.10,\n",
    "    0.05,\n",
    "    0,\n",
    "    0\n",
    "    ]\n",
    "s = np.array(log_returns.cov())\n",
    "returns = np.dot(w,avg_returns)\n",
    "risk = np.dot(w,np.dot(s,w))\n",
    "print(returns/risk)"
   ]
  },
  {
   "cell_type": "code",
   "execution_count": null,
   "metadata": {
    "colab": {
     "base_uri": "https://localhost:8080/"
    },
    "executionInfo": {
     "elapsed": 53,
     "status": "ok",
     "timestamp": 1756312871552,
     "user": {
      "displayName": "Tushar Raj",
      "userId": "04399146470560759060"
     },
     "user_tz": -330
    },
    "id": "fDIAfcI0Z5U-",
    "outputId": "34c87b0e-65e6-4e6b-d834-fb9f8b785281"
   },
   "outputs": [
    {
     "name": "stdout",
     "output_type": "stream",
     "text": [
      "9.467666918651002\n"
     ]
    }
   ],
   "source": [
    "w  = [0,0,0,0.43,0.2,0.17,0.2,0,0,0]\n",
    "s = np.array(log_returns.cov())\n",
    "returns = np.dot(w,avg_returns)\n",
    "risk = np.dot(w,np.dot(s,w))\n",
    "print(returns/risk)"
   ]
  },
  {
   "cell_type": "code",
   "execution_count": null,
   "metadata": {
    "colab": {
     "base_uri": "https://localhost:8080/"
    },
    "executionInfo": {
     "elapsed": 2809,
     "status": "ok",
     "timestamp": 1756312909339,
     "user": {
      "displayName": "Tushar Raj",
      "userId": "04399146470560759060"
     },
     "user_tz": -330
    },
    "id": "RNX7o5MVYRRs",
    "outputId": "0c6f1931-0b71-4240-f2e6-474b9950fd32"
   },
   "outputs": [
    {
     "name": "stderr",
     "output_type": "stream",
     "text": [
      "/tmp/ipython-input-3317317867.py:12: FutureWarning: Series.__getitem__ treating keys as positions is deprecated. In a future version, integer keys will always be treated as labels (consistent with DataFrame behavior). To access a value by position, use `ser.iloc[pos]`\n",
      "  mu = torch.tensor(r, dtype=torch.float32)                         # shape (n,)\n"
     ]
    },
    {
     "name": "stdout",
     "output_type": "stream",
     "text": [
      "Optimized weights: [1.4763487e-11 2.5315047e-11 4.4200907e-11 4.5260465e-01 2.0599753e-01\n",
      " 1.1888908e-01 1.9952710e-01 2.2981685e-02 1.4248748e-11 4.1600594e-11]\n",
      "Portfolio return: 0.0008742886829076988\n",
      "Portfolio risk: 9.137777211042439e-05\n",
      "Return/Risk ratio: 9.56784853378976\n"
     ]
    }
   ],
   "source": [
    "import torch\n",
    "import numpy as np\n",
    "\n",
    "# ==== Fill these with your data ====\n",
    "r = avg_returns     # average log returns\n",
    "s = np.array(log_returns.cov())  # covariance matrix\n",
    "w0  = [0,0,0,0.43,0.2,0.17,0.2,0,0,0]\n",
    "\n",
    "n_assets = len(r)\n",
    "\n",
    "# Convert to torch tensors (force float32)\n",
    "mu = torch.tensor(r, dtype=torch.float32)                         # shape (n,)\n",
    "Sigma = torch.tensor(s, dtype=torch.float32)                      # shape (n,n)\n",
    "\n",
    "# Initialize weights (use logits for softmax)\n",
    "w_raw = torch.log(torch.tensor(w0, dtype=torch.float32) + 1e-8)\n",
    "w_raw = torch.nn.Parameter(w_raw)\n",
    "\n",
    "optimizer = torch.optim.Adam([w_raw], lr=0.05)\n",
    "\n",
    "def objective(w, mu, Sigma, eps=1e-9):\n",
    "    port_ret = torch.dot(w, mu)              # scalar\n",
    "    port_risk = torch.matmul(w, torch.matmul(Sigma, w))  # scalar\n",
    "    ratio = port_ret / (port_risk + eps)\n",
    "    return -ratio    # we minimize negative ratio\n",
    "\n",
    "# Training loop\n",
    "for step in range(2000):\n",
    "    optimizer.zero_grad()\n",
    "    w = torch.softmax(w_raw, dim=0)          # weights sum to 1\n",
    "    loss = objective(w, mu, Sigma)\n",
    "    loss.backward()\n",
    "    optimizer.step()\n",
    "\n",
    "# Final results\n",
    "w_opt = torch.softmax(w_raw, dim=0).detach().numpy()\n",
    "final_ret = w_opt @ r\n",
    "final_risk = w_opt @ s @ w_opt\n",
    "final_ratio = final_ret / final_risk\n",
    "\n",
    "print(\"Optimized weights:\", w_opt)\n",
    "print(\"Portfolio return:\", final_ret)\n",
    "print(\"Portfolio risk:\", final_risk)\n",
    "print(\"Return/Risk ratio:\", final_ratio)"
   ]
  },
  {
   "cell_type": "code",
   "execution_count": null,
   "metadata": {
    "colab": {
     "base_uri": "https://localhost:8080/"
    },
    "executionInfo": {
     "elapsed": 2444,
     "status": "ok",
     "timestamp": 1756313093250,
     "user": {
      "displayName": "Tushar Raj",
      "userId": "04399146470560759060"
     },
     "user_tz": -330
    },
    "id": "O6I7pirfavCY",
    "outputId": "ec53d778-4660-4283-9f03-bf18a78e67a5"
   },
   "outputs": [
    {
     "name": "stderr",
     "output_type": "stream",
     "text": [
      "/tmp/ipython-input-987068687.py:12: FutureWarning: Series.__getitem__ treating keys as positions is deprecated. In a future version, integer keys will always be treated as labels (consistent with DataFrame behavior). To access a value by position, use `ser.iloc[pos]`\n",
      "  mu = torch.tensor(r, dtype=torch.float32)        # expected returns\n"
     ]
    },
    {
     "name": "stdout",
     "output_type": "stream",
     "text": [
      "Optimized weights: [0.         0.         0.         0.44098723 0.21407458 0.12536237\n",
      " 0.21957585 0.         0.         0.        ]\n",
      "Sum of weights: 1.0\n",
      "Portfolio return: 0.0008707787391238567\n",
      "Portfolio risk: 9.133747938993255e-05\n",
      "Return/Risk ratio: 9.533641008488749\n"
     ]
    }
   ],
   "source": [
    "import torch\n",
    "import numpy as np\n",
    "\n",
    "# ==== Inputs ====\n",
    "r = avg_returns                 # average log returns, shape (n,)\n",
    "s = np.array(log_returns.cov()) # covariance matrix, shape (n,n)\n",
    "w0 = [0,0,0,0.43,0.2,0.17,0.2,0,0,0]  # initial guess\n",
    "\n",
    "n_assets = len(r)\n",
    "\n",
    "# Convert to torch tensors (float32)\n",
    "mu = torch.tensor(r, dtype=torch.float32)        # expected returns\n",
    "Sigma = torch.tensor(s, dtype=torch.float32)     # covariance\n",
    "\n",
    "# Initialize raw weights (logits for softmax)\n",
    "w_raw = torch.log(torch.tensor(w0, dtype=torch.float32) + 1e-8)\n",
    "w_raw = torch.nn.Parameter(w_raw)\n",
    "\n",
    "optimizer = torch.optim.Adam([w_raw], lr=0.05)\n",
    "\n",
    "# === Optional: Mask (1 = allowed asset, 0 = excluded) ===\n",
    "# Example: only allow JNJ, JPM, META, MSFT\n",
    "mask = torch.tensor([0,0,0,1,1,1,1,0,0,0], dtype=torch.float32)\n",
    "\n",
    "def masked_softmax(x, mask):\n",
    "    \"\"\"Softmax with mask so forbidden assets = 0 weight.\"\"\"\n",
    "    x = x + (mask - 1) * 1e9   # push masked logits to -inf\n",
    "    return torch.softmax(x, dim=0)\n",
    "\n",
    "# Objective: maximize return/risk ratio\n",
    "def objective(w, mu, Sigma, eps=1e-9):\n",
    "    port_ret = torch.dot(w, mu)                     # scalar\n",
    "    port_risk = torch.matmul(w, torch.matmul(Sigma, w))  # scalar\n",
    "    ratio = port_ret / (port_risk + eps)\n",
    "    return -ratio    # minimize negative ratio\n",
    "\n",
    "# === Training loop ===\n",
    "for step in range(2000):\n",
    "    optimizer.zero_grad()\n",
    "    w = masked_softmax(w_raw, mask)   # ensures constraints\n",
    "    loss = objective(w, mu, Sigma)\n",
    "    loss.backward()\n",
    "    optimizer.step()\n",
    "\n",
    "# === Results ===\n",
    "w_opt = masked_softmax(w_raw, mask).detach().numpy()\n",
    "final_ret = w_opt @ r\n",
    "final_risk = w_opt @ s @ w_opt\n",
    "final_ratio = final_ret / final_risk\n",
    "\n",
    "print(\"Optimized weights:\", w_opt)\n",
    "print(\"Sum of weights:\", w_opt.sum())   # should be 1.0\n",
    "print(\"Portfolio return:\", final_ret)\n",
    "print(\"Portfolio risk:\", final_risk)\n",
    "print(\"Return/Risk ratio:\", final_ratio)\n"
   ]
  },
  {
   "cell_type": "code",
   "execution_count": null,
   "metadata": {
    "colab": {
     "base_uri": "https://localhost:8080/"
    },
    "executionInfo": {
     "elapsed": 4954,
     "status": "ok",
     "timestamp": 1756363188768,
     "user": {
      "displayName": "Tushar Raj",
      "userId": "04399146470560759060"
     },
     "user_tz": -330
    },
    "id": "Ki9j7_aiEEsm",
    "outputId": "d8729f79-0bd9-47bf-d491-661e7e7ff68e"
   },
   "outputs": [
    {
     "name": "stdout",
     "output_type": "stream",
     "text": [
      "Epoch 0 , loss = -3.7785780959633013\n",
      "Epoch 1000 , loss = -9.524343658195692\n",
      "Epoch 2000 , loss = -9.554888956233185\n",
      "Epoch 3000 , loss = -9.562092944106958\n",
      "Epoch 4000 , loss = -9.564881710651067\n",
      "Epoch 5000 , loss = -9.566205714720542\n",
      "Epoch 6000 , loss = -9.566903409959325\n",
      "Epoch 7000 , loss = -9.567293009072312\n",
      "Epoch 8000 , loss = -9.567517975804765\n",
      "Epoch 9000 , loss = -9.56765046901718\n",
      "tensor([2.1167e-06, 2.1945e-06, 3.8792e-06, 4.5266e-01, 2.0599e-01, 1.1887e-01,\n",
      "        1.9950e-01, 2.2977e-02, 3.1563e-06, 1.9335e-06], dtype=torch.float64,\n",
      "       grad_fn=<SoftmaxBackward0>)\n"
     ]
    }
   ],
   "source": [
    "#coding forward popagration for edjusting the weights\n",
    "\n",
    "r = torch.tensor(log_returns.mean().values, dtype=torch.float64)\n",
    "\n",
    "#inital portfolio weights vector\n",
    "\n",
    "w = torch.tensor(0.1*np.ones(10),dtype=torch.float64,requires_grad=True)\n",
    "\n",
    "cov = np.array(log_returns.cov())\n",
    "s = torch.tensor(cov)\n",
    "\n",
    "#defining a optimizer\n",
    "optimizer = torch.optim.Adam([w],lr=1e-02)\n",
    "\n",
    "def loss_fn(w):\n",
    "  loss=-(torch.dot(w,r)/torch.dot(w,torch.matmul(s,w)))\n",
    "  return loss\n",
    "\n",
    "\n",
    "#optimization loop\n",
    "num_epochs = 10000\n",
    "for i in range(num_epochs):\n",
    "  optimizer.zero_grad()\n",
    "  #loss calculatin (forward propagation)\n",
    "  w_constraint = torch.softmax(w,dim=0)\n",
    "  loss = loss_fn(w_constraint)\n",
    "  #Backward propagraion and optimization\n",
    "  loss.backward()\n",
    "  optimizer.step()\n",
    "\n",
    "  if i%1000 == 0:\n",
    "    print(f'Epoch {i} , loss = {loss.item()}')\n",
    "\n",
    "w = torch.softmax(w,dim=0)\n",
    "print(w.s)\n",
    "print(w)\n"
   ]
  },
  {
   "cell_type": "code",
   "execution_count": null,
   "metadata": {
    "colab": {
     "base_uri": "https://localhost:8080/"
    },
    "executionInfo": {
     "elapsed": 11,
     "status": "ok",
     "timestamp": 1756363188778,
     "user": {
      "displayName": "Tushar Raj",
      "userId": "04399146470560759060"
     },
     "user_tz": -330
    },
    "id": "IfE-CiD1Gsd3",
    "outputId": "76dbd38e-fb8c-48fe-fa68-ea7be2bc8ae9"
   },
   "outputs": [
    {
     "name": "stdout",
     "output_type": "stream",
     "text": [
      "sharp ratio  tensor(9.5677, dtype=torch.float64, grad_fn=<DivBackward0>)\n"
     ]
    }
   ],
   "source": [
    "avg_returns = torch.dot(w,r)\n",
    "ovrall_risk = torch.dot(w,torch.matmul(s,w))\n",
    "sharp = avg_returns/ovrall_risk\n",
    "print('sharp ratio ',sharp)"
   ]
  },
  {
   "cell_type": "code",
   "execution_count": null,
   "metadata": {
    "colab": {
     "base_uri": "https://localhost:8080/"
    },
    "executionInfo": {
     "elapsed": 9,
     "status": "ok",
     "timestamp": 1756364508528,
     "user": {
      "displayName": "Tushar Raj",
      "userId": "04399146470560759060"
     },
     "user_tz": -330
    },
    "id": "AhSql0loeZWr",
    "outputId": "80fbc911-cba5-4e4a-f74b-b445dd9672f6"
   },
   "outputs": [
    {
     "name": "stdout",
     "output_type": "stream",
     "text": [
      "Average training loss = 1.2303940464309857\n"
     ]
    }
   ],
   "source": [
    "X = torch.tensor([[72, 120, 37.3, 104, 32.5],\n",
    "                 [85, 130, 37.0, 110, 14],\n",
    "                 [68, 110, 38.5, 125, 34],\n",
    "                 [90, 140, 38.0, 130, 26],\n",
    "                 [84, 132, 38.3, 146, 30],\n",
    "                 [78, 128, 37.2, 102, 12]], dtype = torch.float64)\n",
    "y = np.array(['non-diabetic',\n",
    "              'diabetic',\n",
    "              'non-diabetic',\n",
    "              'pre-diabetic',\n",
    "              'diabetic',\n",
    "              'pre-diabetic'])\n",
    "\n",
    "W = torch.tensor([[-0.1, 0.5, 0.3],\n",
    "                  [0.9, 0.3, 0.5],\n",
    "                  [-1.5, 0.4, 0.1],\n",
    "                  [0.1, 0.1, -1.0],\n",
    "                  [-1.2, 0.5, -0.8]], dtype = torch.float64)\n",
    "\n",
    "y = y.reshape(-1, 1)\n",
    "ohe = OneHotEncoder(sparse_output = False)\n",
    "Y = torch.tensor(ohe.fit_transform(y), dtype = torch.float64)\n",
    "\n",
    "sc = StandardScaler()\n",
    "X_std = torch.tensor(sc.fit_transform(X), dtype = torch.float64)\n",
    "\n",
    "Z = torch.matmul(X_std, W)\n",
    "\n",
    "softmax = torch.nn.Softmax(dim = 1)\n",
    "A = softmax(Z)\n",
    "\n",
    "L = torch.mean(-torch.log(torch.sum(Y*A, dim=1)))\n",
    "print(f'Average training loss = {L}')"
   ]
  },
  {
   "cell_type": "code",
   "execution_count": null,
   "metadata": {
    "colab": {
     "base_uri": "https://localhost:8080/"
    },
    "executionInfo": {
     "elapsed": 10173,
     "status": "ok",
     "timestamp": 1756365497816,
     "user": {
      "displayName": "Tushar Raj",
      "userId": "04399146470560759060"
     },
     "user_tz": -330
    },
    "id": "a4hlRvMIffBU",
    "outputId": "5ff18050-3c5c-40b7-bcb8-b3ac26d59510"
   },
   "outputs": [
    {
     "name": "stdout",
     "output_type": "stream",
     "text": [
      "Epoch 0 , loss = 1.2303940464309857\n",
      "Epoch 1000 , loss = 0.018399732280405298\n",
      "Epoch 2000 , loss = 0.005553742501022239\n",
      "Epoch 3000 , loss = 0.0024706458206458126\n",
      "Epoch 4000 , loss = 0.0012747228155419502\n",
      "Epoch 5000 , loss = 0.0007065782346071862\n",
      "Epoch 6000 , loss = 0.00040700132319583683\n",
      "Epoch 7000 , loss = 0.0002395832067849751\n",
      "Epoch 8000 , loss = 0.00014282078783290256\n",
      "Epoch 9000 , loss = 8.57742685444377e-05\n",
      "tensor([[  6.7107,  -2.7438,   1.0328],\n",
      "        [ -9.0516,  -3.2974,   6.8151],\n",
      "        [ -5.3327,  -2.6336,  13.2100],\n",
      "        [  5.1068,  -3.9332, -15.8885],\n",
      "        [ -1.4233,   6.5601,  -1.1260]], dtype=torch.float64,\n",
      "       requires_grad=True)\n"
     ]
    }
   ],
   "source": [
    "r = torch.tensor(log_returns.mean().values, dtype=torch.float64)\n",
    "# w = torch.tensor(W,dtype=torch.float64,requires_grad=True)\n",
    "W = torch.tensor([[-0.1, 0.5, 0.3],\n",
    "                  [0.9, 0.3, 0.5],\n",
    "                  [-1.5, 0.4, 0.1],\n",
    "                  [0.1, 0.1, -1.0],\n",
    "                  [-1.2, 0.5, -0.8]], dtype = torch.float64,requires_grad=True)\n",
    "optimizer = torch.optim.Adam([W],lr=1e-02)\n",
    "\n",
    "def loss_fn(w):\n",
    "  Z = torch.matmul(X_std, w)\n",
    "  softmax = torch.nn.Softmax(dim = 1)\n",
    "  A = softmax(Z)\n",
    "  L = torch.mean(-torch.log(torch.sum(Y*A, dim=1)))\n",
    "  return L\n",
    "\n",
    "\n",
    "#optimization loop\n",
    "num_epochs = 10000\n",
    "for i in range(num_epochs):\n",
    "  optimizer.zero_grad()\n",
    "  #loss calculatin (forward propagation)\n",
    "  loss = loss_fn(W)\n",
    "  #Backward propagraion and optimization\n",
    "  loss.backward()\n",
    "  optimizer.step()\n",
    "\n",
    "  if i%1000== 0:\n",
    "    print(f'Epoch {i} , loss = {loss.item()}')\n",
    "print(W)"
   ]
  },
  {
   "cell_type": "code",
   "execution_count": null,
   "metadata": {
    "colab": {
     "base_uri": "https://localhost:8080/"
    },
    "executionInfo": {
     "elapsed": 19,
     "status": "ok",
     "timestamp": 1756823451646,
     "user": {
      "displayName": "Tushar Raj",
      "userId": "04399146470560759060"
     },
     "user_tz": -330
    },
    "id": "WaeQh7sNVXie",
    "outputId": "85daf18a-ee09-48e8-ca8f-fb2df49abaaf"
   },
   "outputs": [
    {
     "name": "stdout",
     "output_type": "stream",
     "text": [
      "[[ 76.  126.   38. ]\n",
      " [ 74.  120.   38. ]\n",
      " [ 72.  118.   37.5]\n",
      " [ 78.  136.   37. ]]\n",
      "[1 1 1]\n",
      "[0.57735027 0.57735027 0.57735027]\n",
      "[138.56406461 133.94526245 131.34718624 144.91491757]\n",
      "[ 75.    125.     37.625]\n",
      "137.19285771618485\n",
      "137.19285771618485\n",
      "26.55729166666677\n",
      "26.55729166666677\n",
      "26.55729166666677\n"
     ]
    }
   ],
   "source": [
    "import numpy as np\n",
    "\n",
    "X = np.array([[76, 126, 38], [74, 120, 38], [72, 118, 37.5], [78, 136, 37.0]])\n",
    "print(X)  # What is this? -> patient matrix\n",
    "\n",
    "v = np.array([1, 1, 1])\n",
    "print(v)  # What is this? -> direction vector\n",
    "\n",
    "v = v / np.linalg.norm(v)\n",
    "print(v)  # What is this? -> unit direction vector\n",
    "\n",
    "print(np.dot(X, v))  # What is this? -> all patient along the direction of the unit\n",
    "\n",
    "mu = np.mean(X, axis=0)\n",
    "print(mu)  # What is this? -> average patient\n",
    "\n",
    "print(np.dot(mu, v))  # What is this? -> average patient along the direction of unit vector\n",
    "\n",
    "print(np.mean(np.dot(X, v)))  # What is this? -> average patient along the direction of unit vector\n",
    "\n",
    "print(np.var(np.dot(X, v)))  # What is this? -> varince\n",
    "\n",
    "print(np.mean(np.square(np.dot(X, v) - np.mean(np.dot(X, v)))))  # What is this? ->varince\n",
    "\n",
    "print(np.mean(np.square(np.dot(X, v) - np.dot(mu, v))))  # What is this? ->varince\n"
   ]
  }
 ],
 "metadata": {
  "colab": {
   "provenance": []
  },
  "kernelspec": {
   "display_name": "ALA",
   "language": "python",
   "name": "python3"
  },
  "language_info": {
   "codemirror_mode": {
    "name": "ipython",
    "version": 3
   },
   "file_extension": ".py",
   "mimetype": "text/x-python",
   "name": "python",
   "nbconvert_exporter": "python",
   "pygments_lexer": "ipython3",
   "version": "3.13.5"
  }
 },
 "nbformat": 4,
 "nbformat_minor": 0
}
